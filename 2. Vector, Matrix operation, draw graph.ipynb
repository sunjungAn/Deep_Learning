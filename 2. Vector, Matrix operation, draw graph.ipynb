{
 "cells": [
  {
   "cell_type": "markdown",
   "id": "corresponding-castle",
   "metadata": {},
   "source": [
    "# Vector, Matrix operation, draw graph\n",
    "\n",
    "+ Tensor : a generalization of multi-dimensional arrays\n",
    "+ Rank : dimension of tensor\n",
    "\n",
    "<example>\n",
    "    rank 0 tensor : scalar\n",
    "    rank 1 tensor : vector\n",
    "    rank 2 tensor : Matrix\n",
    "    rank n tensor ...\n",
    "    \n",
    "  \n",
    "### Usage Package\n",
    "numpy --> import numpy as np\n",
    "\n",
    "\n",
    "### print\n",
    " "
   ]
  },
  {
   "cell_type": "code",
   "execution_count": 3,
   "id": "international-frame",
   "metadata": {},
   "outputs": [],
   "source": [
    "import numpy as np\n",
    "def print_val(x):\n",
    "    print(\"Type:\", type(x))\n",
    "    print(\"Shape:\", x.shape)\n",
    "    print(\"값:\\n\", x)\n",
    "    print(\" \")"
   ]
  },
  {
   "cell_type": "markdown",
   "id": "artistic-service",
   "metadata": {},
   "source": [
    "\n",
    "#### rank 1 np array"
   ]
  },
  {
   "cell_type": "code",
   "execution_count": 4,
   "id": "appointed-trick",
   "metadata": {},
   "outputs": [
    {
     "name": "stdout",
     "output_type": "stream",
     "text": [
      "Type: <class 'numpy.ndarray'>\n",
      "Shape: (3,)\n",
      "값:\n",
      " [1 2 3]\n",
      " \n",
      "Type: <class 'numpy.ndarray'>\n",
      "Shape: (3,)\n",
      "값:\n",
      " [5 2 3]\n",
      " \n"
     ]
    }
   ],
   "source": [
    "x = np.array([1,2,3]) #vector\n",
    "print_val(x)\n",
    "\n",
    "x[0] = 5\n",
    "print_val(x)"
   ]
  },
  {
   "cell_type": "markdown",
   "id": "plastic-carol",
   "metadata": {},
   "source": [
    "\n",
    "#### rank 2 np array"
   ]
  },
  {
   "cell_type": "code",
   "execution_count": 6,
   "id": "local-scout",
   "metadata": {},
   "outputs": [
    {
     "name": "stdout",
     "output_type": "stream",
     "text": [
      "Type: <class 'numpy.ndarray'>\n",
      "Shape: (2, 3)\n",
      "값:\n",
      " [[1 2 3]\n",
      " [4 5 6]]\n",
      " \n"
     ]
    }
   ],
   "source": [
    "y = np.array([[1,2,3],[4,5,6]])\n",
    "print_val(y)"
   ]
  },
  {
   "cell_type": "markdown",
   "id": "dominant-jacksonville",
   "metadata": {},
   "source": [
    "\n",
    "#### rank 2 zeros"
   ]
  },
  {
   "cell_type": "code",
   "execution_count": 7,
   "id": "broad-wallet",
   "metadata": {},
   "outputs": [
    {
     "name": "stdout",
     "output_type": "stream",
     "text": [
      "Type: <class 'numpy.ndarray'>\n",
      "Shape: (2, 2)\n",
      "값:\n",
      " [[0. 0.]\n",
      " [0. 0.]]\n",
      " \n"
     ]
    }
   ],
   "source": [
    "a = np.zeros((2,2))\n",
    "print_val(a)\n"
   ]
  },
  {
   "cell_type": "markdown",
   "id": "metric-snowboard",
   "metadata": {},
   "source": [
    "\n",
    "#### rank 2 ones"
   ]
  },
  {
   "cell_type": "code",
   "execution_count": 8,
   "id": "massive-houston",
   "metadata": {},
   "outputs": [
    {
     "name": "stdout",
     "output_type": "stream",
     "text": [
      "Type: <class 'numpy.ndarray'>\n",
      "Shape: (3, 2)\n",
      "값:\n",
      " [[1. 1.]\n",
      " [1. 1.]\n",
      " [1. 1.]]\n",
      " \n"
     ]
    }
   ],
   "source": [
    "a = np.ones((3,2))\n",
    "print_val(a)\n"
   ]
  },
  {
   "cell_type": "markdown",
   "id": "respected-supplement",
   "metadata": {},
   "source": [
    "\n",
    "#### rank 2  identity matrix"
   ]
  },
  {
   "cell_type": "code",
   "execution_count": 9,
   "id": "missing-yukon",
   "metadata": {},
   "outputs": [
    {
     "name": "stdout",
     "output_type": "stream",
     "text": [
      "Type: <class 'numpy.ndarray'>\n",
      "Shape: (3, 3)\n",
      "값:\n",
      " [[1. 0. 0.]\n",
      " [0. 1. 0.]\n",
      " [0. 0. 1.]]\n",
      " \n"
     ]
    }
   ],
   "source": [
    "a = np.eye(3,3)\n",
    "print_val(a)"
   ]
  },
  {
   "cell_type": "markdown",
   "id": "quick-blackjack",
   "metadata": {},
   "source": [
    "\n",
    "### random matrix(uniform)\n",
    "uniform : All values between 0 and 1 have the same probability of coming out\n"
   ]
  },
  {
   "cell_type": "code",
   "execution_count": 10,
   "id": "impossible-concrete",
   "metadata": {},
   "outputs": [
    {
     "name": "stdout",
     "output_type": "stream",
     "text": [
      "Type: <class 'numpy.ndarray'>\n",
      "Shape: (4, 4)\n",
      "값:\n",
      " [[0.74180036 0.5615169  0.97869981 0.03326433]\n",
      " [0.72523635 0.20713181 0.80865095 0.83733027]\n",
      " [0.71415606 0.12885343 0.65378349 0.70305072]\n",
      " [0.3179825  0.40385868 0.76937174 0.08356035]]\n",
      " \n"
     ]
    }
   ],
   "source": [
    "a = np.random.random((4,4))\n",
    "print_val(a)\n"
   ]
  },
  {
   "cell_type": "markdown",
   "id": "civic-fighter",
   "metadata": {},
   "source": [
    "\n",
    "### random matrix(gaussian)\n",
    "Gaussian : Random values that follow a Gaussian distribution with zero as the mean \n"
   ]
  },
  {
   "cell_type": "code",
   "execution_count": 11,
   "id": "burning-climb",
   "metadata": {},
   "outputs": [
    {
     "name": "stdout",
     "output_type": "stream",
     "text": [
      "Type: <class 'numpy.ndarray'>\n",
      "Shape: (4, 4)\n",
      "값:\n",
      " [[-0.8349989  -0.99527785 -0.85074548 -0.76681264]\n",
      " [-1.35943203 -0.00359944  0.79089079 -0.0855138 ]\n",
      " [-1.79833756 -0.44519314  0.65093091 -0.62821058]\n",
      " [ 0.25242418 -0.04429297  1.74973328  0.31954441]]\n",
      " \n"
     ]
    }
   ],
   "source": [
    "a = np.random.randn(4,4)\n",
    "print_val(a)"
   ]
  },
  {
   "cell_type": "markdown",
   "id": "acute-hydrogen",
   "metadata": {},
   "source": [
    "\n",
    "### np array indexing\n"
   ]
  },
  {
   "cell_type": "code",
   "execution_count": 12,
   "id": "warming-labor",
   "metadata": {},
   "outputs": [
    {
     "name": "stdout",
     "output_type": "stream",
     "text": [
      "Type: <class 'numpy.ndarray'>\n",
      "Shape: (3, 4)\n",
      "값:\n",
      " [[ 1  2  3  4]\n",
      " [ 5  6  7  8]\n",
      " [ 9 10 11 12]]\n",
      " \n"
     ]
    }
   ],
   "source": [
    "a = np.array([[1,2,3,4], [5,6,7,8],[9,10,11,12]])\n",
    "print_val(a)"
   ]
  },
  {
   "cell_type": "code",
   "execution_count": 13,
   "id": "protective-thanksgiving",
   "metadata": {},
   "outputs": [
    {
     "name": "stdout",
     "output_type": "stream",
     "text": [
      "Type: <class 'numpy.ndarray'>\n",
      "Shape: (2, 2)\n",
      "값:\n",
      " [[2 3]\n",
      " [6 7]]\n",
      " \n"
     ]
    }
   ],
   "source": [
    "b = a[:2, 1:3]\n",
    "print_val(b)"
   ]
  },
  {
   "cell_type": "code",
   "execution_count": 14,
   "id": "helpful-queensland",
   "metadata": {},
   "outputs": [
    {
     "name": "stdout",
     "output_type": "stream",
     "text": [
      "Type: <class 'numpy.ndarray'>\n",
      "Shape: (4,)\n",
      "값:\n",
      " [5 6 7 8]\n",
      " \n"
     ]
    }
   ],
   "source": [
    "# n-th row\n",
    "row1 = a[1,:]\n",
    "print_val(row1)"
   ]
  },
  {
   "cell_type": "markdown",
   "id": "formed-apollo",
   "metadata": {},
   "source": [
    "\n",
    "### operations by element in a matrix \n"
   ]
  },
  {
   "cell_type": "code",
   "execution_count": 15,
   "id": "tender-pioneer",
   "metadata": {},
   "outputs": [
    {
     "name": "stdout",
     "output_type": "stream",
     "text": [
      "Type: <class 'numpy.ndarray'>\n",
      "Shape: (2, 2)\n",
      "값:\n",
      " [[ 6.  8.]\n",
      " [10. 12.]]\n",
      " \n",
      "Type: <class 'numpy.ndarray'>\n",
      "Shape: (2, 2)\n",
      "값:\n",
      " [[ 6.  8.]\n",
      " [10. 12.]]\n",
      " \n",
      "Type: <class 'numpy.ndarray'>\n",
      "Shape: (2, 2)\n",
      "값:\n",
      " [[-4. -4.]\n",
      " [-4. -4.]]\n",
      " \n",
      "Type: <class 'numpy.ndarray'>\n",
      "Shape: (2, 2)\n",
      "값:\n",
      " [[-4. -4.]\n",
      " [-4. -4.]]\n",
      " \n",
      "Type: <class 'numpy.ndarray'>\n",
      "Shape: (2, 2)\n",
      "값:\n",
      " [[ 5. 12.]\n",
      " [21. 32.]]\n",
      " \n",
      "Type: <class 'numpy.ndarray'>\n",
      "Shape: (2, 2)\n",
      "값:\n",
      " [[ 5. 12.]\n",
      " [21. 32.]]\n",
      " \n",
      "Type: <class 'numpy.ndarray'>\n",
      "Shape: (2, 2)\n",
      "값:\n",
      " [[0.2        0.33333333]\n",
      " [0.42857143 0.5       ]]\n",
      " \n",
      "Type: <class 'numpy.ndarray'>\n",
      "Shape: (2, 2)\n",
      "값:\n",
      " [[0.2        0.33333333]\n",
      " [0.42857143 0.5       ]]\n",
      " \n",
      "Type: <class 'numpy.ndarray'>\n",
      "Shape: (2, 2)\n",
      "값:\n",
      " [[1.         1.41421356]\n",
      " [1.73205081 2.        ]]\n",
      " \n"
     ]
    }
   ],
   "source": [
    "m1 = np.array([[1,2],[3,4]], dtype = np.float64)\n",
    "m2 = np.array([[5,6],[7,8]], dtype = np.float64)\n",
    "\n",
    "#sum\n",
    "print_val(m1+ m2)\n",
    "print_val(np.add(m1, m2))\n",
    "\n",
    "#elementwise difference\n",
    "print_val(m1 - m2)\n",
    "print_val(np.subtract(m1, m2))\n",
    "\n",
    "#elementwise product\n",
    "print_val(m1*m2)\n",
    "print_val(np.multiply(m1, m2))\n",
    "\n",
    "#elementwise division\n",
    "print_val(m1/m2)\n",
    "print_val(np.divide(m1, m2))\n",
    "\n",
    "#elementwise square root\n",
    "print_val(np.sqrt(m1))"
   ]
  },
  {
   "cell_type": "markdown",
   "id": "focused-suspension",
   "metadata": {},
   "source": [
    "\n",
    "### matrix operation\n"
   ]
  },
  {
   "cell_type": "code",
   "execution_count": 16,
   "id": "excessive-young",
   "metadata": {},
   "outputs": [
    {
     "name": "stdout",
     "output_type": "stream",
     "text": [
      "Type: <class 'numpy.ndarray'>\n",
      "Shape: (2, 2)\n",
      "값:\n",
      " [[1 2]\n",
      " [3 4]]\n",
      " \n",
      "Type: <class 'numpy.ndarray'>\n",
      "Shape: (2, 2)\n",
      "값:\n",
      " [[5 6]\n",
      " [7 8]]\n",
      " \n",
      "Type: <class 'numpy.ndarray'>\n",
      "Shape: (2,)\n",
      "값:\n",
      " [ 9 10]\n",
      " \n",
      "Type: <class 'numpy.ndarray'>\n",
      "Shape: (2,)\n",
      "값:\n",
      " [11 12]\n",
      " \n"
     ]
    }
   ],
   "source": [
    "m1 = np.array([[1,2],[3,4]])\n",
    "m2 = np.array([[5,6],[7,8]])\n",
    "v1 = np.array([9,10])\n",
    "v2 = np.array([11,12])\n",
    "\n",
    "print_val(m1)\n",
    "print_val(m2)\n",
    "print_val(v1)\n",
    "print_val(v2)"
   ]
  },
  {
   "cell_type": "markdown",
   "id": "neutral-absence",
   "metadata": {},
   "source": [
    "\n",
    "### Vector-Vector operation\n"
   ]
  },
  {
   "cell_type": "code",
   "execution_count": 17,
   "id": "sapphire-monkey",
   "metadata": {},
   "outputs": [
    {
     "name": "stdout",
     "output_type": "stream",
     "text": [
      "Type: <class 'numpy.int64'>\n",
      "Shape: ()\n",
      "값:\n",
      " 219\n",
      " \n",
      "Type: <class 'numpy.int64'>\n",
      "Shape: ()\n",
      "값:\n",
      " 219\n",
      " \n"
     ]
    }
   ],
   "source": [
    "print_val(v1.dot(v2))\n",
    "print_val(np.dot(v1, v2))\n",
    "#9*11 + 10*12"
   ]
  },
  {
   "cell_type": "markdown",
   "id": "incorporate-fellow",
   "metadata": {},
   "source": [
    "\n",
    "### Vector-Matrix operation\n"
   ]
  },
  {
   "cell_type": "code",
   "execution_count": 18,
   "id": "decreased-fantasy",
   "metadata": {},
   "outputs": [
    {
     "name": "stdout",
     "output_type": "stream",
     "text": [
      "Type: <class 'numpy.ndarray'>\n",
      "Shape: (2,)\n",
      "값:\n",
      " [29 67]\n",
      " \n",
      "Type: <class 'numpy.ndarray'>\n",
      "Shape: (2,)\n",
      "값:\n",
      " [29 67]\n",
      " \n"
     ]
    }
   ],
   "source": [
    "print_val(m1.dot(v1))\n",
    "print_val(np.dot(m1, v1))"
   ]
  },
  {
   "cell_type": "markdown",
   "id": "classical-iceland",
   "metadata": {},
   "source": [
    "\n",
    "### Matrix-Matrix operation\n"
   ]
  },
  {
   "cell_type": "code",
   "execution_count": 19,
   "id": "defined-uncle",
   "metadata": {},
   "outputs": [
    {
     "name": "stdout",
     "output_type": "stream",
     "text": [
      "Type: <class 'numpy.ndarray'>\n",
      "Shape: (2, 2)\n",
      "값:\n",
      " [[19 22]\n",
      " [43 50]]\n",
      " \n",
      "Type: <class 'numpy.ndarray'>\n",
      "Shape: (2, 2)\n",
      "값:\n",
      " [[19 22]\n",
      " [43 50]]\n",
      " \n"
     ]
    }
   ],
   "source": [
    "print_val(m1.dot(m2))\n",
    "print_val(np.dot(m1,m2))"
   ]
  },
  {
   "cell_type": "markdown",
   "id": "faced-butler",
   "metadata": {},
   "source": [
    "\n",
    "### transpose\n"
   ]
  },
  {
   "cell_type": "code",
   "execution_count": 20,
   "id": "parental-olive",
   "metadata": {},
   "outputs": [
    {
     "name": "stdout",
     "output_type": "stream",
     "text": [
      "Type: <class 'numpy.ndarray'>\n",
      "Shape: (2, 2)\n",
      "값:\n",
      " [[1 2]\n",
      " [3 4]]\n",
      " \n",
      "Type: <class 'numpy.ndarray'>\n",
      "Shape: (2, 2)\n",
      "값:\n",
      " [[1 3]\n",
      " [2 4]]\n",
      " \n"
     ]
    }
   ],
   "source": [
    "print_val(m1)\n",
    "print_val(m1.T)"
   ]
  },
  {
   "cell_type": "markdown",
   "id": "certain-volunteer",
   "metadata": {},
   "source": [
    "\n",
    "### Sum\n"
   ]
  },
  {
   "cell_type": "code",
   "execution_count": 21,
   "id": "romantic-version",
   "metadata": {},
   "outputs": [
    {
     "name": "stdout",
     "output_type": "stream",
     "text": [
      "Type: <class 'numpy.int64'>\n",
      "Shape: ()\n",
      "값:\n",
      " 10\n",
      " \n",
      "Type: <class 'numpy.ndarray'>\n",
      "Shape: (2,)\n",
      "값:\n",
      " [4 6]\n",
      " \n",
      "Type: <class 'numpy.ndarray'>\n",
      "Shape: (2,)\n",
      "값:\n",
      " [3 7]\n",
      " \n"
     ]
    }
   ],
   "source": [
    "print_val(np.sum(m1)) #sum of all elements\n",
    "print_val(np.sum(m1, axis = 0)) #condens a row(shape[0])\n",
    "print_val(np.sum(m1, axis = 1)) #condens a col(shape[1])"
   ]
  },
  {
   "cell_type": "code",
   "execution_count": 22,
   "id": "certain-organizer",
   "metadata": {},
   "outputs": [
    {
     "name": "stdout",
     "output_type": "stream",
     "text": [
      "[[1 2 3]\n",
      " [4 5 6]]\n",
      "(2, 3)\n"
     ]
    }
   ],
   "source": [
    "m1 = np.array([[1,2,3],[4,5,6]])\n",
    "print(m1)\n",
    "print(m1.shape)"
   ]
  },
  {
   "cell_type": "code",
   "execution_count": 23,
   "id": "dominican-conjunction",
   "metadata": {},
   "outputs": [
    {
     "name": "stdout",
     "output_type": "stream",
     "text": [
      "21\n",
      "[5 7 9]\n",
      "[ 6 15]\n"
     ]
    }
   ],
   "source": [
    "print(np.sum(m1))\n",
    "print(np.sum(m1, axis = 0))\n",
    "print(np.sum(m1, axis = 1))"
   ]
  },
  {
   "cell_type": "markdown",
   "id": "korean-asian",
   "metadata": {},
   "source": [
    "\n",
    "### zeros-like\n",
    "\n",
    "np.zeros_like(m1) : return the same form of zero as m1 \n"
   ]
  },
  {
   "cell_type": "code",
   "execution_count": 24,
   "id": "searching-voice",
   "metadata": {},
   "outputs": [
    {
     "name": "stdout",
     "output_type": "stream",
     "text": [
      "Type: <class 'numpy.ndarray'>\n",
      "Shape: (4, 3)\n",
      "값:\n",
      " [[ 1  2  3]\n",
      " [ 4  5  6]\n",
      " [ 7  8  9]\n",
      " [10 11 12]]\n",
      " \n",
      "Type: <class 'numpy.ndarray'>\n",
      "Shape: (4, 3)\n",
      "값:\n",
      " [[0 0 0]\n",
      " [0 0 0]\n",
      " [0 0 0]\n",
      " [0 0 0]]\n",
      " \n"
     ]
    }
   ],
   "source": [
    "m1 = np.array([[1,2,3],[4,5,6],[7,8,9],[10,11,12]])\n",
    "m2 = np.zeros_like(m1)\n",
    "print_val(m1)\n",
    "print_val(m2)"
   ]
  },
  {
   "cell_type": "markdown",
   "id": "atmospheric-monaco",
   "metadata": {},
   "source": [
    "\n",
    "### Matplotlib library\n",
    "\n",
    "**Usage Package**\n",
    "import matplotlib.pyplot as plt\n",
    "%matplotlib inline\n"
   ]
  },
  {
   "cell_type": "code",
   "execution_count": 25,
   "id": "attended-quantum",
   "metadata": {},
   "outputs": [
    {
     "data": {
      "text/plain": [
       "[<matplotlib.lines.Line2D at 0x7fb6850da0f0>]"
      ]
     },
     "execution_count": 25,
     "metadata": {},
     "output_type": "execute_result"
    },
    {
     "data": {
      "image/png": "[encoded data removed]",
      "text/plain": [
       "<Figure size 432x288 with 1 Axes>"
      ]
     },
     "metadata": {
      "needs_background": "light"
     },
     "output_type": "display_data"
    }
   ],
   "source": [
    "import matplotlib.pyplot as plt\n",
    "%matplotlib inline\n",
    "\n",
    "#sin curve\n",
    "x = np.arange(0,10,0.1) #a numerical array of 0.1 intervals between 0 and 10\n",
    "y = np.sin(x)\n",
    "\n",
    "plt.plot(x,y)\n"
   ]
  },
  {
   "cell_type": "markdown",
   "id": "technological-pound",
   "metadata": {},
   "source": [
    "\n",
    "### Draw two graphs at a time\n"
   ]
  },
  {
   "cell_type": "code",
   "execution_count": 26,
   "id": "expressed-notification",
   "metadata": {},
   "outputs": [
    {
     "data": {
      "image/png": "[encoded data removed]",
      "text/plain": [
       "<Figure size 432x288 with 1 Axes>"
      ]
     },
     "metadata": {
      "needs_background": "light"
     },
     "output_type": "display_data"
    }
   ],
   "source": [
    "y_sin = np.sin(x)\n",
    "y_cos = np.cos(x)\n",
    "\n",
    "plt.plot(x, y_sin)\n",
    "plt.plot(x, y_cos)\n",
    "plt.xlabel('x axis label')\n",
    "plt.ylabel('y axis label')\n",
    "plt.title('sin and cos')\n",
    "plt.legend(['sin','cos'])\n",
    "\n",
    "plt.show()"
   ]
  },
  {
   "cell_type": "markdown",
   "id": "blind-mountain",
   "metadata": {},
   "source": [
    "\n",
    "### Subplot\n"
   ]
  },
  {
   "cell_type": "code",
   "execution_count": 27,
   "id": "unusual-florence",
   "metadata": {},
   "outputs": [
    {
     "data": {
      "image/png": "[encoded data removed]",
      "text/plain": [
       "<Figure size 432x288 with 2 Axes>"
      ]
     },
     "metadata": {
      "needs_background": "light"
     },
     "output_type": "display_data"
    }
   ],
   "source": [
    "plt.subplot(2,1,1)\n",
    "plt.plot(x, y_sin)\n",
    "plt.title('sin')\n",
    "\n",
    "plt.subplot(2,1,2)\n",
    "plt.plot(x, y_cos)\n",
    "plt.title('cos')\n",
    "\n",
    "plt.show()"
   ]
  },
  {
   "cell_type": "code",
   "execution_count": null,
   "id": "british-custom",
   "metadata": {},
   "outputs": [],
   "source": []
  }
 ],
 "metadata": {
  "kernelspec": {
   "display_name": "conda_python3",
   "language": "python",
   "name": "conda_python3"
  },
  "language_info": {
   "codemirror_mode": {
    "name": "ipython",
    "version": 3
   },
   "file_extension": ".py",
   "mimetype": "text/x-python",
   "name": "python",
   "nbconvert_exporter": "python",
   "pygments_lexer": "ipython3",
   "version": "3.6.13"
  }
 },
 "nbformat": 4,
 "nbformat_minor": 5
}
