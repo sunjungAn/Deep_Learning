{
 "cells": [
  {
   "cell_type": "markdown",
   "id": "dominant-chester",
   "metadata": {},
   "source": [
    "# python_basic\n",
    "\n",
    "### print\n",
    "integer, float, string\n"
   ]
  },
  {
   "cell_type": "code",
   "execution_count": 2,
   "id": "aging-sewing",
   "metadata": {},
   "outputs": [
    {
     "name": "stdout",
     "output_type": "stream",
     "text": [
      "Hello, world\n",
      "정수 3, 03, 003, 0003, 00003\n",
      "실수 : 256, 256.1, 256.12\n",
      "문자열 :[:Hello, world]\n"
     ]
    }
   ],
   "source": [
    "print(\"Hello, world\")\n",
    "\n",
    "x = 3\n",
    "print(\"정수 %01d, %02d, %03d, %04d, %05d\" % (x,x,x,x,x))\n",
    "\n",
    "x = 256.123\n",
    "print(\"실수 : %.0f, %.1f, %.2f\" % (x,x,x))\n",
    "\n",
    "x = \"Hello, world\"\n",
    "print(\"문자열 :[:%s]\" % (x))"
   ]
  },
  {
   "cell_type": "markdown",
   "id": "internal-foundation",
   "metadata": {},
   "source": [
    "### for, if\n"
   ]
  },
  {
   "cell_type": "code",
   "execution_count": 6,
   "id": "presidential-chart",
   "metadata": {},
   "outputs": [
    {
     "name": "stdout",
     "output_type": "stream",
     "text": [
      "Regression 은(는) 기계학습 내용입니다.\n",
      "Classification 은(는) 기계학습 내용입니다.\n",
      "SVM 은(는) 기계학습 내용입니다.\n",
      "Clustering 은(는) 기계학습 내용입니다.\n",
      "Demension reduction 은(는) 기계학습 내용입니다.\n",
      "NN 은(는) 심층학습 내용입니다.\n",
      "CNN 은(는) convolutional neural network 입니다.\n",
      "AE 은(는) 심층학습 내용입니다.\n",
      "GAN 은(는) 심층학습 내용입니다.\n",
      "RNN 은(는) 심층학습 내용입니다.\n"
     ]
    }
   ],
   "source": [
    "contents = [\"Regression\", \"Classification\", \"SVM\", \"Clustering\", \"Demension reduction\", \"NN\", \"CNN\", \"AE\", \"GAN\", \"RNN\"]\n",
    "\n",
    "for con in contents:\n",
    "    if con in [\"Regression\", \"Classification\",\"SVM\",\"Clustering\",\"Demension reduction\"]:\n",
    "        print(\"%s 은(는) 기계학습 내용입니다.\" %con)\n",
    "    elif con in [\"CNN\"]:\n",
    "        print(\"%s 은(는) convolutional neural network 입니다.\" %con)\n",
    "    else:\n",
    "        print(\"%s 은(는) 심층학습 내용입니다.\"%con)"
   ]
  },
  {
   "cell_type": "markdown",
   "id": "hybrid-standard",
   "metadata": {},
   "source": [
    "\n",
    "### for, index\n"
   ]
  },
  {
   "cell_type": "code",
   "execution_count": 7,
   "id": "overall-capture",
   "metadata": {},
   "outputs": [
    {
     "name": "stdout",
     "output_type": "stream",
     "text": [
      "[0/10]: Regression\n",
      "[1/10]: Classification\n",
      "[2/10]: SVM\n",
      "[3/10]: Clustering\n",
      "[4/10]: Demension reduction\n",
      "[5/10]: NN\n",
      "[6/10]: CNN\n",
      "[7/10]: AE\n",
      "[8/10]: GAN\n",
      "[9/10]: RNN\n"
     ]
    }
   ],
   "source": [
    "for(i, con) in enumerate(contents):\n",
    "    print(\"[%d/%d]: %s\" %(i, len(contents), con))"
   ]
  },
  {
   "cell_type": "markdown",
   "id": "interracial-lounge",
   "metadata": {},
   "source": [
    "\n",
    "### function\n"
   ]
  },
  {
   "cell_type": "code",
   "execution_count": 8,
   "id": "applied-austin",
   "metadata": {},
   "outputs": [
    {
     "name": "stdout",
     "output_type": "stream",
     "text": [
      "10.0 + 20.0 = 30.0\n"
     ]
    }
   ],
   "source": [
    "def sum(a, b):\n",
    "    return a+b\n",
    "\n",
    "x = 10.0\n",
    "y = 20.0\n",
    "print(\"%.1f + %.1f = %.1f\"%(x,y, sum(x,y)))"
   ]
  },
  {
   "cell_type": "markdown",
   "id": "interior-spelling",
   "metadata": {},
   "source": [
    "\n",
    "### list\n"
   ]
  },
  {
   "cell_type": "code",
   "execution_count": 11,
   "id": "statewide-roommate",
   "metadata": {},
   "outputs": [
    {
     "name": "stdout",
     "output_type": "stream",
     "text": [
      "[]\n",
      "['a']\n",
      "['a', 123]\n",
      "['a', 123, ['a', 'b']]\n"
     ]
    }
   ],
   "source": [
    "a = []\n",
    "b = [1,2,3]\n",
    "c = [\"Hello\", \",\", \"world\"]\n",
    "d = [1,2,3,\"x\",\"y\",\"z\"]\n",
    "x = []\n",
    "print(x)\n",
    "\n",
    "x.append('a')\n",
    "print(x)\n",
    "\n",
    "x.append(123)\n",
    "print(x)\n",
    "\n",
    "x.append([\"a\", \"b\"])#It is added as an element.\n",
    "print(x)"
   ]
  },
  {
   "cell_type": "markdown",
   "id": "union-vacation",
   "metadata": {},
   "source": [
    "\n",
    "### dictionary\n"
   ]
  },
  {
   "cell_type": "code",
   "execution_count": 13,
   "id": "valuable-biography",
   "metadata": {},
   "outputs": [
    {
     "name": "stdout",
     "output_type": "stream",
     "text": [
      "{'name': 'Heekyung', 'town': 'Goyang city', 'job': 'Assistant professor'}\n"
     ]
    }
   ],
   "source": [
    "dic = dict()\n",
    "dic[\"name\"] = \"Heekyung\"\n",
    "dic[\"town\"] = \"Goyang city\"\n",
    "dic[\"job\"] = \"Assistant professor\"\n",
    "#structure : \"job\" -> key, \"Assistant professor\" -> value\n",
    "print (dic)"
   ]
  },
  {
   "cell_type": "markdown",
   "id": "parental-connection",
   "metadata": {},
   "source": [
    "\n",
    "### class\n"
   ]
  },
  {
   "cell_type": "code",
   "execution_count": null,
   "id": "external-tobago",
   "metadata": {},
   "outputs": [],
   "source": [
    "class Student:\n",
    "    #Constructure\n",
    "    def __init__(self, name):\n",
    "        self.name = name\n",
    "    \n",
    "    #method\n",
    "    def study(self, hard = False):\n",
    "        if hard:\n",
    "            print(\"%s 학생은 열심히 공부합니다.\"%self.name)\n",
    "        else:\n",
    "            print(\"%s 학생은 공부합니다.\"%self.name)\n",
    "            \n",
    "s = Student('Sunjung')\n",
    "s.study()\n",
    "s.study(hard = True)"
   ]
  },
  {
   "cell_type": "code",
   "execution_count": null,
   "id": "prepared-tunnel",
   "metadata": {},
   "outputs": [],
   "source": []
  }
 ],
 "metadata": {
  "kernelspec": {
   "display_name": "conda_python3",
   "language": "python",
   "name": "conda_python3"
  },
  "language_info": {
   "codemirror_mode": {
    "name": "ipython",
    "version": 3
   },
   "file_extension": ".py",
   "mimetype": "text/x-python",
   "name": "python",
   "nbconvert_exporter": "python",
   "pygments_lexer": "ipython3",
   "version": "3.6.13"
  }
 },
 "nbformat": 4,
 "nbformat_minor": 5
}
