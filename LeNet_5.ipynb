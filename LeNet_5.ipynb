{
  "nbformat": 4,
  "nbformat_minor": 0,
  "metadata": {
    "colab": {
      "name": "LeNet-5.ipynb",
      "provenance": [],
      "collapsed_sections": []
    },
    "kernelspec": {
      "name": "python3",
      "display_name": "Python 3"
    },
    "language_info": {
      "name": "python"
    }
  },
  "cells": [
    {
      "cell_type": "code",
      "metadata": {
        "id": "fR3BD8-HuY0B"
      },
      "source": [
        "import random\n",
        "from tensorflow.examples.tutorials.mnist import input_data\n",
        "from keras.models import Sequential, Model\n",
        "from keras import layers\n",
        "from keras.layers import Dense, Dropout, Flatten, Activation, Conv2D, AveragePooling2D\n",
        "from keras.preprocessing.image import ImageDataGenerator"
      ],
      "execution_count": 56,
      "outputs": []
    },
    {
      "cell_type": "code",
      "metadata": {
        "id": "lah-Co_bucnu"
      },
      "source": [
        "tf.debugging.set_log_device_placement(True) \n",
        "\n",
        "gpus = tf.config.experimental.list_physical_devices('GPU')\n",
        "\n",
        "if gpus:\n",
        "  try:\n",
        "    tf.config.experimental.set_visible_devices(gpus[0], 'GPU')\n",
        "  except RuntimeError as e:\n",
        "    print(e)"
      ],
      "execution_count": 20,
      "outputs": []
    },
    {
      "cell_type": "code",
      "metadata": {
        "id": "cBCMm4exudUA"
      },
      "source": [
        "tf.set_random_seed(202131036)"
      ],
      "execution_count": 21,
      "outputs": []
    },
    {
      "cell_type": "code",
      "metadata": {
        "id": "t_b3N02QugdC"
      },
      "source": [
        "learning_rate = 0.001\n",
        "training_epoch = 15\n",
        "batch_size = 100"
      ],
      "execution_count": 22,
      "outputs": []
    },
    {
      "cell_type": "code",
      "metadata": {
        "colab": {
          "base_uri": "https://localhost:8080/"
        },
        "id": "rSYj82u5uiV_",
        "outputId": "6f142960-1227-4f07-d992-89858c620514"
      },
      "source": [
        "mnist = input_data.read_data_sets(\"MNIST_data/\", one_hot = True)"
      ],
      "execution_count": 34,
      "outputs": [
        {
          "output_type": "stream",
          "text": [
            "Extracting MNIST_data/train-images-idx3-ubyte.gz\n",
            "Extracting MNIST_data/train-labels-idx1-ubyte.gz\n",
            "Extracting MNIST_data/t10k-images-idx3-ubyte.gz\n",
            "Extracting MNIST_data/t10k-labels-idx1-ubyte.gz\n"
          ],
          "name": "stdout"
        }
      ]
    },
    {
      "cell_type": "code",
      "metadata": {
        "id": "KjaHFbjSumAT"
      },
      "source": [
        "X = tf.placeholder(tf.float32, [None, 784])\n",
        "X_img = tf.reshape(X, [-1, 28, 28, 1]) #28X28X1(black)\n",
        "X_img= tf.pad(X_img, paddings= [[0,0],[2,2],[2,2],[0,0]], mode='CONSTANT')\n",
        "y = tf.placeholder(tf.float32, [None, 10])"
      ],
      "execution_count": 35,
      "outputs": []
    },
    {
      "cell_type": "code",
      "metadata": {
        "id": "SV98vOTtusji"
      },
      "source": [
        "model = Sequential()\n",
        "model.add(Conv2D(filters = 6, kernel_size =5,  strides = 1, activation = 'relu', input_shape = (32,32,1)))\n",
        "model.add(AveragePooling2D(pool_size = 2, strides = 2))\n",
        "model.add(Conv2D(filters = 16, kernel_size = 5, strides = 1, activation = 'relu'))\n",
        "model.add(AveragePooling2D(pool_size = 2, strides = 2))\n",
        "model.add(Flatten())\n",
        "model.add(Dense(120, activation = 'relu'))\n",
        "model.add(Dense(84, activation = 'relu'))\n",
        "model.add(Dense(10, activation = 'softmax'))"
      ],
      "execution_count": 62,
      "outputs": []
    },
    {
      "cell_type": "code",
      "metadata": {
        "id": "Rtw-BRKT0QYX",
        "colab": {
          "base_uri": "https://localhost:8080/"
        },
        "outputId": "4320f4f3-6d71-4825-892e-35db4be97eca"
      },
      "source": [
        "model.compile(optimizer = 'adam', loss = 'categorical_crossentropy', metrics = ['accuracy'])\n",
        "model.summary()"
      ],
      "execution_count": 63,
      "outputs": [
        {
          "output_type": "stream",
          "text": [
            "Model: \"sequential_8\"\n",
            "_________________________________________________________________\n",
            "Layer (type)                 Output Shape              Param #   \n",
            "=================================================================\n",
            "conv2d_4 (Conv2D)            (None, 28, 28, 6)         156       \n",
            "_________________________________________________________________\n",
            "average_pooling2d_4 (Average (None, 14, 14, 6)         0         \n",
            "_________________________________________________________________\n",
            "conv2d_5 (Conv2D)            (None, 10, 10, 16)        2416      \n",
            "_________________________________________________________________\n",
            "average_pooling2d_5 (Average (None, 5, 5, 16)          0         \n",
            "_________________________________________________________________\n",
            "flatten_2 (Flatten)          (None, 400)               0         \n",
            "_________________________________________________________________\n",
            "dense_4 (Dense)              (None, 120)               48120     \n",
            "_________________________________________________________________\n",
            "dense_5 (Dense)              (None, 84)                10164     \n",
            "_________________________________________________________________\n",
            "dense_6 (Dense)              (None, 10)                850       \n",
            "=================================================================\n",
            "Total params: 61,706\n",
            "Trainable params: 61,706\n",
            "Non-trainable params: 0\n",
            "_________________________________________________________________\n"
          ],
          "name": "stdout"
        }
      ]
    },
    {
      "cell_type": "code",
      "metadata": {
        "colab": {
          "base_uri": "https://localhost:8080/",
          "height": 136
        },
        "id": "oWvJPqGSEtfZ",
        "outputId": "eb3efa47-2df9-41b6-c5fb-6190cbdba591"
      },
      "source": [
        "decoder_zero_inputs = np.zeros((, 32, 32, 1))\n",
        "\n",
        "x_train = mnist.train.images\n",
        "x_train = tf.placeholder(tf.float32, [None, 784])\n",
        "x_train = tf.reshape(X, [-1,28,28,1])\n",
        "x_train = tf.pad(x_train, paddings = [[0,0],[2,2],[2,2],[0,0]], mode='CONSTANT')\n",
        "y_train = mnist.train.labels\n",
        "y_train = tf.placeholder(tf.float32, [None, 10])\n",
        "\n",
        "\n",
        "batch_size = 32\n",
        "history = model.fit([x_train, decoder_zero_inputs], y = y_train, batch_size = batch_size, epochs = 30)"
      ],
      "execution_count": 75,
      "outputs": [
        {
          "output_type": "error",
          "ename": "SyntaxError",
          "evalue": "ignored",
          "traceback": [
            "\u001b[0;36m  File \u001b[0;32m\"<ipython-input-75-4aea5caba5ba>\"\u001b[0;36m, line \u001b[0;32m1\u001b[0m\n\u001b[0;31m    decoder_zero_inputs = np.zeros((, 32, 32, 1))\u001b[0m\n\u001b[0m                                    ^\u001b[0m\n\u001b[0;31mSyntaxError\u001b[0m\u001b[0;31m:\u001b[0m invalid syntax\n"
          ]
        }
      ]
    }
  ]
}