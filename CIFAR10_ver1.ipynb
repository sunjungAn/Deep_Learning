{
  "nbformat": 4,
  "nbformat_minor": 0,
  "metadata": {
    "colab": {
      "name": "CIFAR10_ver1.ipynb",
      "provenance": [],
      "collapsed_sections": [],
      "authorship_tag": "ABX9TyMsuZPouBqODdFHuh8VL/+G",
      "include_colab_link": true
    },
    "kernelspec": {
      "display_name": "Python 3",
      "name": "python3"
    },
    "language_info": {
      "name": "python"
    }
  },
  "cells": [
    {
      "cell_type": "markdown",
      "metadata": {
        "id": "view-in-github",
        "colab_type": "text"
      },
      "source": [
        "<a href=\"https://colab.research.google.com/github/sunjungAn/Deep_Learning/blob/master/CIFAR10_ver1.ipynb\" target=\"_parent\"><img src=\"https://colab.research.google.com/assets/colab-badge.svg\" alt=\"Open In Colab\"/></a>"
      ]
    },
    {
      "cell_type": "code",
      "metadata": {
        "id": "S8sPIWDjOBGV"
      },
      "source": [
        "import numpy as np\n",
        "import torch\n",
        "import torch.nn as nn\n",
        "import torch.optim as optim\n",
        "import torch.nn.init as init\n",
        "import torchvision.datasets as dset\n",
        "import torchvision.transforms as transforms\n",
        "from torch.utils.data import DataLoader\n",
        "from torch.autograd import Variable\n",
        "import matplotlib.pyplot as plt\n",
        "\n",
        "from torch.optim import lr_scheduler\n",
        "\n",
        "batch_size = 16\n",
        "learning_rate = 0.002\n",
        "num_epoch = 1"
      ],
      "execution_count": null,
      "outputs": []
    },
    {
      "cell_type": "markdown",
      "metadata": {
        "id": "qn7J2d7PO2wI"
      },
      "source": [
        "## 1. CIFAR10 train, test dataset 가져오기(163MB)\n",
        "MNIST : 11MB"
      ]
    },
    {
      "cell_type": "code",
      "metadata": {
        "colab": {
          "base_uri": "https://localhost:8080/"
        },
        "id": "2BnMK0aAO0ru",
        "outputId": "26492538-3c83-41a9-f9b5-f76df62ce9fc"
      },
      "source": [
        "cifar_train=dset.CIFAR10(\"CIFAR10/\", train=True, transform = transforms.Compose([\n",
        "                                                                                 transforms.Scale(36),\n",
        "                                                                                 transforms.CenterCrop(32),\n",
        "                                                                                 transforms.RandomHorizontalFlip(),\n",
        "                                                                                 transforms.Lambda(lambda x: x.rotate(90)),\n",
        "                                                                                 transforms.ToTensor(),\n",
        "                                                                                 transforms.Normalize(mean = (0.5,0.5,0.5), std =(0.5,0.5,0.5))]), target_transform= None, download=True)\n",
        "cifar_test=dset.CIFAR10(\"CIFAR10/\", train = False, transform=transforms.Compose([\n",
        "                                                                                 transforms.ToTensor(),\n",
        "                                                                                 transforms.Normalize(mean = (0.5,0.5,0.5), std =(0.5,0.5,0.5))\n",
        "                                                                            \n",
        "]), target_transform=None, download=True)"
      ],
      "execution_count": null,
      "outputs": [
        {
          "output_type": "stream",
          "text": [
            "/usr/local/lib/python3.7/dist-packages/torchvision/transforms/transforms.py:285: UserWarning: The use of the transforms.Scale transform is deprecated, please use transforms.Resize instead.\n",
            "  warnings.warn(\"The use of the transforms.Scale transform is deprecated, \" +\n"
          ],
          "name": "stderr"
        },
        {
          "output_type": "stream",
          "text": [
            "Files already downloaded and verified\n",
            "Files already downloaded and verified\n"
          ],
          "name": "stdout"
        }
      ]
    },
    {
      "cell_type": "markdown",
      "metadata": {
        "id": "mZ9PyHpwPYjO"
      },
      "source": [
        "## 2. 대략적인 데이터 형태"
      ]
    },
    {
      "cell_type": "code",
      "metadata": {
        "colab": {
          "base_uri": "https://localhost:8080/",
          "height": 371
        },
        "id": "b6DDXmVsPe8N",
        "outputId": "23d661f1-74bc-471c-88e9-e85fed0766d2"
      },
      "source": [
        "print(\"cifar_train 길이:\", len(cifar_train))\n",
        "print(\"cifar_test 길이:\", len(cifar_test))\n",
        "\n",
        "image, label = cifar_train.__getitem__(1)\n",
        "print(\"image data 형태:\", image.size())\n",
        "print(\"label: \", label)\n",
        "\n",
        "img = image.numpy()\n",
        "\n",
        "r,g,b = img[0,:,:], img[1,:,:], img[2,:,:]\n",
        "img2 = np.zeros((img.shape[1], img.shape[2], img.shape[0]))\n",
        "img2[:,:,0], img2[:,:,1], img2[:,:,2] = r,g,b\n",
        "\n",
        "plt.title(\"label: %d\" %label)\n",
        "plt.imshow(img2, interpolation = 'bicubic')\n",
        "plt.show()"
      ],
      "execution_count": null,
      "outputs": [
        {
          "output_type": "stream",
          "text": [
            "Clipping input data to the valid range for imshow with RGB data ([0..1] for floats or [0..255] for integers).\n"
          ],
          "name": "stderr"
        },
        {
          "output_type": "stream",
          "text": [
            "cifar_train 길이: 50000\n",
            "cifar_test 길이: 10000\n",
            "image data 형태: torch.Size([3, 32, 32])\n",
            "label:  9\n"
          ],
          "name": "stdout"
        },
        {
          "output_type": "display_data",
          "data": {
            "image/png": "[encoded data removed]",
            "text/plain": [
              "<Figure size 432x288 with 1 Axes>"
            ]
          },
          "metadata": {
            "tags": [],
            "needs_background": "light"
          }
        }
      ]
    },
    {
      "cell_type": "code",
      "metadata": {
        "id": "t6FAtk9bQSXG"
      },
      "source": [
        "def ComputeAccr(dloader, imodel):\n",
        "  correct = 0\n",
        "  total = 0\n",
        "\n",
        "  for j, [imgs, labels] in enumerate(dloader):\n",
        "    img = Variable(imgs, volatile=True)\n",
        "    label = Variable(labels)\n",
        "    output = imodel.forward(img)\n",
        "    _, output_index = torch.max(output, 1)\n",
        "\n",
        "    total += label.size(0)\n",
        "    correct += (output_index == label).sum().float()\n",
        "  print(\"Accuracy of Test Data:{}\".format(100*correct/total))\n",
        "\n",
        "\n"
      ],
      "execution_count": null,
      "outputs": []
    },
    {
      "cell_type": "code",
      "metadata": {
        "id": "GP5gWG-DQ5Nn",
        "colab": {
          "base_uri": "https://localhost:8080/"
        },
        "outputId": "3eb6743a-5a30-4675-f587-269e078efd1f"
      },
      "source": [
        "train_loader = torch.utils.data.DataLoader(list(cifar_train)[:], batch_size=batch_size, shuffle=True, num_workers= 2, drop_last = True)\n",
        "test_loader = torch.utils.data.DataLoader(cifar_test, batch_size=batch_size, shuffle=False, num_workers = 2, drop_last = True)\n",
        "\n",
        "class CNN(nn.Module):\n",
        "  def __init__(self):\n",
        "    super(CNN,self).__init__()\n",
        "    self.layer = nn.Sequential(\n",
        "        nn.Conv2d(3,16,3, padding=1),\n",
        "        nn.ReLU(),\n",
        "        nn.Dropout2d(0.2),\n",
        "        nn.Conv2d(16,32,3,padding = 1),\n",
        "        nn.ReLU(),\n",
        "        nn.Dropout2d(0.2),\n",
        "        nn.MaxPool2d(2,2),\n",
        "        nn.Conv2d(32, 64, 3, padding = 1),\n",
        "        nn.ReLU(),\n",
        "        nn.Dropout2d(0.2),\n",
        "        nn.MaxPool2d(2,2)\n",
        "    )\n",
        "    self.fc_layer = nn.Sequential(\n",
        "        nn.Linear(64*8*8, 100),\n",
        "        nn.ReLU(),\n",
        "        nn.Dropout2d(0.2),\n",
        "        nn.Linear(100,10)\n",
        "    )\n",
        "\n",
        "    for m in self.modules():\n",
        "      if isinstance(m, nn.Conv2d):\n",
        "        init.kaiming_normal(m.weight.data)\n",
        "        m.bias.data.fill_(0)\n",
        "      if isinstance(m, nn.Linear):\n",
        "        init.kaiming_normal(m.weight.data)\n",
        "        m.bias.data.fill_(0)\n",
        "\n",
        "  def forward(self, x):\n",
        "    out=self.layer(x)\n",
        "    out=out.view(batch_size, -1)\n",
        "    out = self.fc_layer(out)\n",
        "    return out\n",
        "\n",
        "model=CNN()"
      ],
      "execution_count": null,
      "outputs": [
        {
          "output_type": "stream",
          "text": [
            "/usr/local/lib/python3.7/dist-packages/ipykernel_launcher.py:29: UserWarning: nn.init.kaiming_normal is now deprecated in favor of nn.init.kaiming_normal_.\n",
            "/usr/local/lib/python3.7/dist-packages/ipykernel_launcher.py:32: UserWarning: nn.init.kaiming_normal is now deprecated in favor of nn.init.kaiming_normal_.\n"
          ],
          "name": "stderr"
        }
      ]
    },
    {
      "cell_type": "code",
      "metadata": {
        "colab": {
          "base_uri": "https://localhost:8080/"
        },
        "id": "C3Y-ZgP6SlBM",
        "outputId": "bfd37ac1-1aa6-4847-9eba-866e8dc24d6e"
      },
      "source": [
        "loss_func = nn.CrossEntropyLoss()\n",
        "optimizer = torch.optim.Adam(model.parameters(), lr = learning_rate)\n",
        "\n",
        "for i in range(num_epoch):\n",
        "  for j,[image, label] in enumerate(train_loader):\n",
        "    x=Variable(image)\n",
        "    y_=Variable(label)\n",
        "\n",
        "    optimizer.zero_grad()\n",
        "    output=model.forward(x)\n",
        "    loss = loss_func(output,y_)\n",
        "    loss.backward()\n",
        "    optimizer.step()\n",
        "\n",
        "    if j%1000 ==0:\n",
        "      print(j, loss)"
      ],
      "execution_count": null,
      "outputs": [
        {
          "output_type": "stream",
          "text": [
            "0 tensor(2.6664, grad_fn=<NllLossBackward>)\n",
            "1000 tensor(1.8906, grad_fn=<NllLossBackward>)\n",
            "2000 tensor(1.5259, grad_fn=<NllLossBackward>)\n",
            "3000 tensor(1.6637, grad_fn=<NllLossBackward>)\n"
          ],
          "name": "stdout"
        }
      ]
    },
    {
      "cell_type": "markdown",
      "metadata": {
        "id": "7hEBBw2tVkoC"
      },
      "source": [
        "## print Accr"
      ]
    },
    {
      "cell_type": "code",
      "metadata": {
        "id": "mWrUr-nOVjJA",
        "colab": {
          "base_uri": "https://localhost:8080/"
        },
        "outputId": "cd8a9056-9f04-43dc-cf7e-bdbdc2265b6b"
      },
      "source": [
        "ComputeAccr(test_loader, model)"
      ],
      "execution_count": null,
      "outputs": [
        {
          "output_type": "stream",
          "text": [
            "/usr/local/lib/python3.7/dist-packages/ipykernel_launcher.py:6: UserWarning: volatile was removed and now has no effect. Use `with torch.no_grad():` instead.\n",
            "  \n"
          ],
          "name": "stderr"
        },
        {
          "output_type": "stream",
          "text": [
            "Accuracy of Test Data:21.219999313354492\n"
          ],
          "name": "stdout"
        }
      ]
    },
    {
      "cell_type": "code",
      "metadata": {
        "id": "eYyW7BXPudan"
      },
      "source": [
        "netname = './nets/my_net01.pkl'\n",
        "torch.save(model, netname, )"
      ],
      "execution_count": null,
      "outputs": []
    }
  ]
}