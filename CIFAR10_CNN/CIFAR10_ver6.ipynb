{
  "nbformat": 4,
  "nbformat_minor": 0,
  "metadata": {
    "colab": {
      "name": "CIFAR10_ver6(1).ipynb의 사본의 사본",
      "provenance": [],
      "collapsed_sections": [],
      "toc_visible": true
    },
    "kernelspec": {
      "display_name": "Python 3",
      "name": "python3"
    },
    "language_info": {
      "name": "python"
    },
    "widgets": {
      "application/vnd.jupyter.widget-state+json": {
        "bc8d429a756b4a01a191cf2a41690ccc": {
          "model_module": "@jupyter-widgets/controls",
          "model_name": "HBoxModel",
          "state": {
            "_view_name": "HBoxView",
            "_dom_classes": [],
            "_model_name": "HBoxModel",
            "_view_module": "@jupyter-widgets/controls",
            "_model_module_version": "1.5.0",
            "_view_count": null,
            "_view_module_version": "1.5.0",
            "box_style": "",
            "layout": "IPY_MODEL_580e84d4405d4b0a810103524465f6ca",
            "_model_module": "@jupyter-widgets/controls",
            "children": [
              "IPY_MODEL_ca9a264365a64e23a54603f1872ea359",
              "IPY_MODEL_9aa0dcb356f1412687def4ea198404f0"
            ]
          }
        },
        "580e84d4405d4b0a810103524465f6ca": {
          "model_module": "@jupyter-widgets/base",
          "model_name": "LayoutModel",
          "state": {
            "_view_name": "LayoutView",
            "grid_template_rows": null,
            "right": null,
            "justify_content": null,
            "_view_module": "@jupyter-widgets/base",
            "overflow": null,
            "_model_module_version": "1.2.0",
            "_view_count": null,
            "flex_flow": null,
            "width": null,
            "min_width": null,
            "border": null,
            "align_items": null,
            "bottom": null,
            "_model_module": "@jupyter-widgets/base",
            "top": null,
            "grid_column": null,
            "overflow_y": null,
            "overflow_x": null,
            "grid_auto_flow": null,
            "grid_area": null,
            "grid_template_columns": null,
            "flex": null,
            "_model_name": "LayoutModel",
            "justify_items": null,
            "grid_row": null,
            "max_height": null,
            "align_content": null,
            "visibility": null,
            "align_self": null,
            "height": null,
            "min_height": null,
            "padding": null,
            "grid_auto_rows": null,
            "grid_gap": null,
            "max_width": null,
            "order": null,
            "_view_module_version": "1.2.0",
            "grid_template_areas": null,
            "object_position": null,
            "object_fit": null,
            "grid_auto_columns": null,
            "margin": null,
            "display": null,
            "left": null
          }
        },
        "ca9a264365a64e23a54603f1872ea359": {
          "model_module": "@jupyter-widgets/controls",
          "model_name": "FloatProgressModel",
          "state": {
            "_view_name": "ProgressView",
            "style": "IPY_MODEL_90c223c557f249af805cb75189591cdf",
            "_dom_classes": [],
            "description": "",
            "_model_name": "FloatProgressModel",
            "bar_style": "success",
            "max": 170498071,
            "_view_module": "@jupyter-widgets/controls",
            "_model_module_version": "1.5.0",
            "value": 170498071,
            "_view_count": null,
            "_view_module_version": "1.5.0",
            "orientation": "horizontal",
            "min": 0,
            "description_tooltip": null,
            "_model_module": "@jupyter-widgets/controls",
            "layout": "IPY_MODEL_8984b88944624a7a9ccc8d3d655b4189"
          }
        },
        "9aa0dcb356f1412687def4ea198404f0": {
          "model_module": "@jupyter-widgets/controls",
          "model_name": "HTMLModel",
          "state": {
            "_view_name": "HTMLView",
            "style": "IPY_MODEL_4a4fe4a5d3c349f687739065ffbef72c",
            "_dom_classes": [],
            "description": "",
            "_model_name": "HTMLModel",
            "placeholder": "​",
            "_view_module": "@jupyter-widgets/controls",
            "_model_module_version": "1.5.0",
            "value": " 170499072/? [00:07&lt;00:00, 24016025.11it/s]",
            "_view_count": null,
            "_view_module_version": "1.5.0",
            "description_tooltip": null,
            "_model_module": "@jupyter-widgets/controls",
            "layout": "IPY_MODEL_b4d93258351b46b79c8812a16df9498d"
          }
        },
        "90c223c557f249af805cb75189591cdf": {
          "model_module": "@jupyter-widgets/controls",
          "model_name": "ProgressStyleModel",
          "state": {
            "_view_name": "StyleView",
            "_model_name": "ProgressStyleModel",
            "description_width": "initial",
            "_view_module": "@jupyter-widgets/base",
            "_model_module_version": "1.5.0",
            "_view_count": null,
            "_view_module_version": "1.2.0",
            "bar_color": null,
            "_model_module": "@jupyter-widgets/controls"
          }
        },
        "8984b88944624a7a9ccc8d3d655b4189": {
          "model_module": "@jupyter-widgets/base",
          "model_name": "LayoutModel",
          "state": {
            "_view_name": "LayoutView",
            "grid_template_rows": null,
            "right": null,
            "justify_content": null,
            "_view_module": "@jupyter-widgets/base",
            "overflow": null,
            "_model_module_version": "1.2.0",
            "_view_count": null,
            "flex_flow": null,
            "width": null,
            "min_width": null,
            "border": null,
            "align_items": null,
            "bottom": null,
            "_model_module": "@jupyter-widgets/base",
            "top": null,
            "grid_column": null,
            "overflow_y": null,
            "overflow_x": null,
            "grid_auto_flow": null,
            "grid_area": null,
            "grid_template_columns": null,
            "flex": null,
            "_model_name": "LayoutModel",
            "justify_items": null,
            "grid_row": null,
            "max_height": null,
            "align_content": null,
            "visibility": null,
            "align_self": null,
            "height": null,
            "min_height": null,
            "padding": null,
            "grid_auto_rows": null,
            "grid_gap": null,
            "max_width": null,
            "order": null,
            "_view_module_version": "1.2.0",
            "grid_template_areas": null,
            "object_position": null,
            "object_fit": null,
            "grid_auto_columns": null,
            "margin": null,
            "display": null,
            "left": null
          }
        },
        "4a4fe4a5d3c349f687739065ffbef72c": {
          "model_module": "@jupyter-widgets/controls",
          "model_name": "DescriptionStyleModel",
          "state": {
            "_view_name": "StyleView",
            "_model_name": "DescriptionStyleModel",
            "description_width": "",
            "_view_module": "@jupyter-widgets/base",
            "_model_module_version": "1.5.0",
            "_view_count": null,
            "_view_module_version": "1.2.0",
            "_model_module": "@jupyter-widgets/controls"
          }
        },
        "b4d93258351b46b79c8812a16df9498d": {
          "model_module": "@jupyter-widgets/base",
          "model_name": "LayoutModel",
          "state": {
            "_view_name": "LayoutView",
            "grid_template_rows": null,
            "right": null,
            "justify_content": null,
            "_view_module": "@jupyter-widgets/base",
            "overflow": null,
            "_model_module_version": "1.2.0",
            "_view_count": null,
            "flex_flow": null,
            "width": null,
            "min_width": null,
            "border": null,
            "align_items": null,
            "bottom": null,
            "_model_module": "@jupyter-widgets/base",
            "top": null,
            "grid_column": null,
            "overflow_y": null,
            "overflow_x": null,
            "grid_auto_flow": null,
            "grid_area": null,
            "grid_template_columns": null,
            "flex": null,
            "_model_name": "LayoutModel",
            "justify_items": null,
            "grid_row": null,
            "max_height": null,
            "align_content": null,
            "visibility": null,
            "align_self": null,
            "height": null,
            "min_height": null,
            "padding": null,
            "grid_auto_rows": null,
            "grid_gap": null,
            "max_width": null,
            "order": null,
            "_view_module_version": "1.2.0",
            "grid_template_areas": null,
            "object_position": null,
            "object_fit": null,
            "grid_auto_columns": null,
            "margin": null,
            "display": null,
            "left": null
          }
        }
      }
    }
  },
  "cells": [
    {
      "cell_type": "code",
      "metadata": {
        "id": "S8sPIWDjOBGV"
      },
      "source": [
        "import numpy as np\n",
        "import torch\n",
        "import torch.nn as nn\n",
        "import torch.optim as optim\n",
        "import torch.nn.init as init\n",
        "import torchvision.datasets as dset\n",
        "import torchvision.transforms as transforms\n",
        "from torch.utils.data import DataLoader\n",
        "from torch.autograd import Variable\n",
        "import matplotlib.pyplot as plt\n",
        "\n",
        "from torch.optim import lr_scheduler\n",
        "\n",
        "batch_size = 128\n",
        "learning_rate = 0.002\n",
        "num_epoch = 125"
      ],
      "execution_count": null,
      "outputs": []
    },
    {
      "cell_type": "markdown",
      "metadata": {
        "id": "qn7J2d7PO2wI"
      },
      "source": [
        "## 1. CIFAR10 train, test dataset 가져오기(163MB)\n",
        "MNIST : 11MB"
      ]
    },
    {
      "cell_type": "code",
      "metadata": {
        "id": "2BnMK0aAO0ru",
        "colab": {
          "base_uri": "https://localhost:8080/",
          "height": 121,
          "referenced_widgets": [
            "bc8d429a756b4a01a191cf2a41690ccc",
            "580e84d4405d4b0a810103524465f6ca",
            "ca9a264365a64e23a54603f1872ea359",
            "9aa0dcb356f1412687def4ea198404f0",
            "90c223c557f249af805cb75189591cdf",
            "8984b88944624a7a9ccc8d3d655b4189",
            "4a4fe4a5d3c349f687739065ffbef72c",
            "b4d93258351b46b79c8812a16df9498d"
          ]
        },
        "outputId": "d705ca55-2902-4ce3-b8b8-2d7200e49f92"
      },
      "source": [
        "cifar_train=dset.CIFAR10(\"CIFAR10/\", train=True, transform = transforms.Compose([\n",
        "                                                                                  transforms.RandomCrop(32, padding=4),\n",
        "                                                                                  transforms.RandomHorizontalFlip(),\n",
        "                                                                                  transforms.ToTensor(),\n",
        "                                                                                  transforms.Normalize((0.5, 0.5, 0.5), (0.5, 0.5, 0.5))]), target_transform = None, download = True)\n",
        "cifar_test=dset.CIFAR10(\"CIFAR10/\", train = False, transform=transforms.Compose([\n",
        "                                                                                 transforms.ToTensor(),\n",
        "                                                                                 transforms.Normalize((0.5, 0.5, 0.5), (0.5, 0.5, 0.5))\n",
        "                                                                                 ]), target_transform=None, download=True)\n"
      ],
      "execution_count": null,
      "outputs": [
        {
          "output_type": "stream",
          "text": [
            "Downloading https://www.cs.toronto.edu/~kriz/cifar-10-python.tar.gz to CIFAR10/cifar-10-python.tar.gz\n"
          ],
          "name": "stdout"
        },
        {
          "output_type": "display_data",
          "data": {
            "application/vnd.jupyter.widget-view+json": {
              "model_id": "bc8d429a756b4a01a191cf2a41690ccc",
              "version_minor": 0,
              "version_major": 2
            },
            "text/plain": [
              "HBox(children=(FloatProgress(value=0.0, max=170498071.0), HTML(value='')))"
            ]
          },
          "metadata": {
            "tags": []
          }
        },
        {
          "output_type": "stream",
          "text": [
            "\n",
            "Extracting CIFAR10/cifar-10-python.tar.gz to CIFAR10/\n",
            "Files already downloaded and verified\n"
          ],
          "name": "stdout"
        }
      ]
    },
    {
      "cell_type": "markdown",
      "metadata": {
        "id": "mZ9PyHpwPYjO"
      },
      "source": [
        "## 2. 대략적인 데이터 형태"
      ]
    },
    {
      "cell_type": "code",
      "metadata": {
        "id": "b6DDXmVsPe8N",
        "colab": {
          "base_uri": "https://localhost:8080/",
          "height": 371
        },
        "outputId": "e2a30495-0f86-47ad-baec-c39e3abc0e20"
      },
      "source": [
        "print(\"cifar_train 길이:\", len(cifar_train))\n",
        "print(\"cifar_test 길이:\", len(cifar_test))\n",
        "\n",
        "image, label = cifar_train.__getitem__(1)\n",
        "print(\"image data 형태:\", image.size())\n",
        "print(\"label: \", label)\n",
        "\n",
        "img = image.numpy()\n",
        "\n",
        "r,g,b = img[0,:,:], img[1,:,:], img[2,:,:]\n",
        "img2 = np.zeros((img.shape[1], img.shape[2], img.shape[0]))\n",
        "img2[:,:,0], img2[:,:,1], img2[:,:,2] = r,g,b\n",
        "\n",
        "\n",
        "plt.title(\"label: %d\" %label)\n",
        "plt.imshow(img2, interpolation = 'bicubic')\n",
        "plt.show()"
      ],
      "execution_count": null,
      "outputs": [
        {
          "output_type": "stream",
          "text": [
            "cifar_train 길이: 50000\n",
            "cifar_test 길이: 10000\n",
            "image data 형태: torch.Size([3, 32, 32])\n",
            "label:  9\n"
          ],
          "name": "stdout"
        },
        {
          "output_type": "stream",
          "text": [
            "Clipping input data to the valid range for imshow with RGB data ([0..1] for floats or [0..255] for integers).\n"
          ],
          "name": "stderr"
        },
        {
          "output_type": "display_data",
          "data": {
            "image/png": "[encoded data removed]",
            "text/plain": [
              "<Figure size 432x288 with 1 Axes>"
            ]
          },
          "metadata": {
            "tags": [],
            "needs_background": "light"
          }
        }
      ]
    },
    {
      "cell_type": "code",
      "metadata": {
        "id": "t6FAtk9bQSXG"
      },
      "source": [
        "def ComputeAccr(dloader, imodel):\n",
        "  correct = 0\n",
        "  total = 0\n",
        "\n",
        "  for j, [imgs, labels] in enumerate(dloader):\n",
        "    img = Variable(imgs, volatile=True)\n",
        "    label = Variable(labels)\n",
        "    output = imodel.forward(img)\n",
        "    _, output_index = torch.max(output, 1)\n",
        "\n",
        "    total += label.size(0)\n",
        "    correct += (output_index == label).sum().float()\n",
        "  print(\"Accuracy of Test Data:{}\".format(100*correct/total))\n",
        "\n",
        "\n"
      ],
      "execution_count": null,
      "outputs": []
    },
    {
      "cell_type": "markdown",
      "metadata": {
        "id": "XkLcZaBLa8fd"
      },
      "source": [
        "# CNN모델"
      ]
    },
    {
      "cell_type": "code",
      "metadata": {
        "id": "GP5gWG-DQ5Nn",
        "colab": {
          "base_uri": "https://localhost:8080/"
        },
        "outputId": "cd400750-ecfb-43ff-861c-b6740b26eec0"
      },
      "source": [
        "\n",
        "train_loader = torch.utils.data.DataLoader(list(cifar_train)[:], batch_size=batch_size, shuffle=True, num_workers= 2, drop_last = True)\n",
        "test_loader = torch.utils.data.DataLoader(cifar_test, batch_size=batch_size, shuffle=False, num_workers = 2, drop_last = True)\n",
        "\n",
        "\n",
        "class CNN(nn.Module):\n",
        "  def __init__(self):\n",
        "    super(CNN,self).__init__()\n",
        "    self.layer = nn.Sequential(\n",
        "        nn.Conv2d(3,16,3, padding=1),\n",
        "        nn.ReLU(),\n",
        "        nn.BatchNorm2d(16),\n",
        "        nn.Conv2d(16,32,3,padding = 1),\n",
        "        nn.ReLU(),\n",
        "        nn.BatchNorm2d(32),\n",
        "        nn.MaxPool2d(2,2),\n",
        "        nn.Conv2d(32, 64, 3, padding = 1),\n",
        "        nn.ReLU(),\n",
        "        nn.BatchNorm2d(64),\n",
        "        nn.MaxPool2d(2,2)\n",
        "    )\n",
        "    self.fc_layer = nn.Sequential(\n",
        "        nn.Linear(64*8*8, 100),\n",
        "        nn.ReLU(),\n",
        "        nn.Dropout2d(0.2),\n",
        "        nn.Linear(100,10)\n",
        "    )\n",
        "\n",
        "    for m in self.modules():\n",
        "      if isinstance(m, nn.Conv2d):\n",
        "        init.kaiming_normal(m.weight.data)\n",
        "        m.bias.data.fill_(0)\n",
        "      if isinstance(m, nn.Linear):\n",
        "        init.kaiming_normal(m.weight.data)\n",
        "        m.bias.data.fill_(0)\n",
        "\n",
        "  def forward(self, x):\n",
        "    out=self.layer(x)\n",
        "    out=out.view(128, -1)\n",
        "    out = self.fc_layer(out)\n",
        "    return out\n",
        "\n",
        "model=CNN()"
      ],
      "execution_count": null,
      "outputs": [
        {
          "output_type": "stream",
          "text": [
            "/usr/local/lib/python3.7/dist-packages/ipykernel_launcher.py:31: UserWarning: nn.init.kaiming_normal is now deprecated in favor of nn.init.kaiming_normal_.\n",
            "/usr/local/lib/python3.7/dist-packages/ipykernel_launcher.py:34: UserWarning: nn.init.kaiming_normal is now deprecated in favor of nn.init.kaiming_normal_.\n"
          ],
          "name": "stderr"
        }
      ]
    },
    {
      "cell_type": "code",
      "metadata": {
        "colab": {
          "base_uri": "https://localhost:8080/",
          "height": 1000
        },
        "id": "C3Y-ZgP6SlBM",
        "outputId": "3883b6aa-abfa-41ad-bac0-019aa61588e2"
      },
      "source": [
        "loss_func = nn.CrossEntropyLoss()\n",
        "\n",
        "optimizer = optim.SGD(model.parameters(), lr=0.01,\n",
        "                      momentum=0.9, weight_decay=5e-4)\n",
        "scheduler = lr_scheduler.StepLR(optimizer, step_size = 10, gamma = 0.5)\n",
        "\n",
        "model.train()\n",
        "for i in range(num_epoch):\n",
        "    print('\\nEpoch: %d' % i)\n",
        "    train_loss = 0\n",
        "    correct = 0\n",
        "    total = 0\n",
        "    for j, [image, label] in enumerate(train_loader):\n",
        "        x = Variable(image)\n",
        "        y_ = Variable(label)\n",
        "        #image, label = inputs.to(device), targets.to(device)\n",
        "        optimizer.zero_grad()\n",
        "        output = model.forward(x)\n",
        "        loss = loss_func(output, y_)\n",
        "        loss.backward()\n",
        "        optimizer.step()\n",
        "\n",
        "        train_loss += loss.item()\n",
        "        _, predicted = output.max(1)\n",
        "        total += y_.size(0)\n",
        "        correct += predicted.eq(y_).sum().item()\n",
        "        if(j%100 == 0):\n",
        "          print(j, len(train_loader), 'Loss: %.3f | Acc: %.3f%% (%d/%d)'\n",
        "                      % (train_loss/(j+1), 100.*correct/total, correct, total))\n",
        "    \n",
        "netname = './my_net06.pkl'\n",
        "torch.save(model, netname, )"
      ],
      "execution_count": null,
      "outputs": [
        {
          "output_type": "stream",
          "text": [
            "\n",
            "Epoch: 0\n",
            "0 390 Loss: 3.704 | Acc: 11.719% (15/128)\n",
            "100 390 Loss: 1.948 | Acc: 29.742% (3845/12928)\n",
            "200 390 Loss: 1.794 | Acc: 34.231% (8807/25728)\n",
            "300 390 Loss: 1.714 | Acc: 37.147% (14312/38528)\n",
            "\n",
            "Epoch: 1\n",
            "0 390 Loss: 1.202 | Acc: 56.250% (72/128)\n",
            "100 390 Loss: 1.407 | Acc: 48.244% (6237/12928)\n",
            "200 390 Loss: 1.389 | Acc: 49.195% (12657/25728)\n",
            "300 390 Loss: 1.363 | Acc: 50.223% (19350/38528)\n",
            "\n",
            "Epoch: 2\n",
            "0 390 Loss: 1.270 | Acc: 50.000% (64/128)\n",
            "100 390 Loss: 1.186 | Acc: 56.838% (7348/12928)\n",
            "200 390 Loss: 1.182 | Acc: 57.191% (14714/25728)\n",
            "300 390 Loss: 1.175 | Acc: 57.646% (22210/38528)\n",
            "\n",
            "Epoch: 3\n",
            "0 390 Loss: 0.977 | Acc: 65.625% (84/128)\n",
            "100 390 Loss: 1.043 | Acc: 62.423% (8070/12928)\n",
            "200 390 Loss: 1.055 | Acc: 61.898% (15925/25728)\n",
            "300 390 Loss: 1.049 | Acc: 62.334% (24016/38528)\n",
            "\n",
            "Epoch: 4\n",
            "0 390 Loss: 0.866 | Acc: 72.656% (93/128)\n",
            "100 390 Loss: 0.920 | Acc: 67.025% (8665/12928)\n",
            "200 390 Loss: 0.939 | Acc: 66.717% (17165/25728)\n",
            "300 390 Loss: 0.943 | Acc: 66.510% (25625/38528)\n",
            "\n",
            "Epoch: 5\n",
            "0 390 Loss: 0.710 | Acc: 74.219% (95/128)\n",
            "100 390 Loss: 0.847 | Acc: 70.096% (9062/12928)\n",
            "200 390 Loss: 0.845 | Acc: 69.776% (17952/25728)\n",
            "300 390 Loss: 0.850 | Acc: 69.705% (26856/38528)\n",
            "\n",
            "Epoch: 6\n",
            "0 390 Loss: 0.853 | Acc: 67.969% (87/128)\n",
            "100 390 Loss: 0.760 | Acc: 72.842% (9417/12928)\n",
            "200 390 Loss: 0.763 | Acc: 72.979% (18776/25728)\n",
            "300 390 Loss: 0.772 | Acc: 72.542% (27949/38528)\n",
            "\n",
            "Epoch: 7\n",
            "0 390 Loss: 0.734 | Acc: 72.656% (93/128)\n",
            "100 390 Loss: 0.680 | Acc: 75.588% (9772/12928)\n",
            "200 390 Loss: 0.691 | Acc: 75.264% (19364/25728)\n",
            "300 390 Loss: 0.698 | Acc: 74.984% (28890/38528)\n",
            "\n",
            "Epoch: 8\n",
            "0 390 Loss: 0.683 | Acc: 77.344% (99/128)\n",
            "100 390 Loss: 0.601 | Acc: 78.813% (10189/12928)\n",
            "200 390 Loss: 0.615 | Acc: 78.005% (20069/25728)\n",
            "300 390 Loss: 0.624 | Acc: 77.689% (29932/38528)\n",
            "\n",
            "Epoch: 9\n",
            "0 390 Loss: 0.643 | Acc: 79.688% (102/128)\n",
            "100 390 Loss: 0.533 | Acc: 81.026% (10475/12928)\n",
            "200 390 Loss: 0.549 | Acc: 80.628% (20744/25728)\n",
            "300 390 Loss: 0.558 | Acc: 80.157% (30883/38528)\n",
            "\n",
            "Epoch: 10\n",
            "0 390 Loss: 0.508 | Acc: 78.906% (101/128)\n",
            "100 390 Loss: 0.468 | Acc: 83.145% (10749/12928)\n",
            "200 390 Loss: 0.483 | Acc: 82.847% (21315/25728)\n",
            "300 390 Loss: 0.498 | Acc: 82.353% (31729/38528)\n",
            "\n",
            "Epoch: 11\n",
            "0 390 Loss: 0.365 | Acc: 89.062% (114/128)\n",
            "100 390 Loss: 0.433 | Acc: 84.769% (10959/12928)\n",
            "200 390 Loss: 0.437 | Acc: 84.694% (21790/25728)\n",
            "300 390 Loss: 0.449 | Acc: 84.079% (32394/38528)\n",
            "\n",
            "Epoch: 12\n",
            "0 390 Loss: 0.375 | Acc: 89.844% (115/128)\n",
            "100 390 Loss: 0.377 | Acc: 86.889% (11233/12928)\n",
            "200 390 Loss: 0.387 | Acc: 86.423% (22235/25728)\n",
            "300 390 Loss: 0.402 | Acc: 85.878% (33087/38528)\n",
            "\n",
            "Epoch: 13\n",
            "0 390 Loss: 0.218 | Acc: 92.188% (118/128)\n",
            "100 390 Loss: 0.338 | Acc: 88.266% (11411/12928)\n",
            "200 390 Loss: 0.346 | Acc: 87.741% (22574/25728)\n",
            "300 390 Loss: 0.357 | Acc: 87.334% (33648/38528)\n",
            "\n",
            "Epoch: 14\n",
            "0 390 Loss: 0.368 | Acc: 85.156% (109/128)\n",
            "100 390 Loss: 0.291 | Acc: 89.766% (11605/12928)\n",
            "200 390 Loss: 0.309 | Acc: 89.129% (22931/25728)\n",
            "300 390 Loss: 0.321 | Acc: 88.650% (34155/38528)\n",
            "\n",
            "Epoch: 15\n",
            "0 390 Loss: 0.233 | Acc: 90.625% (116/128)\n",
            "100 390 Loss: 0.270 | Acc: 90.470% (11696/12928)\n",
            "200 390 Loss: 0.279 | Acc: 90.174% (23200/25728)\n",
            "300 390 Loss: 0.296 | Acc: 89.595% (34519/38528)\n",
            "\n",
            "Epoch: 16\n",
            "0 390 Loss: 0.354 | Acc: 89.062% (114/128)\n",
            "100 390 Loss: 0.262 | Acc: 90.803% (11739/12928)\n",
            "200 390 Loss: 0.273 | Acc: 90.505% (23285/25728)\n",
            "300 390 Loss: 0.280 | Acc: 90.246% (34770/38528)\n",
            "\n",
            "Epoch: 17\n",
            "0 390 Loss: 0.304 | Acc: 89.062% (114/128)\n",
            "100 390 Loss: 0.246 | Acc: 91.515% (11831/12928)\n",
            "200 390 Loss: 0.259 | Acc: 90.808% (23363/25728)\n",
            "300 390 Loss: 0.259 | Acc: 90.833% (34996/38528)\n",
            "\n",
            "Epoch: 18\n",
            "0 390 Loss: 0.196 | Acc: 94.531% (121/128)\n",
            "100 390 Loss: 0.218 | Acc: 92.528% (11962/12928)\n",
            "200 390 Loss: 0.225 | Acc: 92.289% (23744/25728)\n",
            "300 390 Loss: 0.230 | Acc: 92.045% (35463/38528)\n",
            "\n",
            "Epoch: 19\n",
            "0 390 Loss: 0.188 | Acc: 95.312% (122/128)\n",
            "100 390 Loss: 0.201 | Acc: 93.093% (12035/12928)\n",
            "200 390 Loss: 0.205 | Acc: 92.891% (23899/25728)\n",
            "300 390 Loss: 0.213 | Acc: 92.616% (35683/38528)\n",
            "\n",
            "Epoch: 20\n",
            "0 390 Loss: 0.249 | Acc: 90.625% (116/128)\n",
            "100 390 Loss: 0.205 | Acc: 92.837% (12002/12928)\n",
            "200 390 Loss: 0.209 | Acc: 92.685% (23846/25728)\n",
            "300 390 Loss: 0.213 | Acc: 92.520% (35646/38528)\n",
            "\n",
            "Epoch: 21\n",
            "0 390 Loss: 0.116 | Acc: 97.656% (125/128)\n",
            "100 390 Loss: 0.192 | Acc: 93.394% (12074/12928)\n",
            "200 390 Loss: 0.198 | Acc: 93.105% (23954/25728)\n",
            "300 390 Loss: 0.207 | Acc: 92.823% (35763/38528)\n",
            "\n",
            "Epoch: 22\n",
            "0 390 Loss: 0.207 | Acc: 91.406% (117/128)\n",
            "100 390 Loss: 0.181 | Acc: 93.680% (12111/12928)\n",
            "200 390 Loss: 0.188 | Acc: 93.458% (24045/25728)\n",
            "300 390 Loss: 0.191 | Acc: 93.363% (35971/38528)\n",
            "\n",
            "Epoch: 23\n",
            "0 390 Loss: 0.105 | Acc: 96.094% (123/128)\n",
            "100 390 Loss: 0.170 | Acc: 94.268% (12187/12928)\n",
            "200 390 Loss: 0.169 | Acc: 94.197% (24235/25728)\n",
            "300 390 Loss: 0.172 | Acc: 94.090% (36251/38528)\n",
            "\n",
            "Epoch: 24\n",
            "0 390 Loss: 0.155 | Acc: 96.094% (123/128)\n",
            "100 390 Loss: 0.158 | Acc: 94.500% (12217/12928)\n",
            "200 390 Loss: 0.163 | Acc: 94.317% (24266/25728)\n",
            "300 390 Loss: 0.170 | Acc: 94.085% (36249/38528)\n",
            "\n",
            "Epoch: 25\n",
            "0 390 Loss: 0.162 | Acc: 93.750% (120/128)\n",
            "100 390 Loss: 0.152 | Acc: 94.895% (12268/12928)\n",
            "200 390 Loss: 0.156 | Acc: 94.543% (24324/25728)\n",
            "300 390 Loss: 0.162 | Acc: 94.438% (36385/38528)\n",
            "\n",
            "Epoch: 26\n",
            "0 390 Loss: 0.073 | Acc: 97.656% (125/128)\n",
            "100 390 Loss: 0.146 | Acc: 94.794% (12255/12928)\n",
            "200 390 Loss: 0.150 | Acc: 94.687% (24361/25728)\n",
            "300 390 Loss: 0.156 | Acc: 94.459% (36393/38528)\n",
            "\n",
            "Epoch: 27\n",
            "0 390 Loss: 0.160 | Acc: 92.188% (118/128)\n",
            "100 390 Loss: 0.131 | Acc: 95.537% (12351/12928)\n",
            "200 390 Loss: 0.138 | Acc: 95.285% (24515/25728)\n",
            "300 390 Loss: 0.146 | Acc: 95.011% (36606/38528)\n",
            "\n",
            "Epoch: 28\n",
            "0 390 Loss: 0.195 | Acc: 94.531% (121/128)\n",
            "100 390 Loss: 0.123 | Acc: 95.885% (12396/12928)\n",
            "200 390 Loss: 0.133 | Acc: 95.367% (24536/25728)\n",
            "300 390 Loss: 0.137 | Acc: 95.274% (36707/38528)\n",
            "\n",
            "Epoch: 29\n",
            "0 390 Loss: 0.151 | Acc: 95.312% (122/128)\n",
            "100 390 Loss: 0.129 | Acc: 95.661% (12367/12928)\n",
            "200 390 Loss: 0.132 | Acc: 95.484% (24566/25728)\n",
            "300 390 Loss: 0.135 | Acc: 95.406% (36758/38528)\n",
            "\n",
            "Epoch: 30\n",
            "0 390 Loss: 0.087 | Acc: 97.656% (125/128)\n",
            "100 390 Loss: 0.127 | Acc: 95.676% (12369/12928)\n",
            "200 390 Loss: 0.128 | Acc: 95.709% (24624/25728)\n",
            "300 390 Loss: 0.132 | Acc: 95.492% (36791/38528)\n",
            "\n",
            "Epoch: 31\n",
            "0 390 Loss: 0.147 | Acc: 93.750% (120/128)\n",
            "100 390 Loss: 0.119 | Acc: 96.047% (12417/12928)\n",
            "200 390 Loss: 0.123 | Acc: 95.810% (24650/25728)\n",
            "300 390 Loss: 0.127 | Acc: 95.704% (36873/38528)\n",
            "\n",
            "Epoch: 32\n",
            "0 390 Loss: 0.129 | Acc: 94.531% (121/128)\n",
            "100 390 Loss: 0.117 | Acc: 95.993% (12410/12928)\n",
            "200 390 Loss: 0.117 | Acc: 96.016% (24703/25728)\n",
            "300 390 Loss: 0.123 | Acc: 95.772% (36899/38528)\n",
            "\n",
            "Epoch: 33\n",
            "0 390 Loss: 0.140 | Acc: 96.094% (123/128)\n",
            "100 390 Loss: 0.113 | Acc: 96.241% (12442/12928)\n",
            "200 390 Loss: 0.116 | Acc: 96.094% (24723/25728)\n",
            "300 390 Loss: 0.123 | Acc: 95.886% (36943/38528)\n",
            "\n",
            "Epoch: 34\n",
            "0 390 Loss: 0.114 | Acc: 94.531% (121/128)\n",
            "100 390 Loss: 0.114 | Acc: 96.241% (12442/12928)\n",
            "200 390 Loss: 0.119 | Acc: 96.125% (24731/25728)\n",
            "300 390 Loss: 0.123 | Acc: 95.912% (36953/38528)\n",
            "\n",
            "Epoch: 35\n",
            "0 390 Loss: 0.049 | Acc: 97.656% (125/128)\n",
            "100 390 Loss: 0.110 | Acc: 96.272% (12446/12928)\n",
            "200 390 Loss: 0.110 | Acc: 96.358% (24791/25728)\n",
            "300 390 Loss: 0.118 | Acc: 95.977% (36978/38528)\n",
            "\n",
            "Epoch: 36\n",
            "0 390 Loss: 0.074 | Acc: 97.656% (125/128)\n",
            "100 390 Loss: 0.111 | Acc: 96.264% (12445/12928)\n",
            "200 390 Loss: 0.113 | Acc: 96.152% (24738/25728)\n",
            "300 390 Loss: 0.116 | Acc: 96.037% (37001/38528)\n",
            "\n",
            "Epoch: 37\n",
            "0 390 Loss: 0.187 | Acc: 92.188% (118/128)\n",
            "100 390 Loss: 0.120 | Acc: 96.101% (12424/12928)\n",
            "200 390 Loss: 0.115 | Acc: 96.245% (24762/25728)\n",
            "300 390 Loss: 0.116 | Acc: 96.127% (37036/38528)\n",
            "\n",
            "Epoch: 38\n",
            "0 390 Loss: 0.113 | Acc: 96.094% (123/128)\n",
            "100 390 Loss: 0.105 | Acc: 96.395% (12462/12928)\n",
            "200 390 Loss: 0.109 | Acc: 96.210% (24753/25728)\n",
            "300 390 Loss: 0.114 | Acc: 95.987% (36982/38528)\n",
            "\n",
            "Epoch: 39\n",
            "0 390 Loss: 0.130 | Acc: 96.875% (124/128)\n",
            "100 390 Loss: 0.105 | Acc: 96.535% (12480/12928)\n",
            "200 390 Loss: 0.114 | Acc: 96.156% (24739/25728)\n",
            "300 390 Loss: 0.115 | Acc: 96.057% (37009/38528)\n",
            "\n",
            "Epoch: 40\n",
            "0 390 Loss: 0.101 | Acc: 96.875% (124/128)\n",
            "100 390 Loss: 0.098 | Acc: 96.774% (12511/12928)\n",
            "200 390 Loss: 0.103 | Acc: 96.560% (24843/25728)\n"
          ],
          "name": "stdout"
        },
        {
          "output_type": "error",
          "ename": "KeyboardInterrupt",
          "evalue": "ignored",
          "traceback": [
            "\u001b[0;31m---------------------------------------------------------------------------\u001b[0m",
            "\u001b[0;31mKeyboardInterrupt\u001b[0m                         Traceback (most recent call last)",
            "\u001b[0;32m<ipython-input-7-ec7011f61506>\u001b[0m in \u001b[0;36m<module>\u001b[0;34m()\u001b[0m\n\u001b[1;32m     18\u001b[0m         \u001b[0moutput\u001b[0m \u001b[0;34m=\u001b[0m \u001b[0mmodel\u001b[0m\u001b[0;34m.\u001b[0m\u001b[0mforward\u001b[0m\u001b[0;34m(\u001b[0m\u001b[0mx\u001b[0m\u001b[0;34m)\u001b[0m\u001b[0;34m\u001b[0m\u001b[0;34m\u001b[0m\u001b[0m\n\u001b[1;32m     19\u001b[0m         \u001b[0mloss\u001b[0m \u001b[0;34m=\u001b[0m \u001b[0mloss_func\u001b[0m\u001b[0;34m(\u001b[0m\u001b[0moutput\u001b[0m\u001b[0;34m,\u001b[0m \u001b[0my_\u001b[0m\u001b[0;34m)\u001b[0m\u001b[0;34m\u001b[0m\u001b[0;34m\u001b[0m\u001b[0m\n\u001b[0;32m---> 20\u001b[0;31m         \u001b[0mloss\u001b[0m\u001b[0;34m.\u001b[0m\u001b[0mbackward\u001b[0m\u001b[0;34m(\u001b[0m\u001b[0;34m)\u001b[0m\u001b[0;34m\u001b[0m\u001b[0;34m\u001b[0m\u001b[0m\n\u001b[0m\u001b[1;32m     21\u001b[0m         \u001b[0moptimizer\u001b[0m\u001b[0;34m.\u001b[0m\u001b[0mstep\u001b[0m\u001b[0;34m(\u001b[0m\u001b[0;34m)\u001b[0m\u001b[0;34m\u001b[0m\u001b[0;34m\u001b[0m\u001b[0m\n\u001b[1;32m     22\u001b[0m \u001b[0;34m\u001b[0m\u001b[0m\n",
            "\u001b[0;32m/usr/local/lib/python3.7/dist-packages/torch/tensor.py\u001b[0m in \u001b[0;36mbackward\u001b[0;34m(self, gradient, retain_graph, create_graph, inputs)\u001b[0m\n\u001b[1;32m    243\u001b[0m                 \u001b[0mcreate_graph\u001b[0m\u001b[0;34m=\u001b[0m\u001b[0mcreate_graph\u001b[0m\u001b[0;34m,\u001b[0m\u001b[0;34m\u001b[0m\u001b[0;34m\u001b[0m\u001b[0m\n\u001b[1;32m    244\u001b[0m                 inputs=inputs)\n\u001b[0;32m--> 245\u001b[0;31m         \u001b[0mtorch\u001b[0m\u001b[0;34m.\u001b[0m\u001b[0mautograd\u001b[0m\u001b[0;34m.\u001b[0m\u001b[0mbackward\u001b[0m\u001b[0;34m(\u001b[0m\u001b[0mself\u001b[0m\u001b[0;34m,\u001b[0m \u001b[0mgradient\u001b[0m\u001b[0;34m,\u001b[0m \u001b[0mretain_graph\u001b[0m\u001b[0;34m,\u001b[0m \u001b[0mcreate_graph\u001b[0m\u001b[0;34m,\u001b[0m \u001b[0minputs\u001b[0m\u001b[0;34m=\u001b[0m\u001b[0minputs\u001b[0m\u001b[0;34m)\u001b[0m\u001b[0;34m\u001b[0m\u001b[0;34m\u001b[0m\u001b[0m\n\u001b[0m\u001b[1;32m    246\u001b[0m \u001b[0;34m\u001b[0m\u001b[0m\n\u001b[1;32m    247\u001b[0m     \u001b[0;32mdef\u001b[0m \u001b[0mregister_hook\u001b[0m\u001b[0;34m(\u001b[0m\u001b[0mself\u001b[0m\u001b[0;34m,\u001b[0m \u001b[0mhook\u001b[0m\u001b[0;34m)\u001b[0m\u001b[0;34m:\u001b[0m\u001b[0;34m\u001b[0m\u001b[0;34m\u001b[0m\u001b[0m\n",
            "\u001b[0;32m/usr/local/lib/python3.7/dist-packages/torch/autograd/__init__.py\u001b[0m in \u001b[0;36mbackward\u001b[0;34m(tensors, grad_tensors, retain_graph, create_graph, grad_variables, inputs)\u001b[0m\n\u001b[1;32m    145\u001b[0m     Variable._execution_engine.run_backward(\n\u001b[1;32m    146\u001b[0m         \u001b[0mtensors\u001b[0m\u001b[0;34m,\u001b[0m \u001b[0mgrad_tensors_\u001b[0m\u001b[0;34m,\u001b[0m \u001b[0mretain_graph\u001b[0m\u001b[0;34m,\u001b[0m \u001b[0mcreate_graph\u001b[0m\u001b[0;34m,\u001b[0m \u001b[0minputs\u001b[0m\u001b[0;34m,\u001b[0m\u001b[0;34m\u001b[0m\u001b[0;34m\u001b[0m\u001b[0m\n\u001b[0;32m--> 147\u001b[0;31m         allow_unreachable=True, accumulate_grad=True)  # allow_unreachable flag\n\u001b[0m\u001b[1;32m    148\u001b[0m \u001b[0;34m\u001b[0m\u001b[0m\n\u001b[1;32m    149\u001b[0m \u001b[0;34m\u001b[0m\u001b[0m\n",
            "\u001b[0;31mKeyboardInterrupt\u001b[0m: "
          ]
        }
      ]
    },
    {
      "cell_type": "markdown",
      "metadata": {
        "id": "7hEBBw2tVkoC"
      },
      "source": [
        "## print Accr"
      ]
    },
    {
      "cell_type": "code",
      "metadata": {
        "id": "mWrUr-nOVjJA",
        "colab": {
          "base_uri": "https://localhost:8080/"
        },
        "outputId": "9fcb2e98-1e27-4aa3-ae1b-4407680ec9c0"
      },
      "source": [
        "model.eval()\n",
        "ComputeAccr(test_loader, model)"
      ],
      "execution_count": null,
      "outputs": [
        {
          "output_type": "stream",
          "text": [
            "/usr/local/lib/python3.7/dist-packages/ipykernel_launcher.py:6: UserWarning: volatile was removed and now has no effect. Use `with torch.no_grad():` instead.\n",
            "  \n"
          ],
          "name": "stderr"
        },
        {
          "output_type": "stream",
          "text": [
            "Accuracy of Test Data:71.89503479003906\n"
          ],
          "name": "stdout"
        }
      ]
    }
  ]
}
