{
  "nbformat": 4,
  "nbformat_minor": 0,
  "metadata": {
    "colab": {
      "name": "Colab_gpu.Py37.ipynb의 사본",
      "provenance": []
    },
    "kernelspec": {
      "name": "python3",
      "display_name": "Python 3"
    },
    "language_info": {
      "name": "python"
    },
    "accelerator": "GPU",
    "widgets": {
      "application/vnd.jupyter.widget-state+json": {
        "6c638907eeaa43cb852a12e37a65a329": {
          "model_module": "@jupyter-widgets/controls",
          "model_name": "HBoxModel",
          "state": {
            "_view_name": "HBoxView",
            "_dom_classes": [],
            "_model_name": "HBoxModel",
            "_view_module": "@jupyter-widgets/controls",
            "_model_module_version": "1.5.0",
            "_view_count": null,
            "_view_module_version": "1.5.0",
            "box_style": "",
            "layout": "IPY_MODEL_dbe2597ea375488182d116c72dc75006",
            "_model_module": "@jupyter-widgets/controls",
            "children": [
              "IPY_MODEL_f7ca8effa59e41bc85f71fd4ced22052",
              "IPY_MODEL_d04e1ddea8224dc2bdb741fab1572e3f"
            ]
          }
        },
        "dbe2597ea375488182d116c72dc75006": {
          "model_module": "@jupyter-widgets/base",
          "model_name": "LayoutModel",
          "state": {
            "_view_name": "LayoutView",
            "grid_template_rows": null,
            "right": null,
            "justify_content": null,
            "_view_module": "@jupyter-widgets/base",
            "overflow": null,
            "_model_module_version": "1.2.0",
            "_view_count": null,
            "flex_flow": null,
            "width": null,
            "min_width": null,
            "border": null,
            "align_items": null,
            "bottom": null,
            "_model_module": "@jupyter-widgets/base",
            "top": null,
            "grid_column": null,
            "overflow_y": null,
            "overflow_x": null,
            "grid_auto_flow": null,
            "grid_area": null,
            "grid_template_columns": null,
            "flex": null,
            "_model_name": "LayoutModel",
            "justify_items": null,
            "grid_row": null,
            "max_height": null,
            "align_content": null,
            "visibility": null,
            "align_self": null,
            "height": null,
            "min_height": null,
            "padding": null,
            "grid_auto_rows": null,
            "grid_gap": null,
            "max_width": null,
            "order": null,
            "_view_module_version": "1.2.0",
            "grid_template_areas": null,
            "object_position": null,
            "object_fit": null,
            "grid_auto_columns": null,
            "margin": null,
            "display": null,
            "left": null
          }
        },
        "f7ca8effa59e41bc85f71fd4ced22052": {
          "model_module": "@jupyter-widgets/controls",
          "model_name": "FloatProgressModel",
          "state": {
            "_view_name": "ProgressView",
            "style": "IPY_MODEL_0c6d23538ce54ba9a9ae2bde8e4d3c2c",
            "_dom_classes": [],
            "description": "",
            "_model_name": "FloatProgressModel",
            "bar_style": "success",
            "max": 170498071,
            "_view_module": "@jupyter-widgets/controls",
            "_model_module_version": "1.5.0",
            "value": 170498071,
            "_view_count": null,
            "_view_module_version": "1.5.0",
            "orientation": "horizontal",
            "min": 0,
            "description_tooltip": null,
            "_model_module": "@jupyter-widgets/controls",
            "layout": "IPY_MODEL_0d6aa16e68644c4aa01c23a68216c742"
          }
        },
        "d04e1ddea8224dc2bdb741fab1572e3f": {
          "model_module": "@jupyter-widgets/controls",
          "model_name": "HTMLModel",
          "state": {
            "_view_name": "HTMLView",
            "style": "IPY_MODEL_0ee5fbe9fcb34edb8a43d53b71f8606b",
            "_dom_classes": [],
            "description": "",
            "_model_name": "HTMLModel",
            "placeholder": "​",
            "_view_module": "@jupyter-widgets/controls",
            "_model_module_version": "1.5.0",
            "value": " 170499072/? [00:06&lt;00:00, 24972080.32it/s]",
            "_view_count": null,
            "_view_module_version": "1.5.0",
            "description_tooltip": null,
            "_model_module": "@jupyter-widgets/controls",
            "layout": "IPY_MODEL_b496695b0752498ba5bc68698aae7d40"
          }
        },
        "0c6d23538ce54ba9a9ae2bde8e4d3c2c": {
          "model_module": "@jupyter-widgets/controls",
          "model_name": "ProgressStyleModel",
          "state": {
            "_view_name": "StyleView",
            "_model_name": "ProgressStyleModel",
            "description_width": "initial",
            "_view_module": "@jupyter-widgets/base",
            "_model_module_version": "1.5.0",
            "_view_count": null,
            "_view_module_version": "1.2.0",
            "bar_color": null,
            "_model_module": "@jupyter-widgets/controls"
          }
        },
        "0d6aa16e68644c4aa01c23a68216c742": {
          "model_module": "@jupyter-widgets/base",
          "model_name": "LayoutModel",
          "state": {
            "_view_name": "LayoutView",
            "grid_template_rows": null,
            "right": null,
            "justify_content": null,
            "_view_module": "@jupyter-widgets/base",
            "overflow": null,
            "_model_module_version": "1.2.0",
            "_view_count": null,
            "flex_flow": null,
            "width": null,
            "min_width": null,
            "border": null,
            "align_items": null,
            "bottom": null,
            "_model_module": "@jupyter-widgets/base",
            "top": null,
            "grid_column": null,
            "overflow_y": null,
            "overflow_x": null,
            "grid_auto_flow": null,
            "grid_area": null,
            "grid_template_columns": null,
            "flex": null,
            "_model_name": "LayoutModel",
            "justify_items": null,
            "grid_row": null,
            "max_height": null,
            "align_content": null,
            "visibility": null,
            "align_self": null,
            "height": null,
            "min_height": null,
            "padding": null,
            "grid_auto_rows": null,
            "grid_gap": null,
            "max_width": null,
            "order": null,
            "_view_module_version": "1.2.0",
            "grid_template_areas": null,
            "object_position": null,
            "object_fit": null,
            "grid_auto_columns": null,
            "margin": null,
            "display": null,
            "left": null
          }
        },
        "0ee5fbe9fcb34edb8a43d53b71f8606b": {
          "model_module": "@jupyter-widgets/controls",
          "model_name": "DescriptionStyleModel",
          "state": {
            "_view_name": "StyleView",
            "_model_name": "DescriptionStyleModel",
            "description_width": "",
            "_view_module": "@jupyter-widgets/base",
            "_model_module_version": "1.5.0",
            "_view_count": null,
            "_view_module_version": "1.2.0",
            "_model_module": "@jupyter-widgets/controls"
          }
        },
        "b496695b0752498ba5bc68698aae7d40": {
          "model_module": "@jupyter-widgets/base",
          "model_name": "LayoutModel",
          "state": {
            "_view_name": "LayoutView",
            "grid_template_rows": null,
            "right": null,
            "justify_content": null,
            "_view_module": "@jupyter-widgets/base",
            "overflow": null,
            "_model_module_version": "1.2.0",
            "_view_count": null,
            "flex_flow": null,
            "width": null,
            "min_width": null,
            "border": null,
            "align_items": null,
            "bottom": null,
            "_model_module": "@jupyter-widgets/base",
            "top": null,
            "grid_column": null,
            "overflow_y": null,
            "overflow_x": null,
            "grid_auto_flow": null,
            "grid_area": null,
            "grid_template_columns": null,
            "flex": null,
            "_model_name": "LayoutModel",
            "justify_items": null,
            "grid_row": null,
            "max_height": null,
            "align_content": null,
            "visibility": null,
            "align_self": null,
            "height": null,
            "min_height": null,
            "padding": null,
            "grid_auto_rows": null,
            "grid_gap": null,
            "max_width": null,
            "order": null,
            "_view_module_version": "1.2.0",
            "grid_template_areas": null,
            "object_position": null,
            "object_fit": null,
            "grid_auto_columns": null,
            "margin": null,
            "display": null,
            "left": null
          }
        }
      }
    }
  },
  "cells": [
    {
      "cell_type": "markdown",
      "metadata": {
        "id": "ZTwAr8xclpu4"
      },
      "source": [
        "# CIFAR10 인식 정확도 챌린지 \n",
        "\n",
        "### 컴퓨터과학과 201910976 안선정"
      ]
    },
    {
      "cell_type": "code",
      "metadata": {
        "id": "rgmWiVVxE-W5"
      },
      "source": [
        "import numpy as np\n",
        "import torch\n",
        "import torch.nn as nn\n",
        "import torch.optim as optim\n",
        "import torch.nn.init as init\n",
        "import torchvision.datasets as dset\n",
        "import torchvision.transforms as transforms\n",
        "from torch.utils.data import DataLoader\n",
        "from torch.autograd import Variable\n",
        "import matplotlib.pyplot as plt\n",
        "from sklearn.preprocessing import StandardScaler\n",
        "from torch.optim import lr_scheduler\n",
        "scaler = StandardScaler()\n",
        "batch_size = 32\n",
        "learning_rate = 0.01\n",
        "num_epoch = 37"
      ],
      "execution_count": null,
      "outputs": []
    },
    {
      "cell_type": "code",
      "metadata": {
        "id": "eCpVYRhqFKko",
        "colab": {
          "base_uri": "https://localhost:8080/",
          "height": 103,
          "referenced_widgets": [
            "6c638907eeaa43cb852a12e37a65a329",
            "dbe2597ea375488182d116c72dc75006",
            "f7ca8effa59e41bc85f71fd4ced22052",
            "d04e1ddea8224dc2bdb741fab1572e3f",
            "0c6d23538ce54ba9a9ae2bde8e4d3c2c",
            "0d6aa16e68644c4aa01c23a68216c742",
            "0ee5fbe9fcb34edb8a43d53b71f8606b",
            "b496695b0752498ba5bc68698aae7d40"
          ]
        },
        "outputId": "abace117-cebc-41e7-dc9d-15ce66af7eb5"
      },
      "source": [
        "cifar_train=dset.CIFAR10(\"CIFAR10/\", train=True, \n",
        "                        transform = transforms.Compose([\n",
        "                            transforms.ToTensor(),\n",
        "                            transforms.Normalize(mean=(0.5,0.5,0.5), std = (0.5,0.5,0.5)),\n",
        "                        ])\n",
        "                        , target_transform= None, download=True)\n",
        "cifar_test=dset.CIFAR10(\"CIFAR10/\", train = False, \n",
        "                        transform = transforms.Compose([\n",
        "                            transforms.ToTensor(),\n",
        "                            transforms.Normalize(mean=(0.5,0.5,0.5), std = (0.5,0.5,0.5)),\n",
        "                        ])\n",
        "                        , target_transform= None, download=False)"
      ],
      "execution_count": null,
      "outputs": [
        {
          "output_type": "stream",
          "text": [
            "Downloading https://www.cs.toronto.edu/~kriz/cifar-10-python.tar.gz to CIFAR10/cifar-10-python.tar.gz\n"
          ],
          "name": "stdout"
        },
        {
          "output_type": "display_data",
          "data": {
            "application/vnd.jupyter.widget-view+json": {
              "model_id": "6c638907eeaa43cb852a12e37a65a329",
              "version_minor": 0,
              "version_major": 2
            },
            "text/plain": [
              "HBox(children=(FloatProgress(value=0.0, max=170498071.0), HTML(value='')))"
            ]
          },
          "metadata": {
            "tags": []
          }
        },
        {
          "output_type": "stream",
          "text": [
            "\n",
            "Extracting CIFAR10/cifar-10-python.tar.gz to CIFAR10/\n"
          ],
          "name": "stdout"
        }
      ]
    },
    {
      "cell_type": "code",
      "metadata": {
        "id": "_b6FWdN6FKnO"
      },
      "source": [
        "def ComputeAccr(dloader, imodel):\n",
        "    correct = 0\n",
        "    total = 0\n",
        "    \n",
        "    for j, [imgs, labels] in enumerate(dloader):\n",
        "        img = Variable(imgs, volatile=True).cuda()\n",
        "        label = Variable(labels).cuda()\n",
        "        output = imodel.forward(img)\n",
        "        _, output_index = torch.max(output, 1)\n",
        "        total += label.size(0)\n",
        "        correct += (output_index == label).sum().float()\n",
        "    print(\"Accuracy of Test Data:{}\".format(100*correct/total))"
      ],
      "execution_count": null,
      "outputs": []
    },
    {
      "cell_type": "markdown",
      "metadata": {
        "id": "3L5mIIVGmEzQ"
      },
      "source": [
        "## 모델 수정"
      ]
    },
    {
      "cell_type": "code",
      "metadata": {
        "colab": {
          "base_uri": "https://localhost:8080/"
        },
        "id": "hVKY6NVnFYzC",
        "outputId": "d91ac20c-92d0-45f4-e2a6-a4775a1f7036"
      },
      "source": [
        "train_loader = torch.utils.data.DataLoader(list(cifar_train)[:], batch_size=batch_size, shuffle=True, num_workers= 2, drop_last = True)\n",
        "test_loader = torch.utils.data.DataLoader(cifar_test, batch_size=batch_size, shuffle=False, num_workers = 2, drop_last = True)\n",
        "\n",
        "class CNN(nn.Module):\n",
        "    def __init__(self):\n",
        "        super(CNN,self).__init__()\n",
        "        self.layer = nn.Sequential(\n",
        "            nn.Conv2d(3,16,3, padding=1),\n",
        "            nn.BatchNorm2d(16),\n",
        "            nn.ReLU(),\n",
        "            nn.Conv2d(16,32,3,padding = 1),\n",
        "            nn.BatchNorm2d(32),\n",
        "            nn.ReLU(),\n",
        "            nn.MaxPool2d(2,2),\n",
        "            nn.Dropout2d(p=0.07),\n",
        "            nn.Conv2d(32, 64, 3, padding = 1),\n",
        "            nn.BatchNorm2d(64),\n",
        "            nn.ReLU(),\n",
        "            nn.MaxPool2d(2,2)\n",
        "        )\n",
        "        self.fc_layer = nn.Sequential(\n",
        "            nn.Dropout2d(p=0.1),\n",
        "            nn.Linear(64*8*8, 100),\n",
        "            nn.BatchNorm1d(100),\n",
        "            nn.ReLU(),\n",
        "            nn.Dropout2d(p=0.1),\n",
        "            nn.Linear(100,10)\n",
        "        )\n",
        "        for m in self.modules():\n",
        "            if isinstance(m, nn.Conv2d):\n",
        "                init.kaiming_normal(m.weight.data)\n",
        "                m.bias.data.fill_(0)\n",
        "            if isinstance(m, nn.Linear):\n",
        "                init.kaiming_normal(m.weight.data)\n",
        "                m.bias.data.fill_(0)\n",
        "\n",
        "    def forward(self, x):\n",
        "        out=self.layer(x)\n",
        "        out=out.view(batch_size, -1)\n",
        "        out = self.fc_layer(out)\n",
        "        return out\n",
        "\n",
        "model=CNN().cuda()"
      ],
      "execution_count": null,
      "outputs": [
        {
          "output_type": "stream",
          "text": [
            "/usr/local/lib/python3.7/dist-packages/ipykernel_launcher.py:31: UserWarning: nn.init.kaiming_normal is now deprecated in favor of nn.init.kaiming_normal_.\n",
            "/usr/local/lib/python3.7/dist-packages/ipykernel_launcher.py:34: UserWarning: nn.init.kaiming_normal is now deprecated in favor of nn.init.kaiming_normal_.\n"
          ],
          "name": "stderr"
        }
      ]
    },
    {
      "cell_type": "markdown",
      "metadata": {
        "id": "FAdfyZU7mMkG"
      },
      "source": [
        "## 모델 학습"
      ]
    },
    {
      "cell_type": "code",
      "metadata": {
        "colab": {
          "base_uri": "https://localhost:8080/"
        },
        "id": "Lyu6ag8FFY3Y",
        "outputId": "f1c279a1-c644-4ff6-af9e-8c54d9c0e507"
      },
      "source": [
        "loss_func = nn.CrossEntropyLoss()\n",
        "optimizer = torch.optim.Adam(model.parameters(), lr=learning_rate)\n",
        "\n",
        "model.train()\n",
        "for i in range(num_epoch):\n",
        "    for j,[image, label] in enumerate(train_loader):\n",
        "        x=Variable(image).cuda()\n",
        "        y_=Variable(label).cuda()\n",
        "\n",
        "        optimizer.zero_grad()\n",
        "        output=model.forward(x)\n",
        "        loss = loss_func(output,y_)\n",
        "        loss.backward()\n",
        "        optimizer.step()\n",
        "\n",
        "        if j%1000 ==0:\n",
        "            print(j, loss)"
      ],
      "execution_count": null,
      "outputs": [
        {
          "output_type": "stream",
          "text": [
            "0 tensor(0.6589, device='cuda:0', grad_fn=<NllLossBackward>)\n",
            "1000 tensor(0.5631, device='cuda:0', grad_fn=<NllLossBackward>)\n",
            "0 tensor(0.2921, device='cuda:0', grad_fn=<NllLossBackward>)\n",
            "1000 tensor(0.5442, device='cuda:0', grad_fn=<NllLossBackward>)\n",
            "0 tensor(0.2600, device='cuda:0', grad_fn=<NllLossBackward>)\n",
            "1000 tensor(0.7729, device='cuda:0', grad_fn=<NllLossBackward>)\n",
            "0 tensor(0.1411, device='cuda:0', grad_fn=<NllLossBackward>)\n",
            "1000 tensor(0.3345, device='cuda:0', grad_fn=<NllLossBackward>)\n",
            "0 tensor(0.2832, device='cuda:0', grad_fn=<NllLossBackward>)\n",
            "1000 tensor(0.2805, device='cuda:0', grad_fn=<NllLossBackward>)\n",
            "0 tensor(0.5250, device='cuda:0', grad_fn=<NllLossBackward>)\n",
            "1000 tensor(0.1256, device='cuda:0', grad_fn=<NllLossBackward>)\n",
            "0 tensor(0.1871, device='cuda:0', grad_fn=<NllLossBackward>)\n",
            "1000 tensor(0.2151, device='cuda:0', grad_fn=<NllLossBackward>)\n",
            "0 tensor(0.2979, device='cuda:0', grad_fn=<NllLossBackward>)\n",
            "1000 tensor(0.2916, device='cuda:0', grad_fn=<NllLossBackward>)\n",
            "0 tensor(0.1762, device='cuda:0', grad_fn=<NllLossBackward>)\n",
            "1000 tensor(0.3583, device='cuda:0', grad_fn=<NllLossBackward>)\n",
            "0 tensor(0.1005, device='cuda:0', grad_fn=<NllLossBackward>)\n",
            "1000 tensor(0.2130, device='cuda:0', grad_fn=<NllLossBackward>)\n",
            "0 tensor(0.2430, device='cuda:0', grad_fn=<NllLossBackward>)\n",
            "1000 tensor(0.5400, device='cuda:0', grad_fn=<NllLossBackward>)\n",
            "0 tensor(0.1515, device='cuda:0', grad_fn=<NllLossBackward>)\n",
            "1000 tensor(0.1768, device='cuda:0', grad_fn=<NllLossBackward>)\n",
            "0 tensor(0.1775, device='cuda:0', grad_fn=<NllLossBackward>)\n",
            "1000 tensor(0.4231, device='cuda:0', grad_fn=<NllLossBackward>)\n",
            "0 tensor(0.6729, device='cuda:0', grad_fn=<NllLossBackward>)\n",
            "1000 tensor(0.0412, device='cuda:0', grad_fn=<NllLossBackward>)\n",
            "0 tensor(0.1256, device='cuda:0', grad_fn=<NllLossBackward>)\n",
            "1000 tensor(0.3028, device='cuda:0', grad_fn=<NllLossBackward>)\n",
            "0 tensor(0.2654, device='cuda:0', grad_fn=<NllLossBackward>)\n",
            "1000 tensor(0.1195, device='cuda:0', grad_fn=<NllLossBackward>)\n",
            "0 tensor(0.1858, device='cuda:0', grad_fn=<NllLossBackward>)\n",
            "1000 tensor(0.1230, device='cuda:0', grad_fn=<NllLossBackward>)\n",
            "0 tensor(0.1232, device='cuda:0', grad_fn=<NllLossBackward>)\n",
            "1000 tensor(0.1097, device='cuda:0', grad_fn=<NllLossBackward>)\n",
            "0 tensor(0.0874, device='cuda:0', grad_fn=<NllLossBackward>)\n",
            "1000 tensor(0.0816, device='cuda:0', grad_fn=<NllLossBackward>)\n",
            "0 tensor(0.0745, device='cuda:0', grad_fn=<NllLossBackward>)\n",
            "1000 tensor(0.2305, device='cuda:0', grad_fn=<NllLossBackward>)\n",
            "0 tensor(0.1672, device='cuda:0', grad_fn=<NllLossBackward>)\n",
            "1000 tensor(0.1076, device='cuda:0', grad_fn=<NllLossBackward>)\n",
            "0 tensor(0.1438, device='cuda:0', grad_fn=<NllLossBackward>)\n",
            "1000 tensor(0.3225, device='cuda:0', grad_fn=<NllLossBackward>)\n",
            "0 tensor(0.0439, device='cuda:0', grad_fn=<NllLossBackward>)\n",
            "1000 tensor(0.1366, device='cuda:0', grad_fn=<NllLossBackward>)\n",
            "0 tensor(0.1450, device='cuda:0', grad_fn=<NllLossBackward>)\n",
            "1000 tensor(0.3140, device='cuda:0', grad_fn=<NllLossBackward>)\n",
            "0 tensor(0.0730, device='cuda:0', grad_fn=<NllLossBackward>)\n",
            "1000 tensor(0.1625, device='cuda:0', grad_fn=<NllLossBackward>)\n",
            "0 tensor(0.2457, device='cuda:0', grad_fn=<NllLossBackward>)\n",
            "1000 tensor(0.1454, device='cuda:0', grad_fn=<NllLossBackward>)\n",
            "0 tensor(0.4095, device='cuda:0', grad_fn=<NllLossBackward>)\n",
            "1000 tensor(0.1519, device='cuda:0', grad_fn=<NllLossBackward>)\n",
            "0 tensor(0.1466, device='cuda:0', grad_fn=<NllLossBackward>)\n",
            "1000 tensor(0.1308, device='cuda:0', grad_fn=<NllLossBackward>)\n",
            "0 tensor(0.2059, device='cuda:0', grad_fn=<NllLossBackward>)\n",
            "1000 tensor(0.2990, device='cuda:0', grad_fn=<NllLossBackward>)\n",
            "0 tensor(0.0813, device='cuda:0', grad_fn=<NllLossBackward>)\n",
            "1000 tensor(0.1543, device='cuda:0', grad_fn=<NllLossBackward>)\n",
            "0 tensor(0.1416, device='cuda:0', grad_fn=<NllLossBackward>)\n",
            "1000 tensor(0.1813, device='cuda:0', grad_fn=<NllLossBackward>)\n",
            "0 tensor(0.0545, device='cuda:0', grad_fn=<NllLossBackward>)\n",
            "1000 tensor(0.1363, device='cuda:0', grad_fn=<NllLossBackward>)\n",
            "0 tensor(0.1485, device='cuda:0', grad_fn=<NllLossBackward>)\n",
            "1000 tensor(0.3099, device='cuda:0', grad_fn=<NllLossBackward>)\n",
            "0 tensor(0.1531, device='cuda:0', grad_fn=<NllLossBackward>)\n",
            "1000 tensor(0.0498, device='cuda:0', grad_fn=<NllLossBackward>)\n",
            "0 tensor(0.0941, device='cuda:0', grad_fn=<NllLossBackward>)\n",
            "1000 tensor(0.1906, device='cuda:0', grad_fn=<NllLossBackward>)\n",
            "0 tensor(0.1431, device='cuda:0', grad_fn=<NllLossBackward>)\n",
            "1000 tensor(0.1280, device='cuda:0', grad_fn=<NllLossBackward>)\n",
            "0 tensor(0.0248, device='cuda:0', grad_fn=<NllLossBackward>)\n",
            "1000 tensor(0.1674, device='cuda:0', grad_fn=<NllLossBackward>)\n"
          ],
          "name": "stdout"
        }
      ]
    },
    {
      "cell_type": "markdown",
      "metadata": {
        "id": "rgQdj2rXmSwy"
      },
      "source": [
        "## 모델 저장 전 test_loader의 정확도"
      ]
    },
    {
      "cell_type": "code",
      "metadata": {
        "colab": {
          "base_uri": "https://localhost:8080/"
        },
        "id": "kDapM2n8F8tb",
        "outputId": "906f1794-db40-4af3-fd59-e0e514ea1da1"
      },
      "source": [
        "model.eval()\n",
        "ComputeAccr(test_loader, model)"
      ],
      "execution_count": null,
      "outputs": [
        {
          "output_type": "stream",
          "text": [
            "/usr/local/lib/python3.7/dist-packages/ipykernel_launcher.py:6: UserWarning: volatile was removed and now has no effect. Use `with torch.no_grad():` instead.\n",
            "  \n"
          ],
          "name": "stderr"
        },
        {
          "output_type": "stream",
          "text": [
            "Accuracy of Test Data:78.0849380493164\n"
          ],
          "name": "stdout"
        }
      ]
    },
    {
      "cell_type": "markdown",
      "metadata": {
        "id": "zsupkRtVmZUT"
      },
      "source": [
        "## 모델 저장"
      ]
    },
    {
      "cell_type": "code",
      "metadata": {
        "id": "HLtzCzpDF8va"
      },
      "source": [
        "path = './content'"
      ],
      "execution_count": null,
      "outputs": []
    },
    {
      "cell_type": "code",
      "metadata": {
        "id": "xGXEVaLjF7xL"
      },
      "source": [
        "torch.save(model, path+'78.08.pkl')"
      ],
      "execution_count": null,
      "outputs": []
    },
    {
      "cell_type": "markdown",
      "metadata": {
        "id": "zksGDQ3mmcQB"
      },
      "source": [
        "## 저장된 모델 load후 test_loader의 정확도"
      ]
    },
    {
      "cell_type": "code",
      "metadata": {
        "id": "2bR6gMSZF7zZ",
        "colab": {
          "base_uri": "https://localhost:8080/"
        },
        "outputId": "8676279f-47bb-4310-e3f8-9572a1d123eb"
      },
      "source": [
        "netname = '/content/content78.08.pkl'\n",
        "model = torch.load(netname)\n",
        "model.eval()\n",
        "ComputeAccr(test_loader,model)"
      ],
      "execution_count": null,
      "outputs": [
        {
          "output_type": "stream",
          "text": [
            "/usr/local/lib/python3.7/dist-packages/ipykernel_launcher.py:6: UserWarning: volatile was removed and now has no effect. Use `with torch.no_grad():` instead.\n",
            "  \n"
          ],
          "name": "stderr"
        },
        {
          "output_type": "stream",
          "text": [
            "Accuracy of Test Data:78.0849380493164\n"
          ],
          "name": "stdout"
        }
      ]
    }
  ]
}
