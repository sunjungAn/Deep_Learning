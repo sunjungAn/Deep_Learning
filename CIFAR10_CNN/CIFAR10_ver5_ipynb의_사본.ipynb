{
  "nbformat": 4,
  "nbformat_minor": 0,
  "metadata": {
    "colab": {
      "name": "CIFAR10_ver5.ipynb의 사본",
      "provenance": [],
      "collapsed_sections": [],
      "toc_visible": true
    },
    "kernelspec": {
      "display_name": "Python 3",
      "name": "python3"
    },
    "language_info": {
      "name": "python"
    },
    "widgets": {
      "application/vnd.jupyter.widget-state+json": {
        "f0a82825d0af445d825e43a4ce18807a": {
          "model_module": "@jupyter-widgets/controls",
          "model_name": "HBoxModel",
          "state": {
            "_view_name": "HBoxView",
            "_dom_classes": [],
            "_model_name": "HBoxModel",
            "_view_module": "@jupyter-widgets/controls",
            "_model_module_version": "1.5.0",
            "_view_count": null,
            "_view_module_version": "1.5.0",
            "box_style": "",
            "layout": "IPY_MODEL_398acee992434e98a5f6d6319f5dbbad",
            "_model_module": "@jupyter-widgets/controls",
            "children": [
              "IPY_MODEL_3bab94717e114a68881ea91a66611c62",
              "IPY_MODEL_2864d55c268c428c9bc94a4442d54b0a"
            ]
          }
        },
        "398acee992434e98a5f6d6319f5dbbad": {
          "model_module": "@jupyter-widgets/base",
          "model_name": "LayoutModel",
          "state": {
            "_view_name": "LayoutView",
            "grid_template_rows": null,
            "right": null,
            "justify_content": null,
            "_view_module": "@jupyter-widgets/base",
            "overflow": null,
            "_model_module_version": "1.2.0",
            "_view_count": null,
            "flex_flow": null,
            "width": null,
            "min_width": null,
            "border": null,
            "align_items": null,
            "bottom": null,
            "_model_module": "@jupyter-widgets/base",
            "top": null,
            "grid_column": null,
            "overflow_y": null,
            "overflow_x": null,
            "grid_auto_flow": null,
            "grid_area": null,
            "grid_template_columns": null,
            "flex": null,
            "_model_name": "LayoutModel",
            "justify_items": null,
            "grid_row": null,
            "max_height": null,
            "align_content": null,
            "visibility": null,
            "align_self": null,
            "height": null,
            "min_height": null,
            "padding": null,
            "grid_auto_rows": null,
            "grid_gap": null,
            "max_width": null,
            "order": null,
            "_view_module_version": "1.2.0",
            "grid_template_areas": null,
            "object_position": null,
            "object_fit": null,
            "grid_auto_columns": null,
            "margin": null,
            "display": null,
            "left": null
          }
        },
        "3bab94717e114a68881ea91a66611c62": {
          "model_module": "@jupyter-widgets/controls",
          "model_name": "FloatProgressModel",
          "state": {
            "_view_name": "ProgressView",
            "style": "IPY_MODEL_de26c35508b54f46afad06bb0c227118",
            "_dom_classes": [],
            "description": "",
            "_model_name": "FloatProgressModel",
            "bar_style": "success",
            "max": 170498071,
            "_view_module": "@jupyter-widgets/controls",
            "_model_module_version": "1.5.0",
            "value": 170498071,
            "_view_count": null,
            "_view_module_version": "1.5.0",
            "orientation": "horizontal",
            "min": 0,
            "description_tooltip": null,
            "_model_module": "@jupyter-widgets/controls",
            "layout": "IPY_MODEL_4e85d426ef8c48d6a480d4d457cc7acb"
          }
        },
        "2864d55c268c428c9bc94a4442d54b0a": {
          "model_module": "@jupyter-widgets/controls",
          "model_name": "HTMLModel",
          "state": {
            "_view_name": "HTMLView",
            "style": "IPY_MODEL_7a0acb04ce904c31bcacc9ed7d1c35cf",
            "_dom_classes": [],
            "description": "",
            "_model_name": "HTMLModel",
            "placeholder": "​",
            "_view_module": "@jupyter-widgets/controls",
            "_model_module_version": "1.5.0",
            "value": " 170499072/? [00:06&lt;00:00, 24409090.54it/s]",
            "_view_count": null,
            "_view_module_version": "1.5.0",
            "description_tooltip": null,
            "_model_module": "@jupyter-widgets/controls",
            "layout": "IPY_MODEL_8265ca3acab54079a0e4a4b38ef1f584"
          }
        },
        "de26c35508b54f46afad06bb0c227118": {
          "model_module": "@jupyter-widgets/controls",
          "model_name": "ProgressStyleModel",
          "state": {
            "_view_name": "StyleView",
            "_model_name": "ProgressStyleModel",
            "description_width": "initial",
            "_view_module": "@jupyter-widgets/base",
            "_model_module_version": "1.5.0",
            "_view_count": null,
            "_view_module_version": "1.2.0",
            "bar_color": null,
            "_model_module": "@jupyter-widgets/controls"
          }
        },
        "4e85d426ef8c48d6a480d4d457cc7acb": {
          "model_module": "@jupyter-widgets/base",
          "model_name": "LayoutModel",
          "state": {
            "_view_name": "LayoutView",
            "grid_template_rows": null,
            "right": null,
            "justify_content": null,
            "_view_module": "@jupyter-widgets/base",
            "overflow": null,
            "_model_module_version": "1.2.0",
            "_view_count": null,
            "flex_flow": null,
            "width": null,
            "min_width": null,
            "border": null,
            "align_items": null,
            "bottom": null,
            "_model_module": "@jupyter-widgets/base",
            "top": null,
            "grid_column": null,
            "overflow_y": null,
            "overflow_x": null,
            "grid_auto_flow": null,
            "grid_area": null,
            "grid_template_columns": null,
            "flex": null,
            "_model_name": "LayoutModel",
            "justify_items": null,
            "grid_row": null,
            "max_height": null,
            "align_content": null,
            "visibility": null,
            "align_self": null,
            "height": null,
            "min_height": null,
            "padding": null,
            "grid_auto_rows": null,
            "grid_gap": null,
            "max_width": null,
            "order": null,
            "_view_module_version": "1.2.0",
            "grid_template_areas": null,
            "object_position": null,
            "object_fit": null,
            "grid_auto_columns": null,
            "margin": null,
            "display": null,
            "left": null
          }
        },
        "7a0acb04ce904c31bcacc9ed7d1c35cf": {
          "model_module": "@jupyter-widgets/controls",
          "model_name": "DescriptionStyleModel",
          "state": {
            "_view_name": "StyleView",
            "_model_name": "DescriptionStyleModel",
            "description_width": "",
            "_view_module": "@jupyter-widgets/base",
            "_model_module_version": "1.5.0",
            "_view_count": null,
            "_view_module_version": "1.2.0",
            "_model_module": "@jupyter-widgets/controls"
          }
        },
        "8265ca3acab54079a0e4a4b38ef1f584": {
          "model_module": "@jupyter-widgets/base",
          "model_name": "LayoutModel",
          "state": {
            "_view_name": "LayoutView",
            "grid_template_rows": null,
            "right": null,
            "justify_content": null,
            "_view_module": "@jupyter-widgets/base",
            "overflow": null,
            "_model_module_version": "1.2.0",
            "_view_count": null,
            "flex_flow": null,
            "width": null,
            "min_width": null,
            "border": null,
            "align_items": null,
            "bottom": null,
            "_model_module": "@jupyter-widgets/base",
            "top": null,
            "grid_column": null,
            "overflow_y": null,
            "overflow_x": null,
            "grid_auto_flow": null,
            "grid_area": null,
            "grid_template_columns": null,
            "flex": null,
            "_model_name": "LayoutModel",
            "justify_items": null,
            "grid_row": null,
            "max_height": null,
            "align_content": null,
            "visibility": null,
            "align_self": null,
            "height": null,
            "min_height": null,
            "padding": null,
            "grid_auto_rows": null,
            "grid_gap": null,
            "max_width": null,
            "order": null,
            "_view_module_version": "1.2.0",
            "grid_template_areas": null,
            "object_position": null,
            "object_fit": null,
            "grid_auto_columns": null,
            "margin": null,
            "display": null,
            "left": null
          }
        }
      }
    }
  },
  "cells": [
    {
      "cell_type": "code",
      "metadata": {
        "id": "S8sPIWDjOBGV"
      },
      "source": [
        "import numpy as np\n",
        "import torch\n",
        "import torch.nn as nn\n",
        "import torch.optim as optim\n",
        "import torch.nn.init as init\n",
        "import torchvision.datasets as dset\n",
        "import torchvision.transforms as transforms\n",
        "from torch.utils.data import DataLoader\n",
        "from torch.autograd import Variable\n",
        "import matplotlib.pyplot as plt\n",
        "\n",
        "from torch.optim import lr_scheduler\n",
        "\n",
        "batch_size = 128\n",
        "learning_rate = 0.002\n",
        "num_epoch = 125"
      ],
      "execution_count": 1,
      "outputs": []
    },
    {
      "cell_type": "markdown",
      "metadata": {
        "id": "qn7J2d7PO2wI"
      },
      "source": [
        "## 1. CIFAR10 train, test dataset 가져오기(163MB)\n",
        "MNIST : 11MB"
      ]
    },
    {
      "cell_type": "code",
      "metadata": {
        "id": "2BnMK0aAO0ru",
        "colab": {
          "base_uri": "https://localhost:8080/",
          "height": 121,
          "referenced_widgets": [
            "f0a82825d0af445d825e43a4ce18807a",
            "398acee992434e98a5f6d6319f5dbbad",
            "3bab94717e114a68881ea91a66611c62",
            "2864d55c268c428c9bc94a4442d54b0a",
            "de26c35508b54f46afad06bb0c227118",
            "4e85d426ef8c48d6a480d4d457cc7acb",
            "7a0acb04ce904c31bcacc9ed7d1c35cf",
            "8265ca3acab54079a0e4a4b38ef1f584"
          ]
        },
        "outputId": "e59040f0-35a5-4295-f13e-2066d38b74df"
      },
      "source": [
        "cifar_train=dset.CIFAR10(\"CIFAR10/\", train=True, transform = transforms.Compose([\n",
        "                                                                                 transforms.RandomCrop(32, padding=4),\n",
        "                                                                                 transforms.RandomHorizontalFlip(),\n",
        "                                                                                 transforms.ToTensor(),\n",
        "                                                                                 transforms.Normalize(mean = (0.5,0.5,0.5), std =(0.5,0.5,0.5))]), target_transform= None, download=True)\n",
        "cifar_test=dset.CIFAR10(\"CIFAR10/\", train = False, transform=transforms.Compose([\n",
        "                                                                                 transforms.ToTensor(),\n",
        "                                                                                 transforms.Normalize(mean = (0.5,0.5,0.5), std =(0.5,0.5,0.5))\n",
        "                                                                            \n",
        "]), target_transform=None, download=True)"
      ],
      "execution_count": 2,
      "outputs": [
        {
          "output_type": "stream",
          "text": [
            "Downloading https://www.cs.toronto.edu/~kriz/cifar-10-python.tar.gz to CIFAR10/cifar-10-python.tar.gz\n"
          ],
          "name": "stdout"
        },
        {
          "output_type": "display_data",
          "data": {
            "application/vnd.jupyter.widget-view+json": {
              "model_id": "f0a82825d0af445d825e43a4ce18807a",
              "version_minor": 0,
              "version_major": 2
            },
            "text/plain": [
              "HBox(children=(FloatProgress(value=0.0, max=170498071.0), HTML(value='')))"
            ]
          },
          "metadata": {
            "tags": []
          }
        },
        {
          "output_type": "stream",
          "text": [
            "\n",
            "Extracting CIFAR10/cifar-10-python.tar.gz to CIFAR10/\n",
            "Files already downloaded and verified\n"
          ],
          "name": "stdout"
        }
      ]
    },
    {
      "cell_type": "markdown",
      "metadata": {
        "id": "mZ9PyHpwPYjO"
      },
      "source": [
        "## 2. 대략적인 데이터 형태"
      ]
    },
    {
      "cell_type": "code",
      "metadata": {
        "id": "b6DDXmVsPe8N",
        "colab": {
          "base_uri": "https://localhost:8080/",
          "height": 371
        },
        "outputId": "1c009b57-e5a7-4c80-f3e5-d078589e5b21"
      },
      "source": [
        "print(\"cifar_train 길이:\", len(cifar_train))\n",
        "print(\"cifar_test 길이:\", len(cifar_test))\n",
        "\n",
        "image, label = cifar_train.__getitem__(1)\n",
        "print(\"image data 형태:\", image.size())\n",
        "print(\"label: \", label)\n",
        "\n",
        "img = image.numpy()\n",
        "\n",
        "r,g,b = img[0,:,:], img[1,:,:], img[2,:,:]\n",
        "img2 = np.zeros((img.shape[1], img.shape[2], img.shape[0]))\n",
        "img2[:,:,0], img2[:,:,1], img2[:,:,2] = r,g,b\n",
        "\n",
        "plt.title(\"label: %d\" %label)\n",
        "plt.imshow(img2, interpolation = 'bicubic')\n",
        "plt.show()"
      ],
      "execution_count": 3,
      "outputs": [
        {
          "output_type": "stream",
          "text": [
            "Clipping input data to the valid range for imshow with RGB data ([0..1] for floats or [0..255] for integers).\n"
          ],
          "name": "stderr"
        },
        {
          "output_type": "stream",
          "text": [
            "cifar_train 길이: 50000\n",
            "cifar_test 길이: 10000\n",
            "image data 형태: torch.Size([3, 32, 32])\n",
            "label:  9\n"
          ],
          "name": "stdout"
        },
        {
          "output_type": "display_data",
          "data": {
            "image/png": "[encoded data removed]",
            "text/plain": [
              "<Figure size 432x288 with 1 Axes>"
            ]
          },
          "metadata": {
            "tags": [],
            "needs_background": "light"
          }
        }
      ]
    },
    {
      "cell_type": "code",
      "metadata": {
        "id": "t6FAtk9bQSXG"
      },
      "source": [
        "def ComputeAccr(dloader, imodel):\n",
        "  correct = 0\n",
        "  total = 0\n",
        "\n",
        "  for j, [imgs, labels] in enumerate(dloader):\n",
        "    img = Variable(imgs, volatile=True)\n",
        "    label = Variable(labels)\n",
        "    output = imodel.forward(img)\n",
        "    _, output_index = torch.max(output, 1)\n",
        "\n",
        "    total += label.size(0)\n",
        "    correct += (output_index == label).sum().float()\n",
        "  print(\"Accuracy of Test Data:{}\".format(100*correct/total))\n",
        "\n",
        "\n"
      ],
      "execution_count": 4,
      "outputs": []
    },
    {
      "cell_type": "markdown",
      "metadata": {
        "id": "XkLcZaBLa8fd"
      },
      "source": [
        "# CNN모델"
      ]
    },
    {
      "cell_type": "code",
      "metadata": {
        "id": "GP5gWG-DQ5Nn",
        "colab": {
          "base_uri": "https://localhost:8080/"
        },
        "outputId": "31b88895-54a3-45f4-da54-e0207da18fa3"
      },
      "source": [
        "train_loader = torch.utils.data.DataLoader(list(cifar_train)[:], batch_size=batch_size, shuffle=True, num_workers= 2, drop_last = True)\n",
        "test_loader = torch.utils.data.DataLoader(cifar_test, batch_size=batch_size, shuffle=False, num_workers = 2, drop_last = True)\n",
        "\n",
        "class CNN(nn.Module):\n",
        "  def __init__(self):\n",
        "    super(CNN,self).__init__()\n",
        "    self.layer = nn.Sequential(\n",
        "        nn.Conv2d(3,16,3, padding=1),\n",
        "        nn.ReLU(),\n",
        "        nn.BatchNorm2d(16),\n",
        "        nn.Conv2d(16,32,3,padding = 1),\n",
        "        nn.ReLU(),\n",
        "        nn.BatchNorm2d(32),\n",
        "        nn.MaxPool2d(2,2),\n",
        "        nn.Conv2d(32, 64, 3, padding = 1),\n",
        "        nn.ReLU(),\n",
        "        nn.BatchNorm2d(64),\n",
        "        nn.MaxPool2d(2,2)\n",
        "    )\n",
        "    self.fc_layer = nn.Sequential(\n",
        "        nn.Linear(64*8*8, 100),\n",
        "        nn.ReLU(),\n",
        "        nn.Dropout2d(0.2),\n",
        "        nn.Linear(100,10)\n",
        "    )\n",
        "\n",
        "    for m in self.modules():\n",
        "      if isinstance(m, nn.Conv2d):\n",
        "        init.kaiming_normal(m.weight.data)\n",
        "        m.bias.data.fill_(0)\n",
        "      if isinstance(m, nn.Linear):\n",
        "        init.kaiming_normal(m.weight.data)\n",
        "        m.bias.data.fill_(0)\n",
        "\n",
        "  def forward(self, x):\n",
        "    out=self.layer(x)\n",
        "    out=out.view(batch_size, -1)\n",
        "    out = self.fc_layer(out)\n",
        "    return out\n",
        "\n",
        "model=CNN()"
      ],
      "execution_count": 5,
      "outputs": [
        {
          "output_type": "stream",
          "text": [
            "/usr/local/lib/python3.7/dist-packages/ipykernel_launcher.py:29: UserWarning: nn.init.kaiming_normal is now deprecated in favor of nn.init.kaiming_normal_.\n",
            "/usr/local/lib/python3.7/dist-packages/ipykernel_launcher.py:32: UserWarning: nn.init.kaiming_normal is now deprecated in favor of nn.init.kaiming_normal_.\n"
          ],
          "name": "stderr"
        }
      ]
    },
    {
      "cell_type": "code",
      "metadata": {
        "id": "C3Y-ZgP6SlBM",
        "colab": {
          "base_uri": "https://localhost:8080/",
          "height": 1000
        },
        "outputId": "d309f99a-3b7c-410d-aa07-192a92f7cc22"
      },
      "source": [
        "loss_func = nn.CrossEntropyLoss()\n",
        "optimizer = torch.optim.SGD(model.parameters(), lr = learning_rate)\n",
        "scheduler = lr_scheduler.StepLR(optimizer, step_size = 20, gamma = 0.2)\n",
        "\n",
        "model.train()\n",
        "for i in range(num_epoch):\n",
        "  for j,[image, label] in enumerate(train_loader):\n",
        "    x=Variable(image)\n",
        "    y_=Variable(label)\n",
        "\n",
        "    optimizer.zero_grad()\n",
        "    output=model.forward(x)\n",
        "    loss = loss_func(output,y_)\n",
        "    loss.backward()\n",
        "    optimizer.step()\n",
        "\n",
        "  print(i, loss)\n",
        "  "
      ],
      "execution_count": 6,
      "outputs": [
        {
          "output_type": "stream",
          "text": [
            "0 tensor(1.9956, grad_fn=<NllLossBackward>)\n",
            "1 tensor(1.8826, grad_fn=<NllLossBackward>)\n",
            "2 tensor(1.6976, grad_fn=<NllLossBackward>)\n",
            "3 tensor(1.7427, grad_fn=<NllLossBackward>)\n",
            "4 tensor(1.5516, grad_fn=<NllLossBackward>)\n",
            "5 tensor(1.4563, grad_fn=<NllLossBackward>)\n",
            "6 tensor(1.4911, grad_fn=<NllLossBackward>)\n",
            "7 tensor(1.4766, grad_fn=<NllLossBackward>)\n",
            "8 tensor(1.4513, grad_fn=<NllLossBackward>)\n",
            "9 tensor(1.4889, grad_fn=<NllLossBackward>)\n",
            "10 tensor(1.2943, grad_fn=<NllLossBackward>)\n",
            "11 tensor(1.3069, grad_fn=<NllLossBackward>)\n",
            "12 tensor(1.2753, grad_fn=<NllLossBackward>)\n",
            "13 tensor(1.5048, grad_fn=<NllLossBackward>)\n",
            "14 tensor(1.1870, grad_fn=<NllLossBackward>)\n",
            "15 tensor(1.2899, grad_fn=<NllLossBackward>)\n",
            "16 tensor(1.2719, grad_fn=<NllLossBackward>)\n",
            "17 tensor(1.2154, grad_fn=<NllLossBackward>)\n",
            "18 tensor(1.0762, grad_fn=<NllLossBackward>)\n",
            "19 tensor(1.2537, grad_fn=<NllLossBackward>)\n",
            "20 tensor(1.2427, grad_fn=<NllLossBackward>)\n",
            "21 tensor(1.1582, grad_fn=<NllLossBackward>)\n",
            "22 tensor(1.1052, grad_fn=<NllLossBackward>)\n",
            "23 tensor(1.2313, grad_fn=<NllLossBackward>)\n",
            "24 tensor(1.1550, grad_fn=<NllLossBackward>)\n",
            "25 tensor(1.1218, grad_fn=<NllLossBackward>)\n",
            "26 tensor(1.1107, grad_fn=<NllLossBackward>)\n",
            "27 tensor(1.0364, grad_fn=<NllLossBackward>)\n",
            "28 tensor(1.1307, grad_fn=<NllLossBackward>)\n",
            "29 tensor(0.9827, grad_fn=<NllLossBackward>)\n",
            "30 tensor(1.0190, grad_fn=<NllLossBackward>)\n",
            "31 tensor(1.0143, grad_fn=<NllLossBackward>)\n",
            "32 tensor(1.0102, grad_fn=<NllLossBackward>)\n",
            "33 tensor(1.0617, grad_fn=<NllLossBackward>)\n",
            "34 tensor(1.0377, grad_fn=<NllLossBackward>)\n",
            "35 tensor(1.0234, grad_fn=<NllLossBackward>)\n",
            "36 tensor(0.8893, grad_fn=<NllLossBackward>)\n",
            "37 tensor(0.9091, grad_fn=<NllLossBackward>)\n",
            "38 tensor(1.0508, grad_fn=<NllLossBackward>)\n",
            "39 tensor(0.7962, grad_fn=<NllLossBackward>)\n",
            "40 tensor(0.9539, grad_fn=<NllLossBackward>)\n",
            "41 tensor(0.9957, grad_fn=<NllLossBackward>)\n",
            "42 tensor(0.9884, grad_fn=<NllLossBackward>)\n",
            "43 tensor(0.8734, grad_fn=<NllLossBackward>)\n",
            "44 tensor(0.9137, grad_fn=<NllLossBackward>)\n",
            "45 tensor(0.9178, grad_fn=<NllLossBackward>)\n",
            "46 tensor(0.9163, grad_fn=<NllLossBackward>)\n",
            "47 tensor(0.8846, grad_fn=<NllLossBackward>)\n",
            "48 tensor(0.9311, grad_fn=<NllLossBackward>)\n",
            "49 tensor(0.8514, grad_fn=<NllLossBackward>)\n",
            "50 tensor(0.8484, grad_fn=<NllLossBackward>)\n"
          ],
          "name": "stdout"
        },
        {
          "output_type": "error",
          "ename": "KeyboardInterrupt",
          "evalue": "ignored",
          "traceback": [
            "\u001b[0;31m---------------------------------------------------------------------------\u001b[0m",
            "\u001b[0;31mKeyboardInterrupt\u001b[0m                         Traceback (most recent call last)",
            "\u001b[0;32m<ipython-input-6-76ce27b75127>\u001b[0m in \u001b[0;36m<module>\u001b[0;34m()\u001b[0m\n\u001b[1;32m     12\u001b[0m     \u001b[0moutput\u001b[0m\u001b[0;34m=\u001b[0m\u001b[0mmodel\u001b[0m\u001b[0;34m.\u001b[0m\u001b[0mforward\u001b[0m\u001b[0;34m(\u001b[0m\u001b[0mx\u001b[0m\u001b[0;34m)\u001b[0m\u001b[0;34m\u001b[0m\u001b[0;34m\u001b[0m\u001b[0m\n\u001b[1;32m     13\u001b[0m     \u001b[0mloss\u001b[0m \u001b[0;34m=\u001b[0m \u001b[0mloss_func\u001b[0m\u001b[0;34m(\u001b[0m\u001b[0moutput\u001b[0m\u001b[0;34m,\u001b[0m\u001b[0my_\u001b[0m\u001b[0;34m)\u001b[0m\u001b[0;34m\u001b[0m\u001b[0;34m\u001b[0m\u001b[0m\n\u001b[0;32m---> 14\u001b[0;31m     \u001b[0mloss\u001b[0m\u001b[0;34m.\u001b[0m\u001b[0mbackward\u001b[0m\u001b[0;34m(\u001b[0m\u001b[0;34m)\u001b[0m\u001b[0;34m\u001b[0m\u001b[0;34m\u001b[0m\u001b[0m\n\u001b[0m\u001b[1;32m     15\u001b[0m     \u001b[0moptimizer\u001b[0m\u001b[0;34m.\u001b[0m\u001b[0mstep\u001b[0m\u001b[0;34m(\u001b[0m\u001b[0;34m)\u001b[0m\u001b[0;34m\u001b[0m\u001b[0;34m\u001b[0m\u001b[0m\n\u001b[1;32m     16\u001b[0m \u001b[0;34m\u001b[0m\u001b[0m\n",
            "\u001b[0;32m/usr/local/lib/python3.7/dist-packages/torch/tensor.py\u001b[0m in \u001b[0;36mbackward\u001b[0;34m(self, gradient, retain_graph, create_graph, inputs)\u001b[0m\n\u001b[1;32m    243\u001b[0m                 \u001b[0mcreate_graph\u001b[0m\u001b[0;34m=\u001b[0m\u001b[0mcreate_graph\u001b[0m\u001b[0;34m,\u001b[0m\u001b[0;34m\u001b[0m\u001b[0;34m\u001b[0m\u001b[0m\n\u001b[1;32m    244\u001b[0m                 inputs=inputs)\n\u001b[0;32m--> 245\u001b[0;31m         \u001b[0mtorch\u001b[0m\u001b[0;34m.\u001b[0m\u001b[0mautograd\u001b[0m\u001b[0;34m.\u001b[0m\u001b[0mbackward\u001b[0m\u001b[0;34m(\u001b[0m\u001b[0mself\u001b[0m\u001b[0;34m,\u001b[0m \u001b[0mgradient\u001b[0m\u001b[0;34m,\u001b[0m \u001b[0mretain_graph\u001b[0m\u001b[0;34m,\u001b[0m \u001b[0mcreate_graph\u001b[0m\u001b[0;34m,\u001b[0m \u001b[0minputs\u001b[0m\u001b[0;34m=\u001b[0m\u001b[0minputs\u001b[0m\u001b[0;34m)\u001b[0m\u001b[0;34m\u001b[0m\u001b[0;34m\u001b[0m\u001b[0m\n\u001b[0m\u001b[1;32m    246\u001b[0m \u001b[0;34m\u001b[0m\u001b[0m\n\u001b[1;32m    247\u001b[0m     \u001b[0;32mdef\u001b[0m \u001b[0mregister_hook\u001b[0m\u001b[0;34m(\u001b[0m\u001b[0mself\u001b[0m\u001b[0;34m,\u001b[0m \u001b[0mhook\u001b[0m\u001b[0;34m)\u001b[0m\u001b[0;34m:\u001b[0m\u001b[0;34m\u001b[0m\u001b[0;34m\u001b[0m\u001b[0m\n",
            "\u001b[0;32m/usr/local/lib/python3.7/dist-packages/torch/autograd/__init__.py\u001b[0m in \u001b[0;36mbackward\u001b[0;34m(tensors, grad_tensors, retain_graph, create_graph, grad_variables, inputs)\u001b[0m\n\u001b[1;32m    145\u001b[0m     Variable._execution_engine.run_backward(\n\u001b[1;32m    146\u001b[0m         \u001b[0mtensors\u001b[0m\u001b[0;34m,\u001b[0m \u001b[0mgrad_tensors_\u001b[0m\u001b[0;34m,\u001b[0m \u001b[0mretain_graph\u001b[0m\u001b[0;34m,\u001b[0m \u001b[0mcreate_graph\u001b[0m\u001b[0;34m,\u001b[0m \u001b[0minputs\u001b[0m\u001b[0;34m,\u001b[0m\u001b[0;34m\u001b[0m\u001b[0;34m\u001b[0m\u001b[0m\n\u001b[0;32m--> 147\u001b[0;31m         allow_unreachable=True, accumulate_grad=True)  # allow_unreachable flag\n\u001b[0m\u001b[1;32m    148\u001b[0m \u001b[0;34m\u001b[0m\u001b[0m\n\u001b[1;32m    149\u001b[0m \u001b[0;34m\u001b[0m\u001b[0m\n",
            "\u001b[0;31mKeyboardInterrupt\u001b[0m: "
          ]
        }
      ]
    },
    {
      "cell_type": "code",
      "metadata": {
        "id": "yGezV7OVj-CN"
      },
      "source": [
        "netname = './my_net05.pkl'\n",
        "torch.save(model, netname, )"
      ],
      "execution_count": 7,
      "outputs": []
    },
    {
      "cell_type": "markdown",
      "metadata": {
        "id": "7hEBBw2tVkoC"
      },
      "source": [
        "## print Accr"
      ]
    },
    {
      "cell_type": "code",
      "metadata": {
        "id": "mWrUr-nOVjJA",
        "colab": {
          "base_uri": "https://localhost:8080/"
        },
        "outputId": "8fdbceef-c88e-4d43-e35e-5e934ea75b97"
      },
      "source": [
        "model.train()\n",
        "ComputeAccr(test_loader, model)"
      ],
      "execution_count": 8,
      "outputs": [
        {
          "output_type": "stream",
          "text": [
            "/usr/local/lib/python3.7/dist-packages/ipykernel_launcher.py:6: UserWarning: volatile was removed and now has no effect. Use `with torch.no_grad():` instead.\n",
            "  \n"
          ],
          "name": "stderr"
        },
        {
          "output_type": "stream",
          "text": [
            "Accuracy of Test Data:56.870994567871094\n"
          ],
          "name": "stdout"
        }
      ]
    }
  ]
}