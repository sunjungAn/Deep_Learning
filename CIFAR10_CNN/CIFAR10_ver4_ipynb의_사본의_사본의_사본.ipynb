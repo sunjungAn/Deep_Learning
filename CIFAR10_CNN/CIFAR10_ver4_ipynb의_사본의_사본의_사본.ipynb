{
  "nbformat": 4,
  "nbformat_minor": 0,
  "metadata": {
    "colab": {
      "name": "CIFAR10_ver4.ipynb의 사본의 사본의 사본",
      "provenance": [],
      "collapsed_sections": [],
      "toc_visible": true
    },
    "kernelspec": {
      "display_name": "Python 3",
      "name": "python3"
    },
    "language_info": {
      "name": "python"
    },
    "widgets": {
      "application/vnd.jupyter.widget-state+json": {
        "58c488ba72184bf9938f5f8f74ced781": {
          "model_module": "@jupyter-widgets/controls",
          "model_name": "HBoxModel",
          "state": {
            "_view_name": "HBoxView",
            "_dom_classes": [],
            "_model_name": "HBoxModel",
            "_view_module": "@jupyter-widgets/controls",
            "_model_module_version": "1.5.0",
            "_view_count": null,
            "_view_module_version": "1.5.0",
            "box_style": "",
            "layout": "IPY_MODEL_0d264b4636ee45e293d3fba15f6f6cc0",
            "_model_module": "@jupyter-widgets/controls",
            "children": [
              "IPY_MODEL_db22cb2716d34c0bb6c7b3cf358088a9",
              "IPY_MODEL_55f52e8674c0472b8891350d316717d4"
            ]
          }
        },
        "0d264b4636ee45e293d3fba15f6f6cc0": {
          "model_module": "@jupyter-widgets/base",
          "model_name": "LayoutModel",
          "state": {
            "_view_name": "LayoutView",
            "grid_template_rows": null,
            "right": null,
            "justify_content": null,
            "_view_module": "@jupyter-widgets/base",
            "overflow": null,
            "_model_module_version": "1.2.0",
            "_view_count": null,
            "flex_flow": null,
            "width": null,
            "min_width": null,
            "border": null,
            "align_items": null,
            "bottom": null,
            "_model_module": "@jupyter-widgets/base",
            "top": null,
            "grid_column": null,
            "overflow_y": null,
            "overflow_x": null,
            "grid_auto_flow": null,
            "grid_area": null,
            "grid_template_columns": null,
            "flex": null,
            "_model_name": "LayoutModel",
            "justify_items": null,
            "grid_row": null,
            "max_height": null,
            "align_content": null,
            "visibility": null,
            "align_self": null,
            "height": null,
            "min_height": null,
            "padding": null,
            "grid_auto_rows": null,
            "grid_gap": null,
            "max_width": null,
            "order": null,
            "_view_module_version": "1.2.0",
            "grid_template_areas": null,
            "object_position": null,
            "object_fit": null,
            "grid_auto_columns": null,
            "margin": null,
            "display": null,
            "left": null
          }
        },
        "db22cb2716d34c0bb6c7b3cf358088a9": {
          "model_module": "@jupyter-widgets/controls",
          "model_name": "FloatProgressModel",
          "state": {
            "_view_name": "ProgressView",
            "style": "IPY_MODEL_a7c352e50548435788c0adf58d85e3ea",
            "_dom_classes": [],
            "description": "",
            "_model_name": "FloatProgressModel",
            "bar_style": "success",
            "max": 170498071,
            "_view_module": "@jupyter-widgets/controls",
            "_model_module_version": "1.5.0",
            "value": 170498071,
            "_view_count": null,
            "_view_module_version": "1.5.0",
            "orientation": "horizontal",
            "min": 0,
            "description_tooltip": null,
            "_model_module": "@jupyter-widgets/controls",
            "layout": "IPY_MODEL_9e1a90153e0745d0943bd367928ae5c7"
          }
        },
        "55f52e8674c0472b8891350d316717d4": {
          "model_module": "@jupyter-widgets/controls",
          "model_name": "HTMLModel",
          "state": {
            "_view_name": "HTMLView",
            "style": "IPY_MODEL_aca2d58fc04b4c458fc38a1298cd268a",
            "_dom_classes": [],
            "description": "",
            "_model_name": "HTMLModel",
            "placeholder": "​",
            "_view_module": "@jupyter-widgets/controls",
            "_model_module_version": "1.5.0",
            "value": " 170499072/? [00:15&lt;00:00, 11024363.17it/s]",
            "_view_count": null,
            "_view_module_version": "1.5.0",
            "description_tooltip": null,
            "_model_module": "@jupyter-widgets/controls",
            "layout": "IPY_MODEL_4e35dc8c1e0f4cbcae24fceb9ebbea09"
          }
        },
        "a7c352e50548435788c0adf58d85e3ea": {
          "model_module": "@jupyter-widgets/controls",
          "model_name": "ProgressStyleModel",
          "state": {
            "_view_name": "StyleView",
            "_model_name": "ProgressStyleModel",
            "description_width": "initial",
            "_view_module": "@jupyter-widgets/base",
            "_model_module_version": "1.5.0",
            "_view_count": null,
            "_view_module_version": "1.2.0",
            "bar_color": null,
            "_model_module": "@jupyter-widgets/controls"
          }
        },
        "9e1a90153e0745d0943bd367928ae5c7": {
          "model_module": "@jupyter-widgets/base",
          "model_name": "LayoutModel",
          "state": {
            "_view_name": "LayoutView",
            "grid_template_rows": null,
            "right": null,
            "justify_content": null,
            "_view_module": "@jupyter-widgets/base",
            "overflow": null,
            "_model_module_version": "1.2.0",
            "_view_count": null,
            "flex_flow": null,
            "width": null,
            "min_width": null,
            "border": null,
            "align_items": null,
            "bottom": null,
            "_model_module": "@jupyter-widgets/base",
            "top": null,
            "grid_column": null,
            "overflow_y": null,
            "overflow_x": null,
            "grid_auto_flow": null,
            "grid_area": null,
            "grid_template_columns": null,
            "flex": null,
            "_model_name": "LayoutModel",
            "justify_items": null,
            "grid_row": null,
            "max_height": null,
            "align_content": null,
            "visibility": null,
            "align_self": null,
            "height": null,
            "min_height": null,
            "padding": null,
            "grid_auto_rows": null,
            "grid_gap": null,
            "max_width": null,
            "order": null,
            "_view_module_version": "1.2.0",
            "grid_template_areas": null,
            "object_position": null,
            "object_fit": null,
            "grid_auto_columns": null,
            "margin": null,
            "display": null,
            "left": null
          }
        },
        "aca2d58fc04b4c458fc38a1298cd268a": {
          "model_module": "@jupyter-widgets/controls",
          "model_name": "DescriptionStyleModel",
          "state": {
            "_view_name": "StyleView",
            "_model_name": "DescriptionStyleModel",
            "description_width": "",
            "_view_module": "@jupyter-widgets/base",
            "_model_module_version": "1.5.0",
            "_view_count": null,
            "_view_module_version": "1.2.0",
            "_model_module": "@jupyter-widgets/controls"
          }
        },
        "4e35dc8c1e0f4cbcae24fceb9ebbea09": {
          "model_module": "@jupyter-widgets/base",
          "model_name": "LayoutModel",
          "state": {
            "_view_name": "LayoutView",
            "grid_template_rows": null,
            "right": null,
            "justify_content": null,
            "_view_module": "@jupyter-widgets/base",
            "overflow": null,
            "_model_module_version": "1.2.0",
            "_view_count": null,
            "flex_flow": null,
            "width": null,
            "min_width": null,
            "border": null,
            "align_items": null,
            "bottom": null,
            "_model_module": "@jupyter-widgets/base",
            "top": null,
            "grid_column": null,
            "overflow_y": null,
            "overflow_x": null,
            "grid_auto_flow": null,
            "grid_area": null,
            "grid_template_columns": null,
            "flex": null,
            "_model_name": "LayoutModel",
            "justify_items": null,
            "grid_row": null,
            "max_height": null,
            "align_content": null,
            "visibility": null,
            "align_self": null,
            "height": null,
            "min_height": null,
            "padding": null,
            "grid_auto_rows": null,
            "grid_gap": null,
            "max_width": null,
            "order": null,
            "_view_module_version": "1.2.0",
            "grid_template_areas": null,
            "object_position": null,
            "object_fit": null,
            "grid_auto_columns": null,
            "margin": null,
            "display": null,
            "left": null
          }
        }
      }
    }
  },
  "cells": [
    {
      "cell_type": "code",
      "metadata": {
        "id": "S8sPIWDjOBGV"
      },
      "source": [
        "import numpy as np\n",
        "import torch\n",
        "import torch.nn as nn\n",
        "import torch.optim as optim\n",
        "import torch.nn.init as init\n",
        "import torchvision.datasets as dset\n",
        "import torchvision.transforms as transforms\n",
        "from torch.utils.data import DataLoader\n",
        "from torch.autograd import Variable\n",
        "import matplotlib.pyplot as plt\n",
        "\n",
        "from torch.optim import lr_scheduler\n",
        "\n",
        "batch_size = 16\n",
        "learning_rate = 0.002\n",
        "num_epoch = 1"
      ],
      "execution_count": 1,
      "outputs": []
    },
    {
      "cell_type": "markdown",
      "metadata": {
        "id": "qn7J2d7PO2wI"
      },
      "source": [
        "## 1. CIFAR10 train, test dataset 가져오기(163MB)\n",
        "MNIST : 11MB"
      ]
    },
    {
      "cell_type": "code",
      "metadata": {
        "id": "2BnMK0aAO0ru",
        "colab": {
          "base_uri": "https://localhost:8080/",
          "height": 157,
          "referenced_widgets": [
            "58c488ba72184bf9938f5f8f74ced781",
            "0d264b4636ee45e293d3fba15f6f6cc0",
            "db22cb2716d34c0bb6c7b3cf358088a9",
            "55f52e8674c0472b8891350d316717d4",
            "a7c352e50548435788c0adf58d85e3ea",
            "9e1a90153e0745d0943bd367928ae5c7",
            "aca2d58fc04b4c458fc38a1298cd268a",
            "4e35dc8c1e0f4cbcae24fceb9ebbea09"
          ]
        },
        "outputId": "41ce9dc5-9e8d-4b61-8126-1c10f512b5fb"
      },
      "source": [
        "cifar_train=dset.CIFAR10(\"CIFAR10/\", train=True, transform = transforms.Compose([\n",
        "                                                                                 transforms.Scale(36),\n",
        "                                                                                 transforms.CenterCrop(32),\n",
        "                                                                                 transforms.RandomHorizontalFlip(),\n",
        "                                                                                 transforms.Lambda(lambda x: x.rotate(90)),\n",
        "                                                                                 transforms.ToTensor(),\n",
        "                                                                                 transforms.Normalize(mean = (0.5,0.5,0.5), std =(0.5,0.5,0.5))]), target_transform= None, download=True)\n",
        "cifar_test=dset.CIFAR10(\"CIFAR10/\", train = False, transform=transforms.Compose([\n",
        "                                                                                 transforms.ToTensor(),\n",
        "                                                                                 transforms.Normalize(mean = (0.5,0.5,0.5), std =(0.5,0.5,0.5))\n",
        "                                                                            \n",
        "]), target_transform=None, download=True)"
      ],
      "execution_count": 2,
      "outputs": [
        {
          "output_type": "stream",
          "text": [
            "/usr/local/lib/python3.7/dist-packages/torchvision/transforms/transforms.py:285: UserWarning: The use of the transforms.Scale transform is deprecated, please use transforms.Resize instead.\n",
            "  warnings.warn(\"The use of the transforms.Scale transform is deprecated, \" +\n"
          ],
          "name": "stderr"
        },
        {
          "output_type": "stream",
          "text": [
            "Downloading https://www.cs.toronto.edu/~kriz/cifar-10-python.tar.gz to CIFAR10/cifar-10-python.tar.gz\n"
          ],
          "name": "stdout"
        },
        {
          "output_type": "display_data",
          "data": {
            "application/vnd.jupyter.widget-view+json": {
              "model_id": "58c488ba72184bf9938f5f8f74ced781",
              "version_minor": 0,
              "version_major": 2
            },
            "text/plain": [
              "HBox(children=(FloatProgress(value=0.0, max=170498071.0), HTML(value='')))"
            ]
          },
          "metadata": {
            "tags": []
          }
        },
        {
          "output_type": "stream",
          "text": [
            "\n",
            "Extracting CIFAR10/cifar-10-python.tar.gz to CIFAR10/\n",
            "Files already downloaded and verified\n"
          ],
          "name": "stdout"
        }
      ]
    },
    {
      "cell_type": "markdown",
      "metadata": {
        "id": "mZ9PyHpwPYjO"
      },
      "source": [
        "## 2. 대략적인 데이터 형태"
      ]
    },
    {
      "cell_type": "code",
      "metadata": {
        "id": "b6DDXmVsPe8N",
        "colab": {
          "base_uri": "https://localhost:8080/",
          "height": 371
        },
        "outputId": "1d9ebee1-1b05-406f-e8c8-28c814d70d0d"
      },
      "source": [
        "print(\"cifar_train 길이:\", len(cifar_train))\n",
        "print(\"cifar_test 길이:\", len(cifar_test))\n",
        "\n",
        "image, label = cifar_train.__getitem__(1)\n",
        "print(\"image data 형태:\", image.size())\n",
        "print(\"label: \", label)\n",
        "\n",
        "img = image.numpy()\n",
        "\n",
        "r,g,b = img[0,:,:], img[1,:,:], img[2,:,:]\n",
        "img2 = np.zeros((img.shape[1], img.shape[2], img.shape[0]))\n",
        "img2[:,:,0], img2[:,:,1], img2[:,:,2] = r,g,b\n",
        "\n",
        "plt.title(\"label: %d\" %label)\n",
        "plt.imshow(img2, interpolation = 'bicubic')\n",
        "plt.show()"
      ],
      "execution_count": 3,
      "outputs": [
        {
          "output_type": "stream",
          "text": [
            "Clipping input data to the valid range for imshow with RGB data ([0..1] for floats or [0..255] for integers).\n"
          ],
          "name": "stderr"
        },
        {
          "output_type": "stream",
          "text": [
            "cifar_train 길이: 50000\n",
            "cifar_test 길이: 10000\n",
            "image data 형태: torch.Size([3, 32, 32])\n",
            "label:  9\n"
          ],
          "name": "stdout"
        },
        {
          "output_type": "display_data",
          "data": {
            "image/png": "[encoded data removed]",
            "text/plain": [
              "<Figure size 432x288 with 1 Axes>"
            ]
          },
          "metadata": {
            "tags": [],
            "needs_background": "light"
          }
        }
      ]
    },
    {
      "cell_type": "code",
      "metadata": {
        "id": "t6FAtk9bQSXG"
      },
      "source": [
        "def ComputeAccr(dloader, imodel):\n",
        "  correct = 0\n",
        "  total = 0\n",
        "\n",
        "  for j, [imgs, labels] in enumerate(dloader):\n",
        "    img = Variable(imgs, volatile=True)\n",
        "    label = Variable(labels)\n",
        "    output = imodel.forward(img)\n",
        "    _, output_index = torch.max(output, 1)\n",
        "\n",
        "    total += label.size(0)\n",
        "    correct += (output_index == label).sum().float()\n",
        "  print(\"Accuracy of Test Data:{}\".format(100*correct/total))\n",
        "\n",
        "\n"
      ],
      "execution_count": 4,
      "outputs": []
    },
    {
      "cell_type": "markdown",
      "metadata": {
        "id": "XkLcZaBLa8fd"
      },
      "source": [
        "# CNN모델"
      ]
    },
    {
      "cell_type": "code",
      "metadata": {
        "id": "GP5gWG-DQ5Nn",
        "colab": {
          "base_uri": "https://localhost:8080/"
        },
        "outputId": "ea2598ec-932f-4c5d-a769-39f796962a04"
      },
      "source": [
        "train_loader = torch.utils.data.DataLoader(list(cifar_train)[:], batch_size=batch_size, shuffle=True, num_workers= 2, drop_last = True)\n",
        "test_loader = torch.utils.data.DataLoader(cifar_test, batch_size=batch_size, shuffle=False, num_workers = 2, drop_last = True)\n",
        "\n",
        "class CNN(nn.Module):\n",
        "  def __init__(self):\n",
        "    super(CNN,self).__init__()\n",
        "    self.layer = nn.Sequential(\n",
        "        nn.Conv2d(3,16,3, padding=1),\n",
        "        nn.ReLU(),\n",
        "        nn.BatchNorm2d(16),\n",
        "        nn.Conv2d(16,32,3,padding = 1),\n",
        "        nn.ReLU(),\n",
        "        nn.BatchNorm2d(32),\n",
        "        nn.MaxPool2d(2,2),\n",
        "        nn.Conv2d(32, 64, 3, padding = 1),\n",
        "        nn.ReLU(),\n",
        "        nn.BatchNorm2d(64),\n",
        "        nn.MaxPool2d(2,2)\n",
        "    )\n",
        "    self.fc_layer = nn.Sequential(\n",
        "        nn.Linear(64*8*8, 100),\n",
        "        nn.ReLU(),\n",
        "        nn.Dropout2d(0.2),\n",
        "        nn.Linear(100,10)\n",
        "    )\n",
        "\n",
        "    for m in self.modules():\n",
        "      if isinstance(m, nn.Conv2d):\n",
        "        init.kaiming_normal(m.weight.data)\n",
        "        m.bias.data.fill_(0)\n",
        "      if isinstance(m, nn.Linear):\n",
        "        init.kaiming_normal(m.weight.data)\n",
        "        m.bias.data.fill_(0)\n",
        "\n",
        "  def forward(self, x):\n",
        "    out=self.layer(x)\n",
        "    out=out.view(batch_size, -1)\n",
        "    out = self.fc_layer(out)\n",
        "    return out\n",
        "\n",
        "model=CNN()"
      ],
      "execution_count": 5,
      "outputs": [
        {
          "output_type": "stream",
          "text": [
            "/usr/local/lib/python3.7/dist-packages/ipykernel_launcher.py:29: UserWarning: nn.init.kaiming_normal is now deprecated in favor of nn.init.kaiming_normal_.\n",
            "/usr/local/lib/python3.7/dist-packages/ipykernel_launcher.py:32: UserWarning: nn.init.kaiming_normal is now deprecated in favor of nn.init.kaiming_normal_.\n"
          ],
          "name": "stderr"
        }
      ]
    },
    {
      "cell_type": "code",
      "metadata": {
        "colab": {
          "base_uri": "https://localhost:8080/",
          "height": 1000
        },
        "id": "C3Y-ZgP6SlBM",
        "outputId": "2208dfe1-4441-4335-9b0f-e27dc0671dcb"
      },
      "source": [
        "loss_func = nn.CrossEntropyLoss()\n",
        "optimizer = torch.optim.SGD(model.parameters(), lr = learning_rate)\n",
        "scheduler = lr_scheduler.StepLR(optimizer, step_size = 20, gamma = 0.2)\n",
        "\n",
        "num_epoch = 60\n",
        "for i in range(num_epoch):\n",
        "  for j,[image, label] in enumerate(train_loader):\n",
        "    x=Variable(image)\n",
        "    y_=Variable(label)\n",
        "\n",
        "    optimizer.zero_grad()\n",
        "    output=model.forward(x)\n",
        "    loss = loss_func(output,y_)\n",
        "    loss.backward()\n",
        "    optimizer.step()\n",
        "\n",
        "    if j%1000 ==0:\n",
        "      print(j, loss)\n",
        "  accr = ComputeAccr(test_loader, model)\n",
        "  print(\"[Epoch : \",i,\"].. loss : \", loss)\n",
        "\n",
        "    \n",
        "netname = './my_net04.pkl'\n",
        "torch.save(model, netname, )"
      ],
      "execution_count": 6,
      "outputs": [
        {
          "output_type": "stream",
          "text": [
            "0 tensor(4.0915, grad_fn=<NllLossBackward>)\n",
            "1000 tensor(2.0449, grad_fn=<NllLossBackward>)\n",
            "2000 tensor(1.8061, grad_fn=<NllLossBackward>)\n",
            "3000 tensor(1.8537, grad_fn=<NllLossBackward>)\n"
          ],
          "name": "stdout"
        },
        {
          "output_type": "stream",
          "text": [
            "/usr/local/lib/python3.7/dist-packages/ipykernel_launcher.py:6: UserWarning: volatile was removed and now has no effect. Use `with torch.no_grad():` instead.\n",
            "  \n"
          ],
          "name": "stderr"
        },
        {
          "output_type": "stream",
          "text": [
            "Accuracy of Test Data:22.959999084472656\n",
            "[Epoch :  0 ].. loss :  tensor(1.3333, grad_fn=<NllLossBackward>)\n",
            "0 tensor(1.7274, grad_fn=<NllLossBackward>)\n",
            "1000 tensor(1.7120, grad_fn=<NllLossBackward>)\n",
            "2000 tensor(1.4042, grad_fn=<NllLossBackward>)\n",
            "3000 tensor(1.3000, grad_fn=<NllLossBackward>)\n",
            "Accuracy of Test Data:23.149999618530273\n",
            "[Epoch :  1 ].. loss :  tensor(0.9329, grad_fn=<NllLossBackward>)\n",
            "0 tensor(1.5307, grad_fn=<NllLossBackward>)\n",
            "1000 tensor(0.8152, grad_fn=<NllLossBackward>)\n",
            "2000 tensor(0.7907, grad_fn=<NllLossBackward>)\n",
            "3000 tensor(1.2113, grad_fn=<NllLossBackward>)\n",
            "Accuracy of Test Data:24.34000015258789\n",
            "[Epoch :  2 ].. loss :  tensor(1.5897, grad_fn=<NllLossBackward>)\n",
            "0 tensor(1.1034, grad_fn=<NllLossBackward>)\n",
            "1000 tensor(1.3841, grad_fn=<NllLossBackward>)\n",
            "2000 tensor(1.1888, grad_fn=<NllLossBackward>)\n",
            "3000 tensor(0.9449, grad_fn=<NllLossBackward>)\n",
            "Accuracy of Test Data:25.350000381469727\n",
            "[Epoch :  3 ].. loss :  tensor(0.9878, grad_fn=<NllLossBackward>)\n",
            "0 tensor(1.1420, grad_fn=<NllLossBackward>)\n",
            "1000 tensor(1.1965, grad_fn=<NllLossBackward>)\n",
            "2000 tensor(1.7541, grad_fn=<NllLossBackward>)\n",
            "3000 tensor(0.6369, grad_fn=<NllLossBackward>)\n",
            "Accuracy of Test Data:25.520000457763672\n",
            "[Epoch :  4 ].. loss :  tensor(0.7331, grad_fn=<NllLossBackward>)\n",
            "0 tensor(0.7735, grad_fn=<NllLossBackward>)\n",
            "1000 tensor(1.4391, grad_fn=<NllLossBackward>)\n",
            "2000 tensor(0.9600, grad_fn=<NllLossBackward>)\n",
            "3000 tensor(0.8716, grad_fn=<NllLossBackward>)\n",
            "Accuracy of Test Data:26.040000915527344\n",
            "[Epoch :  5 ].. loss :  tensor(1.0605, grad_fn=<NllLossBackward>)\n",
            "0 tensor(0.7483, grad_fn=<NllLossBackward>)\n",
            "1000 tensor(0.9260, grad_fn=<NllLossBackward>)\n",
            "2000 tensor(1.7101, grad_fn=<NllLossBackward>)\n",
            "3000 tensor(0.6336, grad_fn=<NllLossBackward>)\n",
            "Accuracy of Test Data:26.690000534057617\n",
            "[Epoch :  6 ].. loss :  tensor(0.8141, grad_fn=<NllLossBackward>)\n",
            "0 tensor(1.1075, grad_fn=<NllLossBackward>)\n",
            "1000 tensor(0.8746, grad_fn=<NllLossBackward>)\n",
            "2000 tensor(1.2715, grad_fn=<NllLossBackward>)\n",
            "3000 tensor(1.0154, grad_fn=<NllLossBackward>)\n",
            "Accuracy of Test Data:26.860000610351562\n",
            "[Epoch :  7 ].. loss :  tensor(1.1596, grad_fn=<NllLossBackward>)\n",
            "0 tensor(0.8842, grad_fn=<NllLossBackward>)\n",
            "1000 tensor(0.9301, grad_fn=<NllLossBackward>)\n",
            "2000 tensor(1.0212, grad_fn=<NllLossBackward>)\n",
            "3000 tensor(0.7015, grad_fn=<NllLossBackward>)\n",
            "Accuracy of Test Data:27.8799991607666\n",
            "[Epoch :  8 ].. loss :  tensor(0.8505, grad_fn=<NllLossBackward>)\n",
            "0 tensor(0.6748, grad_fn=<NllLossBackward>)\n",
            "1000 tensor(0.8305, grad_fn=<NllLossBackward>)\n",
            "2000 tensor(0.5591, grad_fn=<NllLossBackward>)\n",
            "3000 tensor(1.1707, grad_fn=<NllLossBackward>)\n",
            "Accuracy of Test Data:27.700000762939453\n",
            "[Epoch :  9 ].. loss :  tensor(1.1111, grad_fn=<NllLossBackward>)\n",
            "0 tensor(0.5915, grad_fn=<NllLossBackward>)\n",
            "1000 tensor(0.7898, grad_fn=<NllLossBackward>)\n",
            "2000 tensor(0.6933, grad_fn=<NllLossBackward>)\n",
            "3000 tensor(0.4162, grad_fn=<NllLossBackward>)\n",
            "Accuracy of Test Data:27.579999923706055\n",
            "[Epoch :  10 ].. loss :  tensor(0.5161, grad_fn=<NllLossBackward>)\n",
            "0 tensor(0.7902, grad_fn=<NllLossBackward>)\n",
            "1000 tensor(0.6541, grad_fn=<NllLossBackward>)\n",
            "2000 tensor(0.9850, grad_fn=<NllLossBackward>)\n",
            "3000 tensor(0.9912, grad_fn=<NllLossBackward>)\n",
            "Accuracy of Test Data:27.75\n",
            "[Epoch :  11 ].. loss :  tensor(0.4125, grad_fn=<NllLossBackward>)\n",
            "0 tensor(0.7032, grad_fn=<NllLossBackward>)\n",
            "1000 tensor(0.8568, grad_fn=<NllLossBackward>)\n",
            "2000 tensor(0.6018, grad_fn=<NllLossBackward>)\n",
            "3000 tensor(1.0550, grad_fn=<NllLossBackward>)\n",
            "Accuracy of Test Data:27.25\n",
            "[Epoch :  12 ].. loss :  tensor(1.0751, grad_fn=<NllLossBackward>)\n",
            "0 tensor(0.3305, grad_fn=<NllLossBackward>)\n",
            "1000 tensor(0.6576, grad_fn=<NllLossBackward>)\n",
            "2000 tensor(0.5232, grad_fn=<NllLossBackward>)\n",
            "3000 tensor(0.5821, grad_fn=<NllLossBackward>)\n",
            "Accuracy of Test Data:27.600000381469727\n",
            "[Epoch :  13 ].. loss :  tensor(0.3117, grad_fn=<NllLossBackward>)\n",
            "0 tensor(0.4375, grad_fn=<NllLossBackward>)\n",
            "1000 tensor(0.9596, grad_fn=<NllLossBackward>)\n",
            "2000 tensor(0.7383, grad_fn=<NllLossBackward>)\n",
            "3000 tensor(0.3322, grad_fn=<NllLossBackward>)\n",
            "Accuracy of Test Data:27.940000534057617\n",
            "[Epoch :  14 ].. loss :  tensor(0.4090, grad_fn=<NllLossBackward>)\n",
            "0 tensor(0.6717, grad_fn=<NllLossBackward>)\n",
            "1000 tensor(0.4598, grad_fn=<NllLossBackward>)\n",
            "2000 tensor(0.3898, grad_fn=<NllLossBackward>)\n",
            "3000 tensor(0.3257, grad_fn=<NllLossBackward>)\n",
            "Accuracy of Test Data:27.290000915527344\n",
            "[Epoch :  15 ].. loss :  tensor(0.5927, grad_fn=<NllLossBackward>)\n",
            "0 tensor(0.7794, grad_fn=<NllLossBackward>)\n",
            "1000 tensor(0.4621, grad_fn=<NllLossBackward>)\n",
            "2000 tensor(0.4914, grad_fn=<NllLossBackward>)\n",
            "3000 tensor(0.3640, grad_fn=<NllLossBackward>)\n",
            "Accuracy of Test Data:28.020000457763672\n",
            "[Epoch :  16 ].. loss :  tensor(0.2694, grad_fn=<NllLossBackward>)\n",
            "0 tensor(0.2033, grad_fn=<NllLossBackward>)\n",
            "1000 tensor(0.5821, grad_fn=<NllLossBackward>)\n",
            "2000 tensor(0.3872, grad_fn=<NllLossBackward>)\n",
            "3000 tensor(0.6600, grad_fn=<NllLossBackward>)\n",
            "Accuracy of Test Data:27.309999465942383\n",
            "[Epoch :  17 ].. loss :  tensor(0.5692, grad_fn=<NllLossBackward>)\n",
            "0 tensor(0.5791, grad_fn=<NllLossBackward>)\n",
            "1000 tensor(0.5268, grad_fn=<NllLossBackward>)\n",
            "2000 tensor(0.1929, grad_fn=<NllLossBackward>)\n",
            "3000 tensor(0.3998, grad_fn=<NllLossBackward>)\n",
            "Accuracy of Test Data:27.600000381469727\n",
            "[Epoch :  18 ].. loss :  tensor(0.4273, grad_fn=<NllLossBackward>)\n",
            "0 tensor(0.7222, grad_fn=<NllLossBackward>)\n",
            "1000 tensor(0.2565, grad_fn=<NllLossBackward>)\n",
            "2000 tensor(0.5422, grad_fn=<NllLossBackward>)\n",
            "3000 tensor(0.2932, grad_fn=<NllLossBackward>)\n",
            "Accuracy of Test Data:27.899999618530273\n",
            "[Epoch :  19 ].. loss :  tensor(0.1785, grad_fn=<NllLossBackward>)\n",
            "0 tensor(0.2956, grad_fn=<NllLossBackward>)\n",
            "1000 tensor(0.2815, grad_fn=<NllLossBackward>)\n",
            "2000 tensor(0.8810, grad_fn=<NllLossBackward>)\n",
            "3000 tensor(0.5682, grad_fn=<NllLossBackward>)\n",
            "Accuracy of Test Data:26.920000076293945\n",
            "[Epoch :  20 ].. loss :  tensor(0.3280, grad_fn=<NllLossBackward>)\n",
            "0 tensor(0.4420, grad_fn=<NllLossBackward>)\n",
            "1000 tensor(0.3083, grad_fn=<NllLossBackward>)\n",
            "2000 tensor(0.2368, grad_fn=<NllLossBackward>)\n",
            "3000 tensor(0.2509, grad_fn=<NllLossBackward>)\n",
            "Accuracy of Test Data:28.18000030517578\n",
            "[Epoch :  21 ].. loss :  tensor(0.4064, grad_fn=<NllLossBackward>)\n",
            "0 tensor(0.1667, grad_fn=<NllLossBackward>)\n",
            "1000 tensor(0.4401, grad_fn=<NllLossBackward>)\n",
            "2000 tensor(0.3485, grad_fn=<NllLossBackward>)\n",
            "3000 tensor(0.3298, grad_fn=<NllLossBackward>)\n",
            "Accuracy of Test Data:28.040000915527344\n",
            "[Epoch :  22 ].. loss :  tensor(0.7160, grad_fn=<NllLossBackward>)\n",
            "0 tensor(0.3205, grad_fn=<NllLossBackward>)\n",
            "1000 tensor(0.2704, grad_fn=<NllLossBackward>)\n",
            "2000 tensor(0.3770, grad_fn=<NllLossBackward>)\n",
            "3000 tensor(0.3401, grad_fn=<NllLossBackward>)\n",
            "Accuracy of Test Data:27.81999969482422\n",
            "[Epoch :  23 ].. loss :  tensor(0.5180, grad_fn=<NllLossBackward>)\n",
            "0 tensor(0.3811, grad_fn=<NllLossBackward>)\n",
            "1000 tensor(0.1922, grad_fn=<NllLossBackward>)\n",
            "2000 tensor(0.1690, grad_fn=<NllLossBackward>)\n",
            "3000 tensor(0.3570, grad_fn=<NllLossBackward>)\n",
            "Accuracy of Test Data:26.889999389648438\n",
            "[Epoch :  24 ].. loss :  tensor(0.7154, grad_fn=<NllLossBackward>)\n",
            "0 tensor(0.2242, grad_fn=<NllLossBackward>)\n",
            "1000 tensor(0.2401, grad_fn=<NllLossBackward>)\n",
            "2000 tensor(0.2328, grad_fn=<NllLossBackward>)\n",
            "3000 tensor(0.2892, grad_fn=<NllLossBackward>)\n",
            "Accuracy of Test Data:26.8700008392334\n",
            "[Epoch :  25 ].. loss :  tensor(0.4426, grad_fn=<NllLossBackward>)\n",
            "0 tensor(0.1575, grad_fn=<NllLossBackward>)\n",
            "1000 tensor(0.1621, grad_fn=<NllLossBackward>)\n",
            "2000 tensor(0.1810, grad_fn=<NllLossBackward>)\n",
            "3000 tensor(0.3050, grad_fn=<NllLossBackward>)\n",
            "Accuracy of Test Data:26.469999313354492\n",
            "[Epoch :  26 ].. loss :  tensor(0.0984, grad_fn=<NllLossBackward>)\n",
            "0 tensor(0.3470, grad_fn=<NllLossBackward>)\n",
            "1000 tensor(0.0644, grad_fn=<NllLossBackward>)\n",
            "2000 tensor(0.1943, grad_fn=<NllLossBackward>)\n",
            "3000 tensor(0.6501, grad_fn=<NllLossBackward>)\n",
            "Accuracy of Test Data:26.93000030517578\n",
            "[Epoch :  27 ].. loss :  tensor(0.2282, grad_fn=<NllLossBackward>)\n",
            "0 tensor(0.2645, grad_fn=<NllLossBackward>)\n",
            "1000 tensor(0.4412, grad_fn=<NllLossBackward>)\n",
            "2000 tensor(0.1163, grad_fn=<NllLossBackward>)\n",
            "3000 tensor(0.1817, grad_fn=<NllLossBackward>)\n",
            "Accuracy of Test Data:27.079999923706055\n",
            "[Epoch :  28 ].. loss :  tensor(0.3193, grad_fn=<NllLossBackward>)\n",
            "0 tensor(0.1584, grad_fn=<NllLossBackward>)\n",
            "1000 tensor(0.2849, grad_fn=<NllLossBackward>)\n",
            "2000 tensor(0.4809, grad_fn=<NllLossBackward>)\n",
            "3000 tensor(0.2755, grad_fn=<NllLossBackward>)\n",
            "Accuracy of Test Data:26.420000076293945\n",
            "[Epoch :  29 ].. loss :  tensor(0.2705, grad_fn=<NllLossBackward>)\n",
            "0 tensor(0.2274, grad_fn=<NllLossBackward>)\n",
            "1000 tensor(0.0738, grad_fn=<NllLossBackward>)\n",
            "2000 tensor(0.1829, grad_fn=<NllLossBackward>)\n",
            "3000 tensor(0.3064, grad_fn=<NllLossBackward>)\n",
            "Accuracy of Test Data:27.860000610351562\n",
            "[Epoch :  30 ].. loss :  tensor(0.2945, grad_fn=<NllLossBackward>)\n",
            "0 tensor(0.1978, grad_fn=<NllLossBackward>)\n",
            "1000 tensor(0.1480, grad_fn=<NllLossBackward>)\n",
            "2000 tensor(0.0859, grad_fn=<NllLossBackward>)\n",
            "3000 tensor(0.6634, grad_fn=<NllLossBackward>)\n",
            "Accuracy of Test Data:26.809999465942383\n",
            "[Epoch :  31 ].. loss :  tensor(0.1756, grad_fn=<NllLossBackward>)\n",
            "0 tensor(0.1658, grad_fn=<NllLossBackward>)\n",
            "1000 tensor(0.5129, grad_fn=<NllLossBackward>)\n",
            "2000 tensor(0.2664, grad_fn=<NllLossBackward>)\n",
            "3000 tensor(0.2306, grad_fn=<NllLossBackward>)\n",
            "Accuracy of Test Data:27.5\n",
            "[Epoch :  32 ].. loss :  tensor(0.1072, grad_fn=<NllLossBackward>)\n",
            "0 tensor(0.3712, grad_fn=<NllLossBackward>)\n",
            "1000 tensor(0.0331, grad_fn=<NllLossBackward>)\n",
            "2000 tensor(0.2281, grad_fn=<NllLossBackward>)\n",
            "3000 tensor(0.2507, grad_fn=<NllLossBackward>)\n",
            "Accuracy of Test Data:27.049999237060547\n",
            "[Epoch :  33 ].. loss :  tensor(0.2509, grad_fn=<NllLossBackward>)\n",
            "0 tensor(0.0361, grad_fn=<NllLossBackward>)\n",
            "1000 tensor(0.1870, grad_fn=<NllLossBackward>)\n",
            "2000 tensor(0.6008, grad_fn=<NllLossBackward>)\n",
            "3000 tensor(0.2116, grad_fn=<NllLossBackward>)\n",
            "Accuracy of Test Data:27.40999984741211\n",
            "[Epoch :  34 ].. loss :  tensor(0.3303, grad_fn=<NllLossBackward>)\n",
            "0 tensor(0.1320, grad_fn=<NllLossBackward>)\n",
            "1000 tensor(0.2535, grad_fn=<NllLossBackward>)\n",
            "2000 tensor(0.4284, grad_fn=<NllLossBackward>)\n",
            "3000 tensor(0.2271, grad_fn=<NllLossBackward>)\n",
            "Accuracy of Test Data:26.979999542236328\n",
            "[Epoch :  35 ].. loss :  tensor(0.1394, grad_fn=<NllLossBackward>)\n",
            "0 tensor(0.2766, grad_fn=<NllLossBackward>)\n",
            "1000 tensor(0.2882, grad_fn=<NllLossBackward>)\n",
            "2000 tensor(0.0451, grad_fn=<NllLossBackward>)\n",
            "3000 tensor(0.1143, grad_fn=<NllLossBackward>)\n",
            "Accuracy of Test Data:27.40999984741211\n",
            "[Epoch :  36 ].. loss :  tensor(0.0879, grad_fn=<NllLossBackward>)\n",
            "0 tensor(0.0740, grad_fn=<NllLossBackward>)\n",
            "1000 tensor(0.1075, grad_fn=<NllLossBackward>)\n",
            "2000 tensor(0.4051, grad_fn=<NllLossBackward>)\n",
            "3000 tensor(0.0772, grad_fn=<NllLossBackward>)\n",
            "Accuracy of Test Data:27.020000457763672\n",
            "[Epoch :  37 ].. loss :  tensor(0.1061, grad_fn=<NllLossBackward>)\n",
            "0 tensor(0.5292, grad_fn=<NllLossBackward>)\n",
            "1000 tensor(0.1297, grad_fn=<NllLossBackward>)\n",
            "2000 tensor(0.2135, grad_fn=<NllLossBackward>)\n",
            "3000 tensor(0.0224, grad_fn=<NllLossBackward>)\n",
            "Accuracy of Test Data:27.920000076293945\n",
            "[Epoch :  38 ].. loss :  tensor(0.0291, grad_fn=<NllLossBackward>)\n",
            "0 tensor(0.1714, grad_fn=<NllLossBackward>)\n",
            "1000 tensor(0.0711, grad_fn=<NllLossBackward>)\n",
            "2000 tensor(0.3030, grad_fn=<NllLossBackward>)\n",
            "3000 tensor(0.0417, grad_fn=<NllLossBackward>)\n",
            "Accuracy of Test Data:26.90999984741211\n",
            "[Epoch :  39 ].. loss :  tensor(0.0505, grad_fn=<NllLossBackward>)\n",
            "0 tensor(0.0132, grad_fn=<NllLossBackward>)\n",
            "1000 tensor(0.2185, grad_fn=<NllLossBackward>)\n",
            "2000 tensor(0.2105, grad_fn=<NllLossBackward>)\n"
          ],
          "name": "stdout"
        },
        {
          "output_type": "error",
          "ename": "KeyboardInterrupt",
          "evalue": "ignored",
          "traceback": [
            "\u001b[0;31m---------------------------------------------------------------------------\u001b[0m",
            "\u001b[0;31mKeyboardInterrupt\u001b[0m                         Traceback (most recent call last)",
            "\u001b[0;32m<ipython-input-6-de958ba84c9b>\u001b[0m in \u001b[0;36m<module>\u001b[0;34m()\u001b[0m\n\u001b[1;32m     10\u001b[0m \u001b[0;34m\u001b[0m\u001b[0m\n\u001b[1;32m     11\u001b[0m     \u001b[0moptimizer\u001b[0m\u001b[0;34m.\u001b[0m\u001b[0mzero_grad\u001b[0m\u001b[0;34m(\u001b[0m\u001b[0;34m)\u001b[0m\u001b[0;34m\u001b[0m\u001b[0;34m\u001b[0m\u001b[0m\n\u001b[0;32m---> 12\u001b[0;31m     \u001b[0moutput\u001b[0m\u001b[0;34m=\u001b[0m\u001b[0mmodel\u001b[0m\u001b[0;34m.\u001b[0m\u001b[0mforward\u001b[0m\u001b[0;34m(\u001b[0m\u001b[0mx\u001b[0m\u001b[0;34m)\u001b[0m\u001b[0;34m\u001b[0m\u001b[0;34m\u001b[0m\u001b[0m\n\u001b[0m\u001b[1;32m     13\u001b[0m     \u001b[0mloss\u001b[0m \u001b[0;34m=\u001b[0m \u001b[0mloss_func\u001b[0m\u001b[0;34m(\u001b[0m\u001b[0moutput\u001b[0m\u001b[0;34m,\u001b[0m\u001b[0my_\u001b[0m\u001b[0;34m)\u001b[0m\u001b[0;34m\u001b[0m\u001b[0;34m\u001b[0m\u001b[0m\n\u001b[1;32m     14\u001b[0m     \u001b[0mloss\u001b[0m\u001b[0;34m.\u001b[0m\u001b[0mbackward\u001b[0m\u001b[0;34m(\u001b[0m\u001b[0;34m)\u001b[0m\u001b[0;34m\u001b[0m\u001b[0;34m\u001b[0m\u001b[0m\n",
            "\u001b[0;32m<ipython-input-5-88ba097757c2>\u001b[0m in \u001b[0;36mforward\u001b[0;34m(self, x)\u001b[0m\n\u001b[1;32m     34\u001b[0m \u001b[0;34m\u001b[0m\u001b[0m\n\u001b[1;32m     35\u001b[0m   \u001b[0;32mdef\u001b[0m \u001b[0mforward\u001b[0m\u001b[0;34m(\u001b[0m\u001b[0mself\u001b[0m\u001b[0;34m,\u001b[0m \u001b[0mx\u001b[0m\u001b[0;34m)\u001b[0m\u001b[0;34m:\u001b[0m\u001b[0;34m\u001b[0m\u001b[0;34m\u001b[0m\u001b[0m\n\u001b[0;32m---> 36\u001b[0;31m     \u001b[0mout\u001b[0m\u001b[0;34m=\u001b[0m\u001b[0mself\u001b[0m\u001b[0;34m.\u001b[0m\u001b[0mlayer\u001b[0m\u001b[0;34m(\u001b[0m\u001b[0mx\u001b[0m\u001b[0;34m)\u001b[0m\u001b[0;34m\u001b[0m\u001b[0;34m\u001b[0m\u001b[0m\n\u001b[0m\u001b[1;32m     37\u001b[0m     \u001b[0mout\u001b[0m\u001b[0;34m=\u001b[0m\u001b[0mout\u001b[0m\u001b[0;34m.\u001b[0m\u001b[0mview\u001b[0m\u001b[0;34m(\u001b[0m\u001b[0mbatch_size\u001b[0m\u001b[0;34m,\u001b[0m \u001b[0;34m-\u001b[0m\u001b[0;36m1\u001b[0m\u001b[0;34m)\u001b[0m\u001b[0;34m\u001b[0m\u001b[0;34m\u001b[0m\u001b[0m\n\u001b[1;32m     38\u001b[0m     \u001b[0mout\u001b[0m \u001b[0;34m=\u001b[0m \u001b[0mself\u001b[0m\u001b[0;34m.\u001b[0m\u001b[0mfc_layer\u001b[0m\u001b[0;34m(\u001b[0m\u001b[0mout\u001b[0m\u001b[0;34m)\u001b[0m\u001b[0;34m\u001b[0m\u001b[0;34m\u001b[0m\u001b[0m\n",
            "\u001b[0;32m/usr/local/lib/python3.7/dist-packages/torch/nn/modules/module.py\u001b[0m in \u001b[0;36m_call_impl\u001b[0;34m(self, *input, **kwargs)\u001b[0m\n\u001b[1;32m    887\u001b[0m             \u001b[0mresult\u001b[0m \u001b[0;34m=\u001b[0m \u001b[0mself\u001b[0m\u001b[0;34m.\u001b[0m\u001b[0m_slow_forward\u001b[0m\u001b[0;34m(\u001b[0m\u001b[0;34m*\u001b[0m\u001b[0minput\u001b[0m\u001b[0;34m,\u001b[0m \u001b[0;34m**\u001b[0m\u001b[0mkwargs\u001b[0m\u001b[0;34m)\u001b[0m\u001b[0;34m\u001b[0m\u001b[0;34m\u001b[0m\u001b[0m\n\u001b[1;32m    888\u001b[0m         \u001b[0;32melse\u001b[0m\u001b[0;34m:\u001b[0m\u001b[0;34m\u001b[0m\u001b[0;34m\u001b[0m\u001b[0m\n\u001b[0;32m--> 889\u001b[0;31m             \u001b[0mresult\u001b[0m \u001b[0;34m=\u001b[0m \u001b[0mself\u001b[0m\u001b[0;34m.\u001b[0m\u001b[0mforward\u001b[0m\u001b[0;34m(\u001b[0m\u001b[0;34m*\u001b[0m\u001b[0minput\u001b[0m\u001b[0;34m,\u001b[0m \u001b[0;34m**\u001b[0m\u001b[0mkwargs\u001b[0m\u001b[0;34m)\u001b[0m\u001b[0;34m\u001b[0m\u001b[0;34m\u001b[0m\u001b[0m\n\u001b[0m\u001b[1;32m    890\u001b[0m         for hook in itertools.chain(\n\u001b[1;32m    891\u001b[0m                 \u001b[0m_global_forward_hooks\u001b[0m\u001b[0;34m.\u001b[0m\u001b[0mvalues\u001b[0m\u001b[0;34m(\u001b[0m\u001b[0;34m)\u001b[0m\u001b[0;34m,\u001b[0m\u001b[0;34m\u001b[0m\u001b[0;34m\u001b[0m\u001b[0m\n",
            "\u001b[0;32m/usr/local/lib/python3.7/dist-packages/torch/nn/modules/container.py\u001b[0m in \u001b[0;36mforward\u001b[0;34m(self, input)\u001b[0m\n\u001b[1;32m    117\u001b[0m     \u001b[0;32mdef\u001b[0m \u001b[0mforward\u001b[0m\u001b[0;34m(\u001b[0m\u001b[0mself\u001b[0m\u001b[0;34m,\u001b[0m \u001b[0minput\u001b[0m\u001b[0;34m)\u001b[0m\u001b[0;34m:\u001b[0m\u001b[0;34m\u001b[0m\u001b[0;34m\u001b[0m\u001b[0m\n\u001b[1;32m    118\u001b[0m         \u001b[0;32mfor\u001b[0m \u001b[0mmodule\u001b[0m \u001b[0;32min\u001b[0m \u001b[0mself\u001b[0m\u001b[0;34m:\u001b[0m\u001b[0;34m\u001b[0m\u001b[0;34m\u001b[0m\u001b[0m\n\u001b[0;32m--> 119\u001b[0;31m             \u001b[0minput\u001b[0m \u001b[0;34m=\u001b[0m \u001b[0mmodule\u001b[0m\u001b[0;34m(\u001b[0m\u001b[0minput\u001b[0m\u001b[0;34m)\u001b[0m\u001b[0;34m\u001b[0m\u001b[0;34m\u001b[0m\u001b[0m\n\u001b[0m\u001b[1;32m    120\u001b[0m         \u001b[0;32mreturn\u001b[0m \u001b[0minput\u001b[0m\u001b[0;34m\u001b[0m\u001b[0;34m\u001b[0m\u001b[0m\n\u001b[1;32m    121\u001b[0m \u001b[0;34m\u001b[0m\u001b[0m\n",
            "\u001b[0;32m/usr/local/lib/python3.7/dist-packages/torch/nn/modules/module.py\u001b[0m in \u001b[0;36m_call_impl\u001b[0;34m(self, *input, **kwargs)\u001b[0m\n\u001b[1;32m    887\u001b[0m             \u001b[0mresult\u001b[0m \u001b[0;34m=\u001b[0m \u001b[0mself\u001b[0m\u001b[0;34m.\u001b[0m\u001b[0m_slow_forward\u001b[0m\u001b[0;34m(\u001b[0m\u001b[0;34m*\u001b[0m\u001b[0minput\u001b[0m\u001b[0;34m,\u001b[0m \u001b[0;34m**\u001b[0m\u001b[0mkwargs\u001b[0m\u001b[0;34m)\u001b[0m\u001b[0;34m\u001b[0m\u001b[0;34m\u001b[0m\u001b[0m\n\u001b[1;32m    888\u001b[0m         \u001b[0;32melse\u001b[0m\u001b[0;34m:\u001b[0m\u001b[0;34m\u001b[0m\u001b[0;34m\u001b[0m\u001b[0m\n\u001b[0;32m--> 889\u001b[0;31m             \u001b[0mresult\u001b[0m \u001b[0;34m=\u001b[0m \u001b[0mself\u001b[0m\u001b[0;34m.\u001b[0m\u001b[0mforward\u001b[0m\u001b[0;34m(\u001b[0m\u001b[0;34m*\u001b[0m\u001b[0minput\u001b[0m\u001b[0;34m,\u001b[0m \u001b[0;34m**\u001b[0m\u001b[0mkwargs\u001b[0m\u001b[0;34m)\u001b[0m\u001b[0;34m\u001b[0m\u001b[0;34m\u001b[0m\u001b[0m\n\u001b[0m\u001b[1;32m    890\u001b[0m         for hook in itertools.chain(\n\u001b[1;32m    891\u001b[0m                 \u001b[0m_global_forward_hooks\u001b[0m\u001b[0;34m.\u001b[0m\u001b[0mvalues\u001b[0m\u001b[0;34m(\u001b[0m\u001b[0;34m)\u001b[0m\u001b[0;34m,\u001b[0m\u001b[0;34m\u001b[0m\u001b[0;34m\u001b[0m\u001b[0m\n",
            "\u001b[0;32m/usr/local/lib/python3.7/dist-packages/torch/nn/modules/pooling.py\u001b[0m in \u001b[0;36mforward\u001b[0;34m(self, input)\u001b[0m\n\u001b[1;32m    162\u001b[0m         return F.max_pool2d(input, self.kernel_size, self.stride,\n\u001b[1;32m    163\u001b[0m                             \u001b[0mself\u001b[0m\u001b[0;34m.\u001b[0m\u001b[0mpadding\u001b[0m\u001b[0;34m,\u001b[0m \u001b[0mself\u001b[0m\u001b[0;34m.\u001b[0m\u001b[0mdilation\u001b[0m\u001b[0;34m,\u001b[0m \u001b[0mself\u001b[0m\u001b[0;34m.\u001b[0m\u001b[0mceil_mode\u001b[0m\u001b[0;34m,\u001b[0m\u001b[0;34m\u001b[0m\u001b[0;34m\u001b[0m\u001b[0m\n\u001b[0;32m--> 164\u001b[0;31m                             self.return_indices)\n\u001b[0m\u001b[1;32m    165\u001b[0m \u001b[0;34m\u001b[0m\u001b[0m\n\u001b[1;32m    166\u001b[0m \u001b[0;34m\u001b[0m\u001b[0m\n",
            "\u001b[0;32m/usr/local/lib/python3.7/dist-packages/torch/_jit_internal.py\u001b[0m in \u001b[0;36mfn\u001b[0;34m(*args, **kwargs)\u001b[0m\n\u001b[1;32m    363\u001b[0m             \u001b[0;32mreturn\u001b[0m \u001b[0mif_true\u001b[0m\u001b[0;34m(\u001b[0m\u001b[0;34m*\u001b[0m\u001b[0margs\u001b[0m\u001b[0;34m,\u001b[0m \u001b[0;34m**\u001b[0m\u001b[0mkwargs\u001b[0m\u001b[0;34m)\u001b[0m\u001b[0;34m\u001b[0m\u001b[0;34m\u001b[0m\u001b[0m\n\u001b[1;32m    364\u001b[0m         \u001b[0;32melse\u001b[0m\u001b[0;34m:\u001b[0m\u001b[0;34m\u001b[0m\u001b[0;34m\u001b[0m\u001b[0m\n\u001b[0;32m--> 365\u001b[0;31m             \u001b[0;32mreturn\u001b[0m \u001b[0mif_false\u001b[0m\u001b[0;34m(\u001b[0m\u001b[0;34m*\u001b[0m\u001b[0margs\u001b[0m\u001b[0;34m,\u001b[0m \u001b[0;34m**\u001b[0m\u001b[0mkwargs\u001b[0m\u001b[0;34m)\u001b[0m\u001b[0;34m\u001b[0m\u001b[0;34m\u001b[0m\u001b[0m\n\u001b[0m\u001b[1;32m    366\u001b[0m \u001b[0;34m\u001b[0m\u001b[0m\n\u001b[1;32m    367\u001b[0m     \u001b[0;32mif\u001b[0m \u001b[0mif_true\u001b[0m\u001b[0;34m.\u001b[0m\u001b[0m__doc__\u001b[0m \u001b[0;32mis\u001b[0m \u001b[0;32mNone\u001b[0m \u001b[0;32mand\u001b[0m \u001b[0mif_false\u001b[0m\u001b[0;34m.\u001b[0m\u001b[0m__doc__\u001b[0m \u001b[0;32mis\u001b[0m \u001b[0;32mnot\u001b[0m \u001b[0;32mNone\u001b[0m\u001b[0;34m:\u001b[0m\u001b[0;34m\u001b[0m\u001b[0;34m\u001b[0m\u001b[0m\n",
            "\u001b[0;32m/usr/local/lib/python3.7/dist-packages/torch/nn/functional.py\u001b[0m in \u001b[0;36m_max_pool2d\u001b[0;34m(input, kernel_size, stride, padding, dilation, ceil_mode, return_indices)\u001b[0m\n\u001b[1;32m    657\u001b[0m     \u001b[0;32mif\u001b[0m \u001b[0mstride\u001b[0m \u001b[0;32mis\u001b[0m \u001b[0;32mNone\u001b[0m\u001b[0;34m:\u001b[0m\u001b[0;34m\u001b[0m\u001b[0;34m\u001b[0m\u001b[0m\n\u001b[1;32m    658\u001b[0m         \u001b[0mstride\u001b[0m \u001b[0;34m=\u001b[0m \u001b[0mtorch\u001b[0m\u001b[0;34m.\u001b[0m\u001b[0mjit\u001b[0m\u001b[0;34m.\u001b[0m\u001b[0mannotate\u001b[0m\u001b[0;34m(\u001b[0m\u001b[0mList\u001b[0m\u001b[0;34m[\u001b[0m\u001b[0mint\u001b[0m\u001b[0;34m]\u001b[0m\u001b[0;34m,\u001b[0m \u001b[0;34m[\u001b[0m\u001b[0;34m]\u001b[0m\u001b[0;34m)\u001b[0m\u001b[0;34m\u001b[0m\u001b[0;34m\u001b[0m\u001b[0m\n\u001b[0;32m--> 659\u001b[0;31m     \u001b[0;32mreturn\u001b[0m \u001b[0mtorch\u001b[0m\u001b[0;34m.\u001b[0m\u001b[0mmax_pool2d\u001b[0m\u001b[0;34m(\u001b[0m\u001b[0minput\u001b[0m\u001b[0;34m,\u001b[0m \u001b[0mkernel_size\u001b[0m\u001b[0;34m,\u001b[0m \u001b[0mstride\u001b[0m\u001b[0;34m,\u001b[0m \u001b[0mpadding\u001b[0m\u001b[0;34m,\u001b[0m \u001b[0mdilation\u001b[0m\u001b[0;34m,\u001b[0m \u001b[0mceil_mode\u001b[0m\u001b[0;34m)\u001b[0m\u001b[0;34m\u001b[0m\u001b[0;34m\u001b[0m\u001b[0m\n\u001b[0m\u001b[1;32m    660\u001b[0m \u001b[0;34m\u001b[0m\u001b[0m\n\u001b[1;32m    661\u001b[0m \u001b[0;34m\u001b[0m\u001b[0m\n",
            "\u001b[0;31mKeyboardInterrupt\u001b[0m: "
          ]
        }
      ]
    },
    {
      "cell_type": "markdown",
      "metadata": {
        "id": "7hEBBw2tVkoC"
      },
      "source": [
        "## print Accr"
      ]
    }
  ]
}