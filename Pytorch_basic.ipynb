{
  "nbformat": 4,
  "nbformat_minor": 0,
  "metadata": {
    "colab": {
      "name": "Pytorch_basic.ipynb",
      "provenance": []
    },
    "kernelspec": {
      "name": "python3",
      "display_name": "Python 3"
    },
    "language_info": {
      "name": "python"
    }
  },
  "cells": [
    {
      "cell_type": "markdown",
      "metadata": {
        "id": "6nqLsN3ClXvD"
      },
      "source": [
        "# Pytorch_basic"
      ]
    },
    {
      "cell_type": "code",
      "metadata": {
        "id": "xonwgyU-lV7g"
      },
      "source": [
        "import torch"
      ],
      "execution_count": 3,
      "outputs": []
    },
    {
      "cell_type": "code",
      "metadata": {
        "colab": {
          "base_uri": "https://localhost:8080/"
        },
        "id": "-u8NZ8GalcxL",
        "outputId": "534ac745-167e-4b20-c41d-e843b5566863"
      },
      "source": [
        "x = torch.rand(2,3,2)\n",
        "print_val(x)\n",
        "\n",
        "x= torch.randn(2,3)\n",
        "print_val(x)"
      ],
      "execution_count": 4,
      "outputs": [
        {
          "output_type": "stream",
          "text": [
            "Type:  <class 'torch.Tensor'>\n",
            "Shape:  torch.Size([2, 3, 2])\n",
            "값: \n",
            ", tensor([[[0.6329, 0.1799],\n",
            "         [0.0737, 0.8015],\n",
            "         [0.9789, 0.0625]],\n",
            "\n",
            "        [[0.8946, 0.4092],\n",
            "         [0.3183, 0.9194],\n",
            "         [0.1689, 0.7614]]])\n",
            " \n",
            "Type:  <class 'torch.Tensor'>\n",
            "Shape:  torch.Size([2, 3])\n",
            "값: \n",
            ", tensor([[ 0.7394, -0.1555, -0.8707],\n",
            "        [ 1.3317,  2.3288,  1.2981]])\n",
            " \n"
          ],
          "name": "stdout"
        }
      ]
    },
    {
      "cell_type": "code",
      "metadata": {
        "colab": {
          "base_uri": "https://localhost:8080/"
        },
        "id": "t4wscTGzl00Q",
        "outputId": "f55b6b84-4607-4ae5-c692-5e6b5f66ff03"
      },
      "source": [
        "x = torch.randperm(4)\n",
        "print_val(x)"
      ],
      "execution_count": 5,
      "outputs": [
        {
          "output_type": "stream",
          "text": [
            "Type:  <class 'torch.Tensor'>\n",
            "Shape:  torch.Size([4])\n",
            "값: \n",
            ", tensor([1, 0, 3, 2])\n",
            " \n"
          ],
          "name": "stdout"
        }
      ]
    },
    {
      "cell_type": "code",
      "metadata": {
        "colab": {
          "base_uri": "https://localhost:8080/"
        },
        "id": "U8ihmn_6l4q4",
        "outputId": "90ed4960-1662-4573-a610-28ddc5ad28e5"
      },
      "source": [
        "x = torch.arange(0,3, step= 0.5)\n",
        "print_val(x)"
      ],
      "execution_count": 6,
      "outputs": [
        {
          "output_type": "stream",
          "text": [
            "Type:  <class 'torch.Tensor'>\n",
            "Shape:  torch.Size([6])\n",
            "값: \n",
            ", tensor([0.0000, 0.5000, 1.0000, 1.5000, 2.0000, 2.5000])\n",
            " \n"
          ],
          "name": "stdout"
        }
      ]
    },
    {
      "cell_type": "code",
      "metadata": {
        "colab": {
          "base_uri": "https://localhost:8080/"
        },
        "id": "n5arv564l9qP",
        "outputId": "92baebf6-7acc-4440-9c5f-a51f6e1ccdb9"
      },
      "source": [
        "print_val(torch.ones(3,4))\n",
        "print_val(torch.zeros(3,4))"
      ],
      "execution_count": 7,
      "outputs": [
        {
          "output_type": "stream",
          "text": [
            "Type:  <class 'torch.Tensor'>\n",
            "Shape:  torch.Size([3, 4])\n",
            "값: \n",
            ", tensor([[1., 1., 1., 1.],\n",
            "        [1., 1., 1., 1.],\n",
            "        [1., 1., 1., 1.]])\n",
            " \n",
            "Type:  <class 'torch.Tensor'>\n",
            "Shape:  torch.Size([3, 4])\n",
            "값: \n",
            ", tensor([[0., 0., 0., 0.],\n",
            "        [0., 0., 0., 0.],\n",
            "        [0., 0., 0., 0.]])\n",
            " \n"
          ],
          "name": "stdout"
        }
      ]
    },
    {
      "cell_type": "code",
      "metadata": {
        "colab": {
          "base_uri": "https://localhost:8080/"
        },
        "id": "BH7MuF0xmDk4",
        "outputId": "5e9aa6c5-25e4-4ae7-e80e-a3c1f28a7735"
      },
      "source": [
        "print_val(torch.Tensor(2,4))"
      ],
      "execution_count": 8,
      "outputs": [
        {
          "output_type": "stream",
          "text": [
            "Type:  <class 'torch.Tensor'>\n",
            "Shape:  torch.Size([2, 4])\n",
            "값: \n",
            ", tensor([[3.6783e+09, 3.0918e-41, 3.7835e-44, 0.0000e+00],\n",
            "        [       nan, 1.8427e+00, 1.3733e-14, 6.4069e+02]])\n",
            " \n"
          ],
          "name": "stdout"
        }
      ]
    },
    {
      "cell_type": "code",
      "metadata": {
        "colab": {
          "base_uri": "https://localhost:8080/"
        },
        "id": "aQtjdl5VmHfv",
        "outputId": "857b4e1f-ac2f-4160-f69e-61034313631b"
      },
      "source": [
        "print_val(torch.Tensor([2,3]))\n",
        "print_val(torch.Tensor([[2,3],[3,4]]))"
      ],
      "execution_count": 11,
      "outputs": [
        {
          "output_type": "stream",
          "text": [
            "Type:  <class 'torch.Tensor'>\n",
            "Shape:  torch.Size([2])\n",
            "값: \n",
            ", tensor([2., 3.])\n",
            " \n",
            "Type:  <class 'torch.Tensor'>\n",
            "Shape:  torch.Size([2, 2])\n",
            "값: \n",
            ", tensor([[2., 3.],\n",
            "        [3., 4.]])\n",
            " \n"
          ],
          "name": "stdout"
        }
      ]
    },
    {
      "cell_type": "code",
      "metadata": {
        "colab": {
          "base_uri": "https://localhost:8080/"
        },
        "id": "Bb0yR0P2mNg-",
        "outputId": "88f77214-a56e-47e6-e605-d8ea16313084"
      },
      "source": [
        "x = torch.FloatTensor(2,3)\n",
        "print_val(x)\n",
        "\n",
        "x= x.type_as(torch.IntTensor())\n",
        "print_val(x)"
      ],
      "execution_count": 12,
      "outputs": [
        {
          "output_type": "stream",
          "text": [
            "Type:  <class 'torch.Tensor'>\n",
            "Shape:  torch.Size([2, 3])\n",
            "값: \n",
            ", tensor([[6.4567e+09, 3.0918e-41, 0.0000e+00],\n",
            "        [0.0000e+00, 0.0000e+00, 0.0000e+00]])\n",
            " \n",
            "Type:  <class 'torch.Tensor'>\n",
            "Shape:  torch.Size([2, 3])\n",
            "값: \n",
            ", tensor([[-2147483648,           0,           0],\n",
            "        [          0,           0,           0]], dtype=torch.int32)\n",
            " \n"
          ],
          "name": "stdout"
        }
      ]
    },
    {
      "cell_type": "code",
      "metadata": {
        "colab": {
          "base_uri": "https://localhost:8080/"
        },
        "id": "965QOt03mdTl",
        "outputId": "2ef0630a-41c5-4952-955a-c30bd5727250"
      },
      "source": [
        "torch.FloatTensor(3,4,5).size()"
      ],
      "execution_count": 13,
      "outputs": [
        {
          "output_type": "execute_result",
          "data": {
            "text/plain": [
              "torch.Size([3, 4, 5])"
            ]
          },
          "metadata": {
            "tags": []
          },
          "execution_count": 13
        }
      ]
    },
    {
      "cell_type": "code",
      "metadata": {
        "colab": {
          "base_uri": "https://localhost:8080/"
        },
        "id": "M3651gRtmhPz",
        "outputId": "60bc9b07-c6e4-49f6-b8ee-e4efe64429d7"
      },
      "source": [
        "import numpy as np\n",
        "np_x = np.ndarray((2,3), dtype = int)\n",
        "print_val(np_x)\n",
        "\n",
        "x = torch.from_numpy(np_x)\n",
        "print_val(x)"
      ],
      "execution_count": 14,
      "outputs": [
        {
          "output_type": "stream",
          "text": [
            "Type:  <class 'numpy.ndarray'>\n",
            "Shape:  (2, 3)\n",
            "값: \n",
            ", [[94765496496592              0              0]\n",
            " [             0              0              0]]\n",
            " \n",
            "Type:  <class 'torch.Tensor'>\n",
            "Shape:  torch.Size([2, 3])\n",
            "값: \n",
            ", tensor([[94765496496592,              0,              0],\n",
            "        [             0,              0,              0]])\n",
            " \n"
          ],
          "name": "stdout"
        }
      ]
    }
  ]
}